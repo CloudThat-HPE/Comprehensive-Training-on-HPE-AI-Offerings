{
 "cells": [
  {
   "cell_type": "markdown",
   "id": "82daedb2",
   "metadata": {},
   "source": [
    "On instance, create a temporary workspace directory, fraud-detection example,"
   ]
  },
  {
   "cell_type": "code",
   "execution_count": 1,
   "id": "8110e345",
   "metadata": {},
   "outputs": [],
   "source": [
    "!mkdir workspace\n",
    "!cp -r examples/fraud-detection workspace/\n",
    "!cp -r examples/utils/gen-cert workspace/fraud-detection/"
   ]
  },
  {
   "cell_type": "markdown",
   "id": "36c7a02d",
   "metadata": {},
   "source": [
    "This example has a separate private data-and-scratch directories for each user or ML node. Create the respective directories and copy data-and-scratch directory. Running this example creates a scratch directory for each user and saves the trained Swarm model in the directory at the end of the training."
   ]
  },
  {
   "cell_type": "code",
   "execution_count": 2,
   "id": "d720dbc3",
   "metadata": {},
   "outputs": [],
   "source": [
    "!mkdir workspace/fraud-detection/user1 workspace/fraud-detection/user2\n",
    "!mkdir workspace/fraud-detection/user3 workspace/fraud-detection/user4\n",
    "!cp -r workspace/fraud-detection/data-and-scratch workspace/fraud-detection/user1/\n",
    "!cp -r workspace/fraud-detection/data-and-scratch workspace/fraud-detection/user2/\n",
    "!cp -r workspace/fraud-detection/data-and-scratch workspace/fraud-detection/user3/\n",
    "!mv workspace/fraud-detection/data-and-scratch workspace/fraud-detection/user4/"
   ]
  },
  {
   "cell_type": "markdown",
   "id": "0eea123a",
   "metadata": {},
   "source": [
    "Run the gen-cert utility to generate certificates for each Swarm component using the command, gen-cert -e <EXAMPLE-NAME> -i <HOST-INDEX>."
   ]
  },
  {
   "cell_type": "code",
   "execution_count": 17,
   "id": "eae1193d",
   "metadata": {},
   "outputs": [
    {
     "name": "stdout",
     "output_type": "stream",
     "text": [
      "Generating a RSA private key\n",
      "........+++++\n",
      "..........................+++++\n",
      "writing new private key to 'workspace/fraud-detection/cert/ca/ca-1-key.pem'\n",
      "-----\n",
      "./workspace/fraud-detection/gen-cert: line 55: local: can only be used in a function\n",
      "Signature ok\n",
      "subject=OU = Swarm-Learning, CN = CA-1\n",
      "Getting Private key\n",
      "./workspace/fraud-detection/gen-cert: line 69: local: can only be used in a function\n",
      "Generating a RSA private key\n",
      "....................................................................................................................................................+++++\n",
      ".................................+++++\n",
      "writing new private key to 'workspace/fraud-detection/cert/sn-1-key.pem'\n",
      "-----\n",
      "Signature ok\n",
      "subject=OU = Swarm-Learning, CN = SN-1\n",
      "Getting CA Private Key\n",
      "Generating a RSA private key\n",
      ".......................................................................+++++\n",
      ".......+++++\n",
      "writing new private key to 'workspace/fraud-detection/cert/sl-1-key.pem'\n",
      "-----\n",
      "Signature ok\n",
      "subject=OU = Swarm-Learning, CN = SL-1\n",
      "Getting CA Private Key\n",
      "Generating a RSA private key\n",
      "...............................................................+++++\n",
      ".....................+++++\n",
      "writing new private key to 'workspace/fraud-detection/cert/swci-1-key.pem'\n",
      "-----\n",
      "Signature ok\n",
      "subject=OU = Swarm-Learning, CN = SWCI-1\n",
      "Getting CA Private Key\n",
      "Generating a RSA private key\n",
      "..........................................+++++\n",
      ".......................................................................................................................+++++\n",
      "writing new private key to 'workspace/fraud-detection/cert/swop-1-key.pem'\n",
      "-----\n",
      "Signature ok\n",
      "subject=OU = Swarm-Learning, CN = SWOP-1\n",
      "Getting CA Private Key\n"
     ]
    }
   ],
   "source": [
    "!./workspace/fraud-detection/gen-cert -e fraud-detection -i 1"
   ]
  },
  {
   "cell_type": "markdown",
   "id": "e112cd1f",
   "metadata": {},
   "source": [
    "Search and replace all occurrences of <CURRENT-PATH> tag in swarm_fd_task.yaml and swop1_profile.yaml files with $(pwd)."
   ]
  },
  {
   "cell_type": "code",
   "execution_count": 18,
   "id": "31169f8c",
   "metadata": {},
   "outputs": [],
   "source": [
    "!sed -i \"s+<CURRENT-PATH>+$(pwd)+g\" workspace/fraud-detection/swop/swop*_profile.yaml workspace/fraud-detection/swci/taskdefs/swarm_fd_task.yaml"
   ]
  },
  {
   "cell_type": "markdown",
   "id": "809cd292",
   "metadata": {},
   "source": [
    "Create a docker volume and copy Swarm Learning wheel file."
   ]
  },
  {
   "cell_type": "code",
   "execution_count": 19,
   "id": "681a9efc",
   "metadata": {},
   "outputs": [
    {
     "name": "stdout",
     "output_type": "stream",
     "text": [
      "sl-cli-lib\n",
      "sl-cli-lib\n",
      "5f3cdca40b90c896259d89d118e3ac6bd46bd6da239c622ab64fba2c7aa5ccfa\n",
      "helper\n"
     ]
    }
   ],
   "source": [
    "!docker volume rm sl-cli-lib\n",
    "!docker volume create sl-cli-lib\n",
    "!docker container create --name helper -v sl-cli-lib:/data hello-world\n",
    "!docker cp -L lib/swarmlearning-client-py3-none-manylinux_2_24_x86_64.whl helper:/data\n",
    "!docker rm helper"
   ]
  },
  {
   "cell_type": "markdown",
   "id": "21c9c058",
   "metadata": {},
   "source": [
    "Create a docker network for SN, SWOP, SWCI, SL, and user containers running on the same host."
   ]
  },
  {
   "cell_type": "code",
   "execution_count": 20,
   "id": "a30beb12",
   "metadata": {},
   "outputs": [
    {
     "name": "stdout",
     "output_type": "stream",
     "text": [
      "b8a11de84103dd5b7798aa80c67b3115e57c60968d1c2cf902e6639feb2b4f65\r\n"
     ]
    }
   ],
   "source": [
    "!docker network create host-1-net"
   ]
  },
  {
   "cell_type": "markdown",
   "id": "1800a8c3",
   "metadata": {},
   "source": [
    "Run Swarm Network node (SN1) - sentinel node."
   ]
  },
  {
   "cell_type": "code",
   "execution_count": 21,
   "id": "95d9c014",
   "metadata": {},
   "outputs": [
    {
     "name": "stdout",
     "output_type": "stream",
     "text": [
      "5610c5332a5b42341ea5f585c471673e77796dbb0f4c986b238f4989b592882a\r\n"
     ]
    }
   ],
   "source": [
    "!./scripts/bin/run-sn -d --rm --name=sn1 --network=host-1-net --host-ip=sn1 --sentinel --key=workspace/fraud-detection/cert/sn-1-key.pem --cert=workspace/fraud-detection/cert/sn-1-cert.pem --capath=workspace/fraud-detection/cert/ca/capath --apls-ip=10.128.0.8"
   ]
  },
  {
   "cell_type": "code",
   "execution_count": 22,
   "id": "ee18ef68",
   "metadata": {},
   "outputs": [
    {
     "name": "stdout",
     "output_type": "stream",
     "text": [
      "CONTAINER ID   IMAGE                                                              COMMAND                  CREATED         STATUS         PORTS     NAMES\r\n",
      "5610c5332a5b   hub.myenterpriselicense.hpe.com/hpe_eval/swarm-learning/sn:1.2.0   \"/usr/bin/python3 -c…\"   4 seconds ago   Up 2 seconds             sn1\r\n"
     ]
    }
   ],
   "source": [
    "!docker ps"
   ]
  },
  {
   "cell_type": "code",
   "execution_count": 23,
   "id": "5cc7df95",
   "metadata": {},
   "outputs": [
    {
     "name": "stdout",
     "output_type": "stream",
     "text": [
      "######################################################################\n",
      "##                    HPE SWARM LEARNING SN NODE                    ##\n",
      "######################################################################\n",
      "## © Copyright 2019-2022 Hewlett Packard Enterprise Development LP  ##\n",
      "######################################################################\n",
      "2023-01-18 10:49:55,688 : swarm.blCnt : INFO : Setting up blockchain layer for the swarm node: START\n",
      "2023-01-18 10:49:57,572 : swarm.blCnt : INFO : Creating Autopass License Provider\n",
      "2023-01-18 10:49:59,086 : swarm.blCnt : INFO : Creating license server\n",
      "2023-01-18 10:49:59,086 : swarm.blCnt : INFO : Setting license servers\n",
      "2023-01-18 10:49:59,138 : swarm.blCnt : INFO : Acquiring floating license 1100000380:1\n",
      "2023-01-18 10:50:32,883 : swarm.SN : INFO : SMLETHNode: Starting GETH ... \n",
      "2023-01-18 10:50:42,919 : swarm.SN : WARNING : \u001b[93mSMLETHNode: Enode list is empty: Node is standalone\u001b[0m\n",
      "2023-01-18 10:54:47,746 : swarm.SN : INFO : SMLETHNode: Started I-am-Alive thread\n",
      "2023-01-18 10:54:47,747 : swarm.blCnt : INFO : Setting up blockchain layer for the swarm node: FINISHED\n",
      "2023-01-18 10:54:49,965 : swarm.blCnt : INFO : Starting SWARM-API-SERVER on port: 30304\n",
      "^C\n"
     ]
    }
   ],
   "source": [
    "!docker logs -f sn1"
   ]
  },
  {
   "cell_type": "markdown",
   "id": "e04e9cca",
   "metadata": {},
   "source": [
    "Use the Docker logs command to monitor the Sentinel SN node and wait for the node to finish initializing.\n",
    "The Sentinel node is ready when the following messages appear in the log output:\n",
    "\n",
    "swarm.blCnt : INFO : Starting SWARM-API-SERVER on port: 30304\n"
   ]
  },
  {
   "cell_type": "markdown",
   "id": "7a47e03b",
   "metadata": {},
   "source": [
    "according to environment, modify IP and proxy in the profile files under workspace/fraud-detection/swop folder."
   ]
  },
  {
   "cell_type": "markdown",
   "id": "c0a618d3",
   "metadata": {},
   "source": [
    "Go to \"Home Page\" of Jupyter notebook\n",
    "click on New\n",
    "click on terminal - it will open new terminal window in new browsing tab\n",
    "execute follwing comand\n",
    "nano workspace/fraud-detection/swop/swop1_profile.yaml\n",
    "edit apls host ip from 172.1.1.1 to 10.128.0.8\n",
    "ctrl+x\n",
    "press Y\n",
    "enter"
   ]
  },
  {
   "cell_type": "markdown",
   "id": "5bc5eb3a",
   "metadata": {},
   "source": [
    "Run Swarm Operator node (SWOP1)."
   ]
  },
  {
   "cell_type": "code",
   "execution_count": 24,
   "id": "43a938b3",
   "metadata": {},
   "outputs": [
    {
     "name": "stdout",
     "output_type": "stream",
     "text": [
      "0b8a655a5c9c6a64c6317261ecc989a44e102a8e037defc0689edc045e7ad67c\r\n"
     ]
    }
   ],
   "source": [
    "!./scripts/bin/run-swop -d --rm --name=swop1 --network=host-1-net --usr-dir=workspace/fraud-detection/swop --profile-file-name=swop1_profile.yaml --key=workspace/fraud-detection/cert/swop-1-key.pem --cert=workspace/fraud-detection/cert/swop-1-cert.pem --capath=workspace/fraud-detection/cert/ca/capath -e SWOP_KEEP_CONTAINERS=True -e http_proxy= -e https_proxy= --apls-ip=10.128.0.8"
   ]
  },
  {
   "cell_type": "markdown",
   "id": "065fcd8b",
   "metadata": {},
   "source": [
    "Run SWCI node (SWCI1). It creates, finalizes and assigns below task to task-framework for sequential execution:\n",
    "user_env_tf_build_task: Builds TensorFlow based Docker image for ML node to run model training.\n",
    "\n",
    "swarm_fd_task: Create containers out of ML image, and mounts model and data path to run Swarm training."
   ]
  },
  {
   "cell_type": "code",
   "execution_count": 25,
   "id": "2fae9db7",
   "metadata": {},
   "outputs": [
    {
     "name": "stdout",
     "output_type": "stream",
     "text": [
      "22acb7d69c322c42fb274517fc7b07c1c90acfd47708b3ed56c34c88fc0160f8\n",
      "######################################################################\n",
      "##                   HPE SWARM LEARNING SWCI NODE                   ##\n",
      "######################################################################\n",
      "## © Copyright 2021, 2022 Hewlett Packard Enterprise Development LP ##\n",
      "######################################################################\n",
      "SWCI:0 > ######################################################################\n",
      "SWCI:0 > # (C)Copyright 2021,2022 Hewlett Packard Enterprise Development LP\n",
      "SWCI:0 > ######################################################################\n",
      "SWCI:0 > \n",
      "SWCI:0 > # Assumption : SWOP is already running\n",
      "SWCI:0 > \n",
      "SWCI:0 > # SWCI context setup\n",
      "SWCI:0 > EXIT ON FAILURE\n",
      "SWCI:0 > EXIT ON FAILURE IS TURNED ON\n",
      "SWCI:1 > wait for ip sn1\n",
      "    API Server is UP!\n",
      "SWCI:2 > create context test-fd with ip sn1\n",
      "    API Server is UP!\n",
      "    CONTEXT CREATED : test-fd\n",
      "/usr/lib/python3.8/site-packages/urllib3/connection.py:455: SubjectAltNameWarning: Certificate for sn1 has no `subjectAltName`, falling back to check for a `commonName` for now. This feature is being removed by major browsers and deprecated by RFC 2818. (See https://github.com/urllib3/urllib3/issues/497 for details.)\n",
      "  warnings.warn(\n",
      "SWCI:3 > switch context test-fd\n",
      "    DEFAULT CONTEXT SET TO : test-fd\n",
      "SWCI:4 > EXIT ON FAILURE OFF\n",
      "SWCI:4 > EXIT ON FAILURE IS TURNED OFF\n",
      "SWCI:5 > \n",
      "SWCI:5 > #Change to the directory where we are mounting the host\n",
      "SWCI:5 > cd /platform/swarm/usr\n",
      "SWCI:5 > Current Directory : /platform/swarm/usr\n",
      "SWCI:6 > \n",
      "SWCI:6 > # Create and finalize build task\n",
      "SWCI:6 > EXIT ON FAILURE\n",
      "SWCI:6 > EXIT ON FAILURE IS TURNED ON\n",
      "SWCI:7 > create task from taskdefs/user_env_tf_build_task.yaml\n",
      "    Task definition is valid\n",
      "    Task Registered : user_env_tf_build_task\n",
      "    Appending Task Body\n",
      "    batch start : 1 , len : 4 Successful\n",
      "    batch start : 5 , len : 4 Successful\n",
      "    batch start : 9 , len : 3 Successful\n",
      "    Task creation Successful\n",
      "    WARNING: Task should be finalized by user explicitly\n",
      "SWCI:8 > finalize task user_env_tf_build_task\n",
      "    Task Finalized\n",
      "SWCI:9 > get task info user_env_tf_build_task\n",
      "    NAME         : user_env_tf_build_task\n",
      "    TASKTYPE     : MAKE_USER_CONTAINER\n",
      "    CREATETIME   : 2023-01-18 10:55:56\n",
      "    AUTHOR       : HPESwarm\n",
      "    CONTENTLINES : 12\n",
      "    PREREQ       : ROOTTASK\n",
      "    OUTCOME      : user-env-tf2.7.0-swop\n",
      "    FINALIZED    : True\n",
      "SWCI:10 > get task body user_env_tf_build_task\n",
      "    0000: ---\n",
      "    0001: BuildContext : sl-cli-lib\n",
      "    0002: BuildSteps   : \n",
      "    0003:     - FROM tensorflow/tensorflow:2.7.0\n",
      "    0004:     -  \n",
      "    0005:     - RUN pip3 install --upgrade pip && pip3 install \\\n",
      "    0006:     -    keras matplotlib opencv-python pandas protobuf==3.15.6 \n",
      "    0007:     -  \n",
      "    0008:     - RUN mkdir -p /tmp/hpe-swarmcli-pkg\n",
      "    0009:     - COPY swarmlearning-client-py3-none-manylinux_2_24_x86_64.whl /tmp/hpe-swarmcli-pkg/swarmlearning-client-py3-none-manylinux_2_24_x86_64.whl\n",
      "    0010:     - RUN pip3 install /tmp/hpe-swarmcli-pkg/swarmlearning-client-py3-none-manylinux_2_24_x86_64.whl\n",
      "    0011: BuildType : INLINE\n",
      "SWCI:11 > list tasks\n",
      "    ROOTTASK\n",
      "    user_env_tf_build_task\n",
      "SWCI:12 > EXIT ON FAILURE OFF\n",
      "SWCI:12 > EXIT ON FAILURE IS TURNED OFF\n",
      "SWCI:13 > \n",
      "SWCI:13 > # Assign build task to taskrunner\n",
      "SWCI:13 > EXIT ON FAILURE\n",
      "SWCI:13 > EXIT ON FAILURE IS TURNED ON\n",
      "SWCI:14 > RESET TASKRUNNER defaulttaskbb.taskdb.sml.hpe\n",
      "    TaskRunner Reset\n",
      "SWCI:15 > ASSIGN TASK user_env_tf_build_task TO defaulttaskbb.taskdb.sml.hpe WITH 1 PEERS\n",
      "    Task assigned to TaskRunner\n",
      "SWCI:16 > WAIT FOR TASKRUNNER defaulttaskbb.taskdb.sml.hpe\n",
      "    WAITING FOR TASKRUNNER TO COMPLETE - Maximum wait time is : 120 mins\n",
      "#######     \n",
      "    TASKRUNNER FINISHED\n",
      "      STATE : COMPLETE\n",
      "      TIME  : 2023-01-18 10:56:48\n",
      "SWCI:17 > EXIT ON FAILURE OFF\n",
      "SWCI:17 > EXIT ON FAILURE IS TURNED OFF\n",
      "SWCI:18 > \n",
      "SWCI:18 > # Build task was already run. Now build and run swarm run tasks\n",
      "SWCI:18 > \n",
      "SWCI:18 > # Create and finalize swarm run task\n",
      "SWCI:18 > EXIT ON FAILURE\n",
      "SWCI:18 > EXIT ON FAILURE IS TURNED ON\n",
      "SWCI:19 > create task from taskdefs/swarm_fd_task.yaml\n",
      "    Task definition is valid\n",
      "    Task Registered : swarm_fd_task\n",
      "    Appending Task Body\n",
      "    batch start : 1 , len : 4 Successful\n",
      "    batch start : 5 , len : 4 Successful\n",
      "    batch start : 9 , len : 4 Successful\n",
      "    batch start : 13 , len : 2 Successful\n",
      "    Task creation Successful\n",
      "    WARNING: Task should be finalized by user explicitly\n",
      "SWCI:20 > finalize task swarm_fd_task\n",
      "    Task Finalized\n",
      "SWCI:21 > get task info swarm_fd_task\n",
      "    NAME         : swarm_fd_task\n",
      "    TASKTYPE     : RUN_SWARM\n",
      "    CREATETIME   : 2023-01-18 10:56:55\n",
      "    AUTHOR       : HPESwarm\n",
      "    CONTENTLINES : 15\n",
      "    PREREQ       : user_env_tf_build_task\n",
      "    OUTCOME      : swarm_fd_task\n",
      "    FINALIZED    : True\n",
      "SWCI:22 > get task body swarm_fd_task\n",
      "    0000: ---\n",
      "    0001: Command : model/fraud-detection.py\n",
      "    0002: Entrypoint : python3\n",
      "    0003: WorkingDir : /tmp/test\n",
      "    0004: PrivateContent : /tmp/test/data-and-scratch\n",
      "    0005: SharedContent : \n",
      "    0006:   - Src   : /home/amits/environments/hpe/swarm-learning/swarm-learning/workspace/fraud-detection/model\n",
      "    0007:     Tgt   : /tmp/test/model\n",
      "    0008:     MType : BIND\n",
      "    0009: Envvars : \n",
      "    0010:   - DATA_DIR : data-and-scratch/app-data\n",
      "    0011:   - SCRATCH_DIR : data-and-scratch/scratch\n",
      "    0012:   - MODEL_DIR : model\n",
      "    0013:   - MAX_EPOCHS : 32\n",
      "    0014:   - MIN_PEERS : 4\n",
      "SWCI:23 > list tasks\n",
      "    ROOTTASK\n",
      "    user_env_tf_build_task\n",
      "    swarm_fd_task\n",
      "SWCI:24 > EXIT ON FAILURE OFF\n",
      "SWCI:24 > EXIT ON FAILURE IS TURNED OFF\n",
      "SWCI:25 > \n",
      "SWCI:25 > # Assign run task\n",
      "SWCI:25 > EXIT ON FAILURE\n",
      "SWCI:25 > EXIT ON FAILURE IS TURNED ON\n",
      "SWCI:26 > RESET TASKRUNNER defaulttaskbb.taskdb.sml.hpe\n",
      "    TaskRunner Reset\n",
      "SWCI:27 > ASSIGN TASK swarm_fd_task TO defaulttaskbb.taskdb.sml.hpe WITH 4 PEERS\n",
      "    Task assigned to TaskRunner\n",
      "SWCI:28 > WAIT FOR TASKRUNNER defaulttaskbb.taskdb.sml.hpe\n",
      "    WAITING FOR TASKRUNNER TO COMPLETE - Maximum wait time is : 120 mins\n",
      "#######################################     \n",
      "    TASKRUNNER FINISHED\n",
      "      STATE : COMPLETE\n",
      "      TIME  : 2023-01-18 11:00:29\n",
      "SWCI:29 > # Grace period for ML container to save the model,\n",
      "SWCI:29 > # before the below reset command cleans up the ML and SL Containers.\n",
      "SWCI:29 > SLEEP 15\n",
      "SWCI:29 > Completed SLEEP for: 15 secs\n",
      "SWCI:30 > RESET TASKRUNNER defaulttaskbb.taskdb.sml.hpe\n",
      "    TaskRunner Reset\n",
      "SWCI:31 > EXIT ON FAILURE OFF\n",
      "SWCI:31 > EXIT ON FAILURE IS TURNED OFF\n",
      "SWCI:32 > \n",
      "SWCI:32 > # List and reset training contract\n",
      "SWCI:32 > EXIT ON FAILURE\n",
      "SWCI:32 > EXIT ON FAILURE IS TURNED ON\n",
      "SWCI:33 > LIST CONTRACTS\n",
      "    defaultbb.cqdb.sml.hpe\n",
      "SWCI:34 > RESET CONTRACT defaultbb.cqdb.sml.hpe\n",
      "    Contract Reset\n",
      "SWCI:35 > EXIT ON FAILURE OFF\n",
      "SWCI:35 > EXIT ON FAILURE IS TURNED OFF\n",
      "SWCI:36 > \n",
      "SWCI:36 > # Exit\n",
      "SWCI:36 > EXIT\n",
      "SWCI:36 > EXITING\n"
     ]
    }
   ],
   "source": [
    "!./scripts/bin/run-swci -ti --rm --name=swci1 --network=host-1-net --usr-dir=workspace/fraud-detection/swci --init-script-name=swci-init --key=workspace/fraud-detection/cert/swci-1-key.pem --cert=workspace/fraud-detection/cert/swci-1-cert.pem --capath=workspace/fraud-detection/cert/ca/capath -e http_proxy= -e https_proxy= --apls-ip=10.128.0.8"
   ]
  },
  {
   "cell_type": "markdown",
   "id": "9faa2b6f",
   "metadata": {},
   "source": [
    "Four nodes of Swarm training are automatically started when the run task (swarm_fd_task) gets assigned and executed. Open a new terminal on host-1 and monitor the Docker logs of ML nodes for Swarm training. Swarm training ends with the following log message:\n",
    "SwarmCallback : INFO : All peers and Swarm training rounds finished. Final Swarm model was loaded.\n",
    "Final Swarm model is saved inside each user’s private scratch directory, which is workspace/fraud-detection/user<id>/data-and-scratch/scratch on both the hosts. All the dynamically spawned SL and ML nodes exits after Swarm training. The SN and SWOP nodes continues to run."
   ]
  },
  {
   "cell_type": "markdown",
   "id": "eb86ec07",
   "metadata": {},
   "source": [
    "Go to \"Home \n",
    "Page\" of Jupyter notebook\n",
    "click on New\n",
    "click on terminal - it will open new terminal window in new browsing tab\n",
    "execute following command\n",
    "\n",
    "docker ps\n",
    "\n",
    "it will show you sn1,swop1,swci1, 4 sl and 4 ml container\n",
    "\n",
    "docker logs -f demo-swarm_fd_task-u-0-034698c2bbf002b7\n",
    "\n",
    "might be your container name is different so instead demo-swarm_fd_task-u-0-034698c2bbf002b7 use your container name."
   ]
  },
  {
   "cell_type": "code",
   "execution_count": 26,
   "id": "afee2540",
   "metadata": {},
   "outputs": [
    {
     "name": "stdout",
     "output_type": "stream",
     "text": [
      "CONTAINER ID   IMAGE                                                                COMMAND                  CREATED          STATUS                      PORTS     NAMES\r\n",
      "f4e797fffa99   user-env-tf2.7.0-swop                                                \"python3 model/fraud…\"   7 minutes ago    Exited (0) 4 minutes ago              demo-swarm_fd_task-u-3-28d5eacd49052828\r\n",
      "95828a46aca8   hub.myenterpriselicense.hpe.com/hpe_eval/swarm-learning/sl:1.2.0     \"/usr/bin/python3 -c…\"   7 minutes ago    Exited (0) 4 minutes ago              demo-swarm_fd_task-s-3-28d5eacd49052828\r\n",
      "95945258880b   user-env-tf2.7.0-swop                                                \"python3 model/fraud…\"   7 minutes ago    Exited (0) 4 minutes ago              demo-swarm_fd_task-u-2-a7bc64575a5168e4\r\n",
      "16c22e3e0633   hub.myenterpriselicense.hpe.com/hpe_eval/swarm-learning/sl:1.2.0     \"/usr/bin/python3 -c…\"   7 minutes ago    Exited (0) 4 minutes ago              demo-swarm_fd_task-s-2-a7bc64575a5168e4\r\n",
      "53da29deadd4   user-env-tf2.7.0-swop                                                \"python3 model/fraud…\"   7 minutes ago    Exited (0) 4 minutes ago              demo-swarm_fd_task-u-1-28b436ab3f201dae\r\n",
      "d14b93e7e6f1   hub.myenterpriselicense.hpe.com/hpe_eval/swarm-learning/sl:1.2.0     \"/usr/bin/python3 -c…\"   7 minutes ago    Exited (0) 4 minutes ago              demo-swarm_fd_task-s-1-28b436ab3f201dae\r\n",
      "33b8ffc8622b   user-env-tf2.7.0-swop                                                \"python3 model/fraud…\"   7 minutes ago    Exited (0) 4 minutes ago              demo-swarm_fd_task-u-0-38350d1f0af20d49\r\n",
      "834ce35d62bb   hub.myenterpriselicense.hpe.com/hpe_eval/swarm-learning/sl:1.2.0     \"/usr/bin/python3 -c…\"   7 minutes ago    Exited (0) 4 minutes ago              demo-swarm_fd_task-s-0-38350d1f0af20d49\r\n",
      "0b8a655a5c9c   hub.myenterpriselicense.hpe.com/hpe_eval/swarm-learning/swop:1.2.0   \"/platform/swarm/swo…\"   9 minutes ago    Up 9 minutes                          swop1\r\n",
      "5610c5332a5b   hub.myenterpriselicense.hpe.com/hpe_eval/swarm-learning/sn:1.2.0     \"/usr/bin/python3 -c…\"   15 minutes ago   Up 15 minutes                         sn1\r\n",
      "769166260c28   user-env-tf2.7.0-swop                                                \"python3 model/fraud…\"   18 minutes ago   Exited (1) 18 minutes ago             demo-swarm_fd_task-u-3-90cee62df5e1989b\r\n",
      "4cfb6961986d   user-env-tf2.7.0-swop                                                \"python3 model/fraud…\"   18 minutes ago   Exited (1) 18 minutes ago             demo-swarm_fd_task-u-2-ee60b5e73db46a93\r\n",
      "a822b2615715   user-env-tf2.7.0-swop                                                \"python3 model/fraud…\"   18 minutes ago   Exited (1) 18 minutes ago             demo-swarm_fd_task-u-1-ab23920c8d6be126\r\n",
      "0157e04d9cfc   user-env-tf2.7.0-swop                                                \"python3 model/fraud…\"   18 minutes ago   Exited (1) 18 minutes ago             demo-swarm_fd_task-u-0-4a4578ea2886d65e\r\n"
     ]
    }
   ],
   "source": [
    "!docker ps -a"
   ]
  },
  {
   "cell_type": "code",
   "execution_count": 27,
   "id": "dc38f848",
   "metadata": {},
   "outputs": [
    {
     "name": "stdout",
     "output_type": "stream",
     "text": [
      "2023-01-18 10:57:43.646071: I tensorflow/core/platform/cpu_feature_guard.cc:151] This TensorFlow binary is optimized with oneAPI Deep Neural Network Library (oneDNN) to use the following CPU instructions in performance-critical operations:  AVX2 FMA\r\n",
      "To enable them in other operations, rebuild TensorFlow with the appropriate compiler flags.\r\n",
      "***** Starting model = fraud-detection\r\n",
      "----------------------------------------------------------------\r\n",
      "loading train dataset data-and-scratch/app-data/SB19_CCFDUBL_BAL_TRAIN_2C.csv ..\r\n",
      "size of training Data set : 684\r\n",
      "----------------------------------------------------------------\r\n",
      "loading test dataset data-and-scratch/app-data/SB19_CCFDUBL_BAL_TEST_2C.csv ..\r\n",
      "----------------------------------------------------------------\r\n",
      "Model: \"sequential\"\r\n",
      "_________________________________________________________________\r\n",
      " Layer (type)                Output Shape              Param #   \r\n",
      "=================================================================\r\n",
      " dense (Dense)               (None, 1)                 31        \r\n",
      "                                                                 \r\n",
      "=================================================================\r\n",
      "Total params: 31\r\n",
      "Trainable params: 31\r\n",
      "Non-trainable params: 0\r\n",
      "_________________________________________________________________\r\n",
      "None\r\n",
      "Starting training ...\r\n",
      "2023-01-18 10:57:43,723 : SwarmCallback : INFO : SwarmCallbackBase logger is set\r\n",
      "2023-01-18 10:57:43,723 : SwarmCallback : INFO : ***Swarm Callback Params: Inside SwarmCallbackBase at user side***\r\n",
      "2023-01-18 10:57:43,723 : SwarmCallback : INFO : syncFrequency: 128\r\n",
      "2023-01-18 10:57:43,723 : SwarmCallback : INFO : minPeers: 4\r\n",
      "2023-01-18 10:57:43,724 : SwarmCallback : INFO : trainingContract: defaultbb.cqdb.sml.hpe\r\n",
      "2023-01-18 10:57:43,724 : SwarmCallback : INFO : maxPeers: 0\r\n",
      "2023-01-18 10:57:43,724 : SwarmCallback : INFO : valBatchSize: 0\r\n",
      "2023-01-18 10:57:43,724 : SwarmCallback : INFO : useAdaptiveSync: False\r\n",
      "2023-01-18 10:57:43,724 : SwarmCallback : INFO : checkinModelOnTrainEnd: CheckinModel.snapshot\r\n",
      "2023-01-18 10:57:43,724 : SwarmCallback : INFO : nodeWeightage: 1\r\n",
      "2023-01-18 10:57:43,724 : SwarmCallback : INFO : ==============================\r\n",
      "2023-01-18 10:57:43,724 : SwarmCallback : INFO : ****************************************************\r\n",
      "2023-01-18 10:57:43,724 : SwarmCallback : INFO : ***** Is Swarm callback in loopback mode: False *****\r\n",
      "2023-01-18 10:57:43,724 : SwarmCallback : INFO : ****************************************************\r\n",
      "2023-01-18T10:57:43.725368 /tmp/hpe-swarm/demo.3.request.pipe: File exists\r\n",
      "2023-01-18T10:57:43.725617 /tmp/hpe-swarm/demo.3.response.pipe: File exists\r\n",
      "2023-01-18 10:58:06,422 : SwarmCallback : INFO : Starting Swarm merging round ...\r\n",
      "2023-01-18 10:58:15,322 : SwarmCallback : INFO : Calculated local loss using merged parameters = 0\r\n",
      "2023-01-18 10:58:25,037 : SwarmCallback : INFO : Merge Done: RVInt [cur: 128 Nxt: 128]\r\n",
      "Epoch 1/32\r\n",
      "\r",
      " 1/22 [>.............................] - ETA: 9s - loss: 0.6325 - accuracy: 0.6562\b\b\b\b\b\b\b\b\b\b\b\b\b\b\b\b\b\b\b\b\b\b\b\b\b\b\b\b\b\b\b\b\b\b\b\b\b\b\b\b\b\b\b\b\b\b\b\b\b\b\b\b\b\b\b\b\b\b\b\b\b\b\b\b\b\b\b\b\b\b\b\b\b\b\b\b\b\b\b\b\b\b\r",
      "22/22 [==============================] - 1s 18ms/step - loss: 0.2977 - accuracy: 0.8538 - val_loss: 0.2130 - val_accuracy: 0.8904\r\n",
      "Epoch 2/32\r\n",
      "\r",
      " 1/22 [>.............................] - ETA: 0s - loss: 0.2435 - accuracy: 0.9062\b\b\b\b\b\b\b\b\b\b\b\b\b\b\b\b\b\b\b\b\b\b\b\b\b\b\b\b\b\b\b\b\b\b\b\b\b\b\b\b\b\b\b\b\b\b\b\b\b\b\b\b\b\b\b\b\b\b\b\b\b\b\b\b\b\b\b\b\b\b\b\b\b\b\b\b\b\b\b\b\b\b\r",
      "22/22 [==============================] - 0s 5ms/step - loss: 0.1913 - accuracy: 0.9035 - val_loss: 0.2009 - val_accuracy: 0.8947\r\n",
      "Epoch 3/32\r\n",
      "\r",
      " 1/22 [>.............................] - ETA: 0s - loss: 0.1035 - accuracy: 0.9688\b\b\b\b\b\b\b\b\b\b\b\b\b\b\b\b\b\b\b\b\b\b\b\b\b\b\b\b\b\b\b\b\b\b\b\b\b\b\b\b\b\b\b\b\b\b\b\b\b\b\b\b\b\b\b\b\b\b\b\b\b\b\b\b\b\b\b\b\b\b\b\b\b\b\b\b\b\b\b\b\b\b\r",
      "22/22 [==============================] - 0s 4ms/step - loss: 0.1757 - accuracy: 0.9167 - val_loss: 0.1875 - val_accuracy: 0.8947\r\n",
      "Epoch 4/32\r\n",
      "\r",
      " 1/22 [>.............................] - ETA: 0s - loss: 0.1649 - accuracy: 0.9062\b\b\b\b\b\b\b\b\b\b\b\b\b\b\b\b\b\b\b\b\b\b\b\b\b\b\b\b\b\b\b\b\b\b\b\b\b\b\b\b\b\b\b\b\b\b\b\b\b\b\b\b\b\b\b\b\b\b\b\b\b\b\b\b\b\b\b\b\b\b\b\b\b\b\b\b\b\b\b\b\b\b\r",
      "22/22 [==============================] - ETA: 0s - loss: 0.1647 - accuracy: 0.9269\b\b\b\b\b\b\b\b\b\b\b\b\b\b\b\b\b\b\b\b\b\b\b\b\b\b\b\b\b\b\b\b\b\b\b\b\b\b\b\b\b\b\b\b\b\b\b\b\b\b\b\b\b\b\b\b\b\b\b\b\b\b\b\b\b\b\b\b\b\b\b\b\b\b\b\b\b\b\b\b\b\b\r",
      "22/22 [==============================] - 0s 5ms/step - loss: 0.1647 - accuracy: 0.9269 - val_loss: 0.1788 - val_accuracy: 0.9079\r\n",
      "Epoch 5/32\r\n",
      "\r",
      " 1/22 [>.............................] - ETA: 0s - loss: 0.1888 - accuracy: 0.9375\b\b\b\b\b\b\b\b\b\b\b\b\b\b\b\b\b\b\b\b\b\b\b\b\b\b\b\b\b\b\b\b\b\b\b\b\b\b\b\b\b\b\b\b\b\b\b\b\b\b\b\b\b\b\b\b\b\b\b\b\b\b\b\b\b\b\b\b\b\b\b\b\b\b\b\b\b\b\b\b\b\b\r",
      "22/22 [==============================] - 0s 4ms/step - loss: 0.1603 - accuracy: 0.9313 - val_loss: 0.1720 - val_accuracy: 0.9211\r\n",
      "Epoch 6/32\r\n",
      "\r",
      " 1/22 [>.............................] - ETA: 0s - loss: 0.1365 - accuracy: 0.93752023-01-18 10:58:26,344 : SwarmCallback : INFO : Starting Swarm merging round ...\r\n",
      "2023-01-18 10:58:38,020 : SwarmCallback : INFO : Calculated local loss using merged parameters = 0\r\n",
      "2023-01-18 10:58:47,171 : SwarmCallback : INFO : Merge Done: RVInt [cur: 128 Nxt: 128]\r\n",
      "\b\b\b\b\b\b\b\b\b\b\b\b\b\b\b\b\b\b\b\b\b\b\b\b\b\b\b\b\b\b\b\b\b\b\b\b\b\b\b\b\b\b\b\b\b\b\b\b\b\b\b\b\b\b\b\b\b\b\b\b\b\b\b\b\b\b\b\b\b\b\b\b\b\b\b\b\b\b\b\b\b\b\r",
      "19/22 [========================>.....] - ETA: 3s - loss: 0.1617 - accuracy: 0.9359\b\b\b\b\b\b\b\b\b\b\b\b\b\b\b\b\b\b\b\b\b\b\b\b\b\b\b\b\b\b\b\b\b\b\b\b\b\b\b\b\b\b\b\b\b\b\b\b\b\b\b\b\b\b\b\b\b\b\b\b\b\b\b\b\b\b\b\b\b\b\b\b\b\b\b\b\b\b\b\b\b\b\r",
      "22/22 [==============================] - 21s 995ms/step - loss: 0.1535 - accuracy: 0.9386 - val_loss: 0.1658 - val_accuracy: 0.9298\r\n",
      "Epoch 7/32\r\n",
      "\r",
      " 1/22 [>.............................] - ETA: 0s - loss: 0.1371 - accuracy: 0.9062\b\b\b\b\b\b\b\b\b\b\b\b\b\b\b\b\b\b\b\b\b\b\b\b\b\b\b\b\b\b\b\b\b\b\b\b\b\b\b\b\b\b\b\b\b\b\b\b\b\b\b\b\b\b\b\b\b\b\b\b\b\b\b\b\b\b\b\b\b\b\b\b\b\b\b\b\b\b\b\b\b\b\r",
      "22/22 [==============================] - 0s 4ms/step - loss: 0.1473 - accuracy: 0.9386 - val_loss: 0.1602 - val_accuracy: 0.9211\r\n",
      "Epoch 8/32\r\n",
      "\r",
      " 1/22 [>.............................] - ETA: 0s - loss: 0.1260 - accuracy: 0.9688\b\b\b\b\b\b\b\b\b\b\b\b\b\b\b\b\b\b\b\b\b\b\b\b\b\b\b\b\b\b\b\b\b\b\b\b\b\b\b\b\b\b\b\b\b\b\b\b\b\b\b\b\b\b\b\b\b\b\b\b\b\b\b\b\b\b\b\b\b\b\b\b\b\b\b\b\b\b\b\b\b\b\r",
      "22/22 [==============================] - 0s 3ms/step - loss: 0.1473 - accuracy: 0.9444 - val_loss: 0.1599 - val_accuracy: 0.9298\r\n",
      "Epoch 9/32\r\n",
      "\r",
      " 1/22 [>.............................] - ETA: 0s - loss: 0.0651 - accuracy: 1.0000\b\b\b\b\b\b\b\b\b\b\b\b\b\b\b\b\b\b\b\b\b\b\b\b\b\b\b\b\b\b\b\b\b\b\b\b\b\b\b\b\b\b\b\b\b\b\b\b\b\b\b\b\b\b\b\b\b\b\b\b\b\b\b\b\b\b\b\b\b\b\b\b\b\b\b\b\b\b\b\b\b\b\r",
      "22/22 [==============================] - 0s 3ms/step - loss: 0.1439 - accuracy: 0.9430 - val_loss: 0.1524 - val_accuracy: 0.9254\r\n",
      "Epoch 10/32\r\n",
      "\r",
      " 1/22 [>.............................] - ETA: 0s - loss: 0.1360 - accuracy: 0.9688\b\b\b\b\b\b\b\b\b\b\b\b\b\b\b\b\b\b\b\b\b\b\b\b\b\b\b\b\b\b\b\b\b\b\b\b\b\b\b\b\b\b\b\b\b\b\b\b\b\b\b\b\b\b\b\b\b\b\b\b\b\b\b\b\b\b\b\b\b\b\b\b\b\b\b\b\b\b\b\b\b\b\r",
      "22/22 [==============================] - 0s 3ms/step - loss: 0.1401 - accuracy: 0.9415 - val_loss: 0.1485 - val_accuracy: 0.9342\r\n",
      "Epoch 11/32\r\n",
      "\r",
      " 1/22 [>.............................] - ETA: 0s - loss: 0.3123 - accuracy: 0.8438\b\b\b\b\b\b\b\b\b\b\b\b\b\b\b\b\b\b\b\b\b\b\b\b\b\b\b\b\b\b\b\b\b\b\b\b\b\b\b\b\b\b\b\b\b\b\b\b\b\b\b\b\b\b\b\b\b\b\b\b\b\b\b\b\b\b\b\b\b\b\b\b\b\b\b\b\b\b\b\b\b\b\r",
      "22/22 [==============================] - 0s 3ms/step - loss: 0.1349 - accuracy: 0.9503 - val_loss: 0.1458 - val_accuracy: 0.9342\r\n",
      "Epoch 12/32\r\n",
      "\r",
      " 1/22 [>.............................] - ETA: 0s - loss: 0.1734 - accuracy: 0.96882023-01-18 10:58:47,591 : SwarmCallback : INFO : Starting Swarm merging round ...\r\n",
      "2023-01-18 10:58:57,516 : SwarmCallback : INFO : Calculated local loss using merged parameters = 0\r\n",
      "2023-01-18 10:59:05,171 : SwarmCallback : INFO : Merge Done: RVInt [cur: 128 Nxt: 128]\r\n",
      "\b\b\b\b\b\b\b\b\b\b\b\b\b\b\b\b\b\b\b\b\b\b\b\b\b\b\b\b\b\b\b\b\b\b\b\b\b\b\b\b\b\b\b\b\b\b\b\b\b\b\b\b\b\b\b\b\b\b\b\b\b\b\b\b\b\b\b\b\b\b\b\b\b\b\b\b\b\b\b\b\b\b\r",
      "15/22 [===================>..........] - ETA: 8s - loss: 0.1181 - accuracy: 0.9604\b\b\b\b\b\b\b\b\b\b\b\b\b\b\b\b\b\b\b\b\b\b\b\b\b\b\b\b\b\b\b\b\b\b\b\b\b\b\b\b\b\b\b\b\b\b\b\b\b\b\b\b\b\b\b\b\b\b\b\b\b\b\b\b\b\b\b\b\b\b\b\b\b\b\b\b\b\b\b\b\b\b\r",
      "22/22 [==============================] - 18s 841ms/step - loss: 0.1327 - accuracy: 0.9503 - val_loss: 0.1452 - val_accuracy: 0.9342\r\n",
      "Epoch 13/32\r\n",
      "\r",
      " 1/22 [>.............................] - ETA: 0s - loss: 0.0983 - accuracy: 1.0000\b\b\b\b\b\b\b\b\b\b\b\b\b\b\b\b\b\b\b\b\b\b\b\b\b\b\b\b\b\b\b\b\b\b\b\b\b\b\b\b\b\b\b\b\b\b\b\b\b\b\b\b\b\b\b\b\b\b\b\b\b\b\b\b\b\b\b\b\b\b\b\b\b\b\b\b\b\b\b\b\b\b\r",
      "22/22 [==============================] - 0s 4ms/step - loss: 0.1320 - accuracy: 0.9474 - val_loss: 0.1418 - val_accuracy: 0.9342\r\n",
      "Epoch 14/32\r\n",
      "\r",
      " 1/22 [>.............................] - ETA: 0s - loss: 0.2725 - accuracy: 0.9062\b\b\b\b\b\b\b\b\b\b\b\b\b\b\b\b\b\b\b\b\b\b\b\b\b\b\b\b\b\b\b\b\b\b\b\b\b\b\b\b\b\b\b\b\b\b\b\b\b\b\b\b\b\b\b\b\b\b\b\b\b\b\b\b\b\b\b\b\b\b\b\b\b\b\b\b\b\b\b\b\b\b\r",
      "22/22 [==============================] - 0s 3ms/step - loss: 0.1347 - accuracy: 0.9532 - val_loss: 0.1454 - val_accuracy: 0.9342\r\n",
      "Epoch 15/32\r\n",
      "\r",
      " 1/22 [>.............................] - ETA: 0s - loss: 0.1304 - accuracy: 0.9375\b\b\b\b\b\b\b\b\b\b\b\b\b\b\b\b\b\b\b\b\b\b\b\b\b\b\b\b\b\b\b\b\b\b\b\b\b\b\b\b\b\b\b\b\b\b\b\b\b\b\b\b\b\b\b\b\b\b\b\b\b\b\b\b\b\b\b\b\b\b\b\b\b\b\b\b\b\b\b\b\b\b\r",
      "22/22 [==============================] - 0s 4ms/step - loss: 0.1337 - accuracy: 0.9430 - val_loss: 0.1423 - val_accuracy: 0.9342\r\n",
      "Epoch 16/32\r\n",
      "\r",
      " 1/22 [>.............................] - ETA: 0s - loss: 0.2759 - accuracy: 0.9062\b\b\b\b\b\b\b\b\b\b\b\b\b\b\b\b\b\b\b\b\b\b\b\b\b\b\b\b\b\b\b\b\b\b\b\b\b\b\b\b\b\b\b\b\b\b\b\b\b\b\b\b\b\b\b\b\b\b\b\b\b\b\b\b\b\b\b\b\b\b\b\b\b\b\b\b\b\b\b\b\b\b\r",
      "22/22 [==============================] - 0s 4ms/step - loss: 0.1294 - accuracy: 0.9518 - val_loss: 0.1395 - val_accuracy: 0.9342\r\n",
      "Epoch 17/32\r\n",
      "\r",
      " 1/22 [>.............................] - ETA: 0s - loss: 0.1326 - accuracy: 0.9688\b\b\b\b\b\b\b\b\b\b\b\b\b\b\b\b\b\b\b\b\b\b\b\b\b\b\b\b\b\b\b\b\b\b\b\b\b\b\b\b\b\b\b\b\b\b\b\b\b\b\b\b\b\b\b\b\b\b\b\b\b\b\b\b\b\b\b\b\b\b\b\b\b\b\b\b\b\b\b\b\b\b\r",
      "22/22 [==============================] - 0s 5ms/step - loss: 0.1273 - accuracy: 0.9518 - val_loss: 0.1370 - val_accuracy: 0.9298\r\n",
      "Epoch 18/32\r\n",
      "\r",
      " 1/22 [>.............................] - ETA: 0s - loss: 0.2296 - accuracy: 0.87502023-01-18 10:59:05,681 : SwarmCallback : INFO : Starting Swarm merging round ...\r\n",
      "2023-01-18 10:59:17,921 : SwarmCallback : INFO : Calculated local loss using merged parameters = 0\r\n",
      "2023-01-18 10:59:27,059 : SwarmCallback : INFO : Merge Done: RVInt [cur: 128 Nxt: 128]\r\n",
      "\b\b\b\b\b\b\b\b\b\b\b\b\b\b\b\b\b\b\b\b\b\b\b\b\b\b\b\b\b\b\b\b\b\b\b\b\b\b\b\b\b\b\b\b\b\b\b\b\b\b\b\b\b\b\b\b\b\b\b\b\b\b\b\b\b\b\b\b\b\b\b\b\b\b\b\b\b\b\b\b\b\b\r",
      "11/22 [==============>...............] - ETA: 23s - loss: 0.1343 - accuracy: 0.9517\b\b\b\b\b\b\b\b\b\b\b\b\b\b\b\b\b\b\b\b\b\b\b\b\b\b\b\b\b\b\b\b\b\b\b\b\b\b\b\b\b\b\b\b\b\b\b\b\b\b\b\b\b\b\b\b\b\b\b\b\b\b\b\b\b\b\b\b\b\b\b\b\b\b\b\b\b\b\b\b\b\b\b\r",
      "22/22 [==============================] - 21s 1s/step - loss: 0.1249 - accuracy: 0.9532 - val_loss: 0.1358 - val_accuracy: 0.9342\r\n",
      "Epoch 19/32\r\n",
      "\r",
      " 1/22 [>.............................] - ETA: 0s - loss: 0.0460 - accuracy: 1.0000\b\b\b\b\b\b\b\b\b\b\b\b\b\b\b\b\b\b\b\b\b\b\b\b\b\b\b\b\b\b\b\b\b\b\b\b\b\b\b\b\b\b\b\b\b\b\b\b\b\b\b\b\b\b\b\b\b\b\b\b\b\b\b\b\b\b\b\b\b\b\b\b\b\b\b\b\b\b\b\b\b\b\r",
      "22/22 [==============================] - 0s 3ms/step - loss: 0.1253 - accuracy: 0.9532 - val_loss: 0.1331 - val_accuracy: 0.9386\r\n",
      "Epoch 20/32\r\n",
      "\r",
      " 1/22 [>.............................] - ETA: 0s - loss: 0.0758 - accuracy: 0.9688\b\b\b\b\b\b\b\b\b\b\b\b\b\b\b\b\b\b\b\b\b\b\b\b\b\b\b\b\b\b\b\b\b\b\b\b\b\b\b\b\b\b\b\b\b\b\b\b\b\b\b\b\b\b\b\b\b\b\b\b\b\b\b\b\b\b\b\b\b\b\b\b\b\b\b\b\b\b\b\b\b\b\r",
      "22/22 [==============================] - 0s 3ms/step - loss: 0.1275 - accuracy: 0.9518 - val_loss: 0.1364 - val_accuracy: 0.9342\r\n",
      "Epoch 21/32\r\n",
      "\r",
      " 1/22 [>.............................] - ETA: 0s - loss: 0.0478 - accuracy: 1.0000\b\b\b\b\b\b\b\b\b\b\b\b\b\b\b\b\b\b\b\b\b\b\b\b\b\b\b\b\b\b\b\b\b\b\b\b\b\b\b\b\b\b\b\b\b\b\b\b\b\b\b\b\b\b\b\b\b\b\b\b\b\b\b\b\b\b\b\b\b\b\b\b\b\b\b\b\b\b\b\b\b\b\r",
      "22/22 [==============================] - 0s 3ms/step - loss: 0.1263 - accuracy: 0.9518 - val_loss: 0.1317 - val_accuracy: 0.9430\r\n",
      "Epoch 22/32\r\n",
      "\r",
      " 1/22 [>.............................] - ETA: 0s - loss: 0.0624 - accuracy: 0.9688\b\b\b\b\b\b\b\b\b\b\b\b\b\b\b\b\b\b\b\b\b\b\b\b\b\b\b\b\b\b\b\b\b\b\b\b\b\b\b\b\b\b\b\b\b\b\b\b\b\b\b\b\b\b\b\b\b\b\b\b\b\b\b\b\b\b\b\b\b\b\b\b\b\b\b\b\b\b\b\b\b\b\r",
      "22/22 [==============================] - 0s 3ms/step - loss: 0.1239 - accuracy: 0.9561 - val_loss: 0.1303 - val_accuracy: 0.9386\r\n",
      "Epoch 23/32\r\n",
      "\r",
      " 1/22 [>.............................] - ETA: 0s - loss: 0.0870 - accuracy: 0.9688\b\b\b\b\b\b\b\b\b\b\b\b\b\b\b\b\b\b\b\b\b\b\b\b\b\b\b\b\b\b\b\b\b\b\b\b\b\b\b\b\b\b\b\b\b\b\b\b\b\b\b\b\b\b\b\b\b\b\b\b\b\b\b\b\b\b\b\b\b\b\b\b\b\b\b\b\b\b\b\b\b\b\r",
      "22/22 [==============================] - 0s 3ms/step - loss: 0.1229 - accuracy: 0.9561 - val_loss: 0.1305 - val_accuracy: 0.9430\r\n",
      "Epoch 24/32\r\n",
      "\r",
      " 1/22 [>.............................] - ETA: 0s - loss: 0.0878 - accuracy: 0.96882023-01-18 10:59:27,450 : SwarmCallback : INFO : Starting Swarm merging round ...\r\n",
      "2023-01-18 10:59:36,268 : SwarmCallback : INFO : Calculated local loss using merged parameters = 0\r\n",
      "2023-01-18 10:59:45,998 : SwarmCallback : INFO : Merge Done: RVInt [cur: 128 Nxt: 128]\r\n",
      "\b\b\b\b\b\b\b\b\b\b\b\b\b\b\b\b\b\b\b\b\b\b\b\b\b\b\b\b\b\b\b\b\b\b\b\b\b\b\b\b\b\b\b\b\b\b\b\b\b\b\b\b\b\b\b\b\b\b\b\b\b\b\b\b\b\b\b\b\b\b\b\b\b\b\b\b\b\b\b\b\b\b\r",
      " 7/22 [========>.....................] - ETA: 46s - loss: 0.1039 - accuracy: 0.9598\b\b\b\b\b\b\b\b\b\b\b\b\b\b\b\b\b\b\b\b\b\b\b\b\b\b\b\b\b\b\b\b\b\b\b\b\b\b\b\b\b\b\b\b\b\b\b\b\b\b\b\b\b\b\b\b\b\b\b\b\b\b\b\b\b\b\b\b\b\b\b\b\b\b\b\b\b\b\b\b\b\b\b\r",
      "22/22 [==============================] - 19s 887ms/step - loss: 0.1227 - accuracy: 0.9547 - val_loss: 0.1305 - val_accuracy: 0.9386\r\n",
      "Epoch 25/32\r\n",
      "\r",
      " 1/22 [>.............................] - ETA: 0s - loss: 0.1352 - accuracy: 0.9688\b\b\b\b\b\b\b\b\b\b\b\b\b\b\b\b\b\b\b\b\b\b\b\b\b\b\b\b\b\b\b\b\b\b\b\b\b\b\b\b\b\b\b\b\b\b\b\b\b\b\b\b\b\b\b\b\b\b\b\b\b\b\b\b\b\b\b\b\b\b\b\b\b\b\b\b\b\b\b\b\b\b\r",
      "22/22 [==============================] - 0s 4ms/step - loss: 0.1245 - accuracy: 0.9532 - val_loss: 0.1293 - val_accuracy: 0.9342\r\n",
      "Epoch 26/32\r\n",
      "\r",
      " 1/22 [>.............................] - ETA: 0s - loss: 0.1217 - accuracy: 0.9688\b\b\b\b\b\b\b\b\b\b\b\b\b\b\b\b\b\b\b\b\b\b\b\b\b\b\b\b\b\b\b\b\b\b\b\b\b\b\b\b\b\b\b\b\b\b\b\b\b\b\b\b\b\b\b\b\b\b\b\b\b\b\b\b\b\b\b\b\b\b\b\b\b\b\b\b\b\b\b\b\b\b\r",
      "22/22 [==============================] - 0s 3ms/step - loss: 0.1294 - accuracy: 0.9547 - val_loss: 0.1298 - val_accuracy: 0.9386\r\n",
      "Epoch 27/32\r\n",
      "\r",
      " 1/22 [>.............................] - ETA: 0s - loss: 0.2968 - accuracy: 0.8750\b\b\b\b\b\b\b\b\b\b\b\b\b\b\b\b\b\b\b\b\b\b\b\b\b\b\b\b\b\b\b\b\b\b\b\b\b\b\b\b\b\b\b\b\b\b\b\b\b\b\b\b\b\b\b\b\b\b\b\b\b\b\b\b\b\b\b\b\b\b\b\b\b\b\b\b\b\b\b\b\b\b\r",
      "22/22 [==============================] - 0s 5ms/step - loss: 0.1242 - accuracy: 0.9547 - val_loss: 0.1295 - val_accuracy: 0.9386\r\n",
      "Epoch 28/32\r\n",
      "\r",
      " 1/22 [>.............................] - ETA: 0s - loss: 0.0636 - accuracy: 0.9688\b\b\b\b\b\b\b\b\b\b\b\b\b\b\b\b\b\b\b\b\b\b\b\b\b\b\b\b\b\b\b\b\b\b\b\b\b\b\b\b\b\b\b\b\b\b\b\b\b\b\b\b\b\b\b\b\b\b\b\b\b\b\b\b\b\b\b\b\b\b\b\b\b\b\b\b\b\b\b\b\b\b\r",
      "22/22 [==============================] - 0s 4ms/step - loss: 0.1223 - accuracy: 0.9561 - val_loss: 0.1261 - val_accuracy: 0.9386\r\n",
      "Epoch 29/32\r\n",
      "\r",
      " 1/22 [>.............................] - ETA: 0s - loss: 0.0961 - accuracy: 0.9688\b\b\b\b\b\b\b\b\b\b\b\b\b\b\b\b\b\b\b\b\b\b\b\b\b\b\b\b\b\b\b\b\b\b\b\b\b\b\b\b\b\b\b\b\b\b\b\b\b\b\b\b\b\b\b\b\b\b\b\b\b\b\b\b\b\b\b\b\b\b\b\b\b\b\b\b\b\b\b\b\b\b\r",
      "21/22 [===========================>..] - ETA: 0s - loss: 0.1179 - accuracy: 0.9568\b\b\b\b\b\b\b\b\b\b\b\b\b\b\b\b\b\b\b\b\b\b\b\b\b\b\b\b\b\b\b\b\b\b\b\b\b\b\b\b\b\b\b\b\b\b\b\b\b\b\b\b\b\b\b\b\b\b\b\b\b\b\b\b\b\b\b\b\b\b\b\b\b\b\b\b\b\b\b\b\b\b\r",
      "22/22 [==============================] - 0s 5ms/step - loss: 0.1205 - accuracy: 0.9547 - val_loss: 0.1266 - val_accuracy: 0.9430\r\n",
      "Epoch 30/32\r\n",
      "\r",
      " 1/22 [>.............................] - ETA: 0s - loss: 0.0559 - accuracy: 1.00002023-01-18 10:59:46,519 : SwarmCallback : INFO : Starting Swarm merging round ...\r\n",
      "2023-01-18 10:59:58,211 : SwarmCallback : INFO : Calculated local loss using merged parameters = 0\r\n",
      "2023-01-18 11:00:07,352 : SwarmCallback : INFO : Merge Done: RVInt [cur: 128 Nxt: 128]\r\n",
      "\b\b\b\b\b\b\b\b\b\b\b\b\b\b\b\b\b\b\b\b\b\b\b\b\b\b\b\b\b\b\b\b\b\b\b\b\b\b\b\b\b\b\b\b\b\b\b\b\b\b\b\b\b\b\b\b\b\b\b\b\b\b\b\b\b\b\b\b\b\b\b\b\b\b\b\b\b\b\b\b\b\b\r",
      " 3/22 [===>..........................] - ETA: 3:17 - loss: 0.1123 - accuracy: 0.9583\b\b\b\b\b\b\b\b\b\b\b\b\b\b\b\b\b\b\b\b\b\b\b\b\b\b\b\b\b\b\b\b\b\b\b\b\b\b\b\b\b\b\b\b\b\b\b\b\b\b\b\b\b\b\b\b\b\b\b\b\b\b\b\b\b\b\b\b\b\b\b\b\b\b\b\b\b\b\b\b\b\b\b\b\r",
      "22/22 [==============================] - 21s 995ms/step - loss: 0.1198 - accuracy: 0.9547 - val_loss: 0.1264 - val_accuracy: 0.9386\r\n",
      "Epoch 31/32\r\n",
      "\r",
      " 1/22 [>.............................] - ETA: 0s - loss: 0.0955 - accuracy: 0.9375\b\b\b\b\b\b\b\b\b\b\b\b\b\b\b\b\b\b\b\b\b\b\b\b\b\b\b\b\b\b\b\b\b\b\b\b\b\b\b\b\b\b\b\b\b\b\b\b\b\b\b\b\b\b\b\b\b\b\b\b\b\b\b\b\b\b\b\b\b\b\b\b\b\b\b\b\b\b\b\b\b\b\r",
      "22/22 [==============================] - 0s 3ms/step - loss: 0.1201 - accuracy: 0.9532 - val_loss: 0.1246 - val_accuracy: 0.9430\r\n",
      "Epoch 32/32\r\n",
      "\r",
      " 1/22 [>.............................] - ETA: 0s - loss: 0.1127 - accuracy: 0.9375\b\b\b\b\b\b\b\b\b\b\b\b\b\b\b\b\b\b\b\b\b\b\b\b\b\b\b\b\b\b\b\b\b\b\b\b\b\b\b\b\b\b\b\b\b\b\b\b\b\b\b\b\b\b\b\b\b\b\b\b\b\b\b\b\b\b\b\b\b\b\b\b\b\b\b\b\b\b\b\b\b\b\r",
      "22/22 [==============================] - 0s 3ms/step - loss: 0.1215 - accuracy: 0.9532 - val_loss: 0.1267 - val_accuracy: 0.9430\r\n",
      "2023-01-18 11:00:07,540 : SwarmCallback : INFO : Finished local training !!!\r\n",
      "2023-01-18 11:00:07,540 : SwarmCallback : INFO : Swarm training may continue till trainings in min peers are done!\r\n",
      "2023-01-18 11:00:07,541 : SwarmCallback : INFO : Final merging starts at training end. Waiting for other peers to complete ...\r\n",
      "2023-01-18 11:00:16,336 : SwarmCallback : INFO : Calculated local loss using merged parameters = 0\r\n",
      "2023-01-18 11:00:28,570 : SwarmCallback : INFO : All peers and Swarm training rounds finished. Final Swarm model was loaded.\r\n",
      "Training done!\r\n",
      "\r",
      "1/8 [==>...........................] - ETA: 0s - loss: 0.2376 - accuracy: 0.8750\b\b\b\b\b\b\b\b\b\b\b\b\b\b\b\b\b\b\b\b\b\b\b\b\b\b\b\b\b\b\b\b\b\b\b\b\b\b\b\b\b\b\b\b\b\b\b\b\b\b\b\b\b\b\b\b\b\b\b\b\b\b\b\b\b\b\b\b\b\b\b\b\b\b\b\b\b\b\b\b\r",
      "8/8 [==============================] - 0s 2ms/step - loss: 0.1248 - accuracy: 0.9386\r\n",
      "2023-01-18 11:00:29.098076: W tensorflow/python/util/util.cc:368] Sets are not currently considered sequences, but this may change in the future, so consider avoiding using them.\r\n",
      "***** Test loss: 0.12479124218225479\r\n",
      "***** Test accuracy: 0.9385964870452881\r\n",
      "Saved the trained model!\r\n",
      "/usr/local/lib/python3.8/dist-packages/keras/optimizer_v2/gradient_descent.py:102: UserWarning: The `lr` argument is deprecated, use `learning_rate` instead.\r\n",
      "  super(SGD, self).__init__(name, **kwargs)\r\n"
     ]
    }
   ],
   "source": [
    "!docker logs demo-swarm_fd_task-u-3-28d5eacd49052828"
   ]
  },
  {
   "cell_type": "code",
   "execution_count": 28,
   "id": "63ec08da",
   "metadata": {},
   "outputs": [
    {
     "name": "stdout",
     "output_type": "stream",
     "text": [
      "######################################################################\r\n",
      "##                    HPE SWARM LEARNING SL NODE                    ##\r\n",
      "######################################################################\r\n",
      "## © Copyright 2019-2022 Hewlett Packard Enterprise Development LP  ##\r\n",
      "######################################################################\r\n",
      "2023-01-18 10:57:46,176 : swarm.mlApp : INFO : Creating Autopass License Provider\r\n",
      "2023-01-18 10:57:51,610 : swarm.mlApp : INFO : Creating license server\r\n",
      "2023-01-18 10:57:51,611 : swarm.mlApp : INFO : Setting license servers\r\n",
      "2023-01-18 10:57:51,742 : swarm.mlApp : INFO : Acquiring floating license 1100000378:1\r\n",
      "2023-01-18 10:57:53,840 : swarm.mlApp : INFO : Opening pipes to communicate with user container ...\r\n",
      "2023-01-18T10:57:53.841651 /tmp/hpe-swarm/demo.3.request.pipe: File exists\r\n",
      "2023-01-18T10:57:53.842012 /tmp/hpe-swarm/demo.3.response.pipe: File exists\r\n",
      "2023-01-18 10:57:53,843 : swarm.mlCnt : INFO : Setting up SL Container :  START\r\n",
      "2023-01-18 10:57:53,906 : swarm.mlCnt : INFO : Instantiating file services for SL Container 172.19.0.11:30305\r\n",
      "localIp for fs service = 172.19.0.11\r\n",
      "2023-01-18 10:57:53,923 : swarm.mlCnt : INFO : Successfully completed the initialization of SL container ...\r\n",
      "2023-01-18 10:57:53,924 : swarm.mlCnt : INFO : Swarm callback API is called in SL container. Logger created.\r\n",
      "2023-01-18 10:57:53,924 : swarm.mlCnt : INFO : ***Swarm Callback Params: Inside SwarmCallbackSL at server side***\r\n",
      "2023-01-18 10:57:53,924 : swarm.mlCnt : INFO : sync_interval: 128\r\n",
      "2023-01-18 10:57:53,924 : swarm.mlCnt : INFO : min_peers: 4\r\n",
      "2023-01-18 10:57:53,924 : swarm.mlCnt : INFO : max_peers: 0\r\n",
      "2023-01-18 10:57:53,924 : swarm.mlCnt : INFO : val_batch_size: 0\r\n",
      "2023-01-18 10:57:53,924 : swarm.mlCnt : INFO : use_adaptive_sync: False\r\n",
      "2023-01-18 10:57:53,924 : swarm.mlCnt : INFO : checkin_model_on_train_end: CheckinModel.snapshot\r\n",
      "2023-01-18 10:57:53,925 : swarm.mlCnt : INFO : node_weightage: 1\r\n",
      "2023-01-18 10:57:53,925 : swarm.mlCnt : INFO : ***************************\r\n",
      "2023-01-18 10:58:00,078 : swarm.mlCnt : INFO : Registration with Node DB is successful\r\n",
      "2023-01-18 10:58:00,079 : swarm.mlCnt : INFO : SMLETHNode: Started I-am-Alive thread\r\n",
      "2023-01-18 10:58:00,080 : swarm.mlCnt : INFO : Creating object for context: defaultbb.cqdb.sml.hpe\r\n",
      "2023-01-18 10:58:00,151 : swarm.mlCnt : INFO : ============================================================\r\n",
      "2023-01-18 10:58:00,151 : swarm.mlCnt : INFO :               Starting Swarm Learning Training              \r\n",
      "2023-01-18 10:58:00,152 : swarm.mlCnt : INFO : ============================================================\r\n",
      "2023-01-18 10:58:00,152 : swarm.mlCnt : INFO :                     *** In SWOP Mode ***                    \r\n",
      "2023-01-18 10:58:06,307 : swarm.smlCBB : INFO : ***Swarm Network Configuration***\r\n",
      "2023-01-18 10:58:06,308 : swarm.smlCBB : INFO : Context:defaultbb.cqdb.sml.hpe\r\n",
      "2023-01-18 10:58:06,308 : swarm.smlCBB : INFO :     syncInterval      : 128\r\n",
      "2023-01-18 10:58:06,308 : swarm.smlCBB : INFO :     min_peers         : 4\r\n",
      "2023-01-18 10:58:06,308 : swarm.smlCBB : INFO :     blackboard_set_by : 172.19.0.5\r\n",
      "2023-01-18 10:58:06,308 : swarm.smlCBB : INFO :     adaptive_sync     : False\r\n",
      "2023-01-18 10:58:06,309 : swarm.smlCBB : INFO : ***************************\r\n",
      "2023-01-18 10:58:06,423 : swarm.mlCnt : INFO : Merging in SL container ...\r\n",
      "2023-01-18 10:58:26,346 : swarm.mlCnt : INFO : Merging in SL container ...\r\n",
      "2023-01-18 10:58:47,592 : swarm.mlCnt : INFO : Merging in SL container ...\r\n",
      "2023-01-18 10:59:05,682 : swarm.mlCnt : INFO : Merging in SL container ...\r\n",
      "2023-01-18 10:59:27,451 : swarm.mlCnt : INFO : Merging in SL container ...\r\n",
      "2023-01-18 10:59:46,520 : swarm.mlCnt : INFO : Merging in SL container ...\r\n",
      "2023-01-18 11:00:07,542 : swarm.mlCnt : INFO : Finished local training rounds. Train end is called in SL container\r\n",
      "2023-01-18 11:00:07,542 : swarm.mlCnt : INFO : Minimum required peers are still training. Continue syncing in SL ...\r\n",
      "2023-01-18 11:00:25,538 : swarm.mlCnt : INFO : ============================================================\r\n",
      "2023-01-18 11:00:25,538 : swarm.mlCnt : INFO :            All peers and Swarm training finished!           \r\n",
      "2023-01-18 11:00:25,539 : swarm.mlCnt : INFO : ============================================================\r\n",
      "Swarm training process completed. Exiting SL\r\n",
      "2023-01-18 11:00:28,570 : swarm.mlApp : INFO : User model training is completed. Closing all pipes and stopping SL container\r\n",
      "2023-01-18 11:00:28,571 : swarm.mlApp : WARNING : \u001b[93mReleasing license\u001b[0m\r\n",
      "/usr/lib/python3.8/site-packages/urllib3/connection.py:460: SubjectAltNameWarning: Certificate for 172.19.0.2 has no `subjectAltName`, falling back to check for a `commonName` for now. This feature is being removed by major browsers and deprecated by RFC 2818. (See https://github.com/urllib3/urllib3/issues/497 for details.)\r\n",
      "  warnings.warn(\r\n",
      "/usr/lib/python3.8/site-packages/urllib3/connection.py:460: SubjectAltNameWarning: Certificate for 172.19.0.2 has no `subjectAltName`, falling back to check for a `commonName` for now. This feature is being removed by major browsers and deprecated by RFC 2818. (See https://github.com/urllib3/urllib3/issues/497 for details.)\r\n",
      "  warnings.warn(\r\n"
     ]
    }
   ],
   "source": [
    "!docker logs demo-swarm_fd_task-s-3-28d5eacd49052828"
   ]
  },
  {
   "cell_type": "markdown",
   "id": "da26d646",
   "metadata": {},
   "source": [
    "clean up"
   ]
  },
  {
   "cell_type": "code",
   "execution_count": 29,
   "id": "fc15373c",
   "metadata": {},
   "outputs": [
    {
     "name": "stdout",
     "output_type": "stream",
     "text": [
      "Stopping all running Swarm Learning containers\n",
      "No running Swarm Learning containers found\n",
      "Removing all Swarm Learning containers\n",
      "95828a46aca8\n",
      "16c22e3e0633\n",
      "d14b93e7e6f1\n",
      "834ce35d62bb\n",
      "Stopping all running Swarm Network containers\n",
      "5610c5332a5b\n",
      "Removing all Swarm Network containers\n",
      "Error response from daemon: removal of container 5610c5332a5b is already in progress\n",
      "Stopping all running Swarm Command Interface containers\n",
      "No running Swarm Command Interface containers found\n",
      "Removing all Swarm Command Interface containers\n",
      "No Swarm Command Interface containers found\n",
      "Stopping all running Swarm Operator containers\n",
      "0b8a655a5c9c\n",
      "Removing all Swarm Operator containers\n",
      "No Swarm Operator containers found\n"
     ]
    }
   ],
   "source": [
    "!./scripts/bin/stop-swarm"
   ]
  },
  {
   "cell_type": "code",
   "execution_count": 30,
   "id": "65e3c5d7",
   "metadata": {},
   "outputs": [
    {
     "name": "stdout",
     "output_type": "stream",
     "text": [
      "host-1-net\r\n"
     ]
    }
   ],
   "source": [
    "!docker network rm host-1-net"
   ]
  },
  {
   "cell_type": "code",
   "execution_count": 31,
   "id": "f87416f2",
   "metadata": {},
   "outputs": [
    {
     "name": "stdout",
     "output_type": "stream",
     "text": [
      "CONTAINER ID   IMAGE     COMMAND   CREATED   STATUS    PORTS     NAMES\r\n"
     ]
    }
   ],
   "source": [
    "!docker ps"
   ]
  },
  {
   "cell_type": "code",
   "execution_count": null,
   "id": "64cfb9ce",
   "metadata": {},
   "outputs": [],
   "source": []
  }
 ],
 "metadata": {
  "kernelspec": {
   "display_name": "Python 3 (ipykernel)",
   "language": "python",
   "name": "python3"
  },
  "language_info": {
   "codemirror_mode": {
    "name": "ipython",
    "version": 3
   },
   "file_extension": ".py",
   "mimetype": "text/x-python",
   "name": "python",
   "nbconvert_exporter": "python",
   "pygments_lexer": "ipython3",
   "version": "3.8.10"
  }
 },
 "nbformat": 4,
 "nbformat_minor": 5
}
