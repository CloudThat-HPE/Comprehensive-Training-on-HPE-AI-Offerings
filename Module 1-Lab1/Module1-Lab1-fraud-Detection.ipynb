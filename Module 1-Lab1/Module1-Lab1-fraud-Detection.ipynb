{
 "cells": [
  {
   "cell_type": "markdown",
   "id": "82daedb2",
   "metadata": {},
   "source": [
    "On instance, create a temporary workspace directory, fraud-detection example,"
   ]
  },
  {
   "cell_type": "code",
   "execution_count": 1,
   "id": "8110e345",
   "metadata": {},
   "outputs": [
    {
     "name": "stdout",
     "output_type": "stream",
     "text": [
      "mkdir: cannot create directory ‘workspace’: File exists\r\n"
     ]
    }
   ],
   "source": [
    "!mkdir workspace\n",
    "!cp -r examples/fraud-detection workspace/\n",
    "!cp -r examples/utils/gen-cert workspace/fraud-detection/"
   ]
  },
  {
   "cell_type": "markdown",
   "id": "36c7a02d",
   "metadata": {},
   "source": [
    "This example has a separate private data-and-scratch directories for each user or ML node. Create the respective directories and copy data-and-scratch directory. Running this example creates a scratch directory for each user and saves the trained Swarm model in the directory at the end of the training."
   ]
  },
  {
   "cell_type": "code",
   "execution_count": 2,
   "id": "d720dbc3",
   "metadata": {},
   "outputs": [
    {
     "name": "stdout",
     "output_type": "stream",
     "text": [
      "mkdir: cannot create directory ‘workspace/fraud-detection/user1’: File exists\n",
      "mkdir: cannot create directory ‘workspace/fraud-detection/user2’: File exists\n",
      "mkdir: cannot create directory ‘workspace/fraud-detection/user3’: File exists\n",
      "mkdir: cannot create directory ‘workspace/fraud-detection/user4’: File exists\n",
      "mv: cannot move 'workspace/fraud-detection/data-and-scratch' to 'workspace/fraud-detection/user4/data-and-scratch': Directory not empty\n"
     ]
    }
   ],
   "source": [
    "!mkdir workspace/fraud-detection/user1 workspace/fraud-detection/user2\n",
    "!mkdir workspace/fraud-detection/user3 workspace/fraud-detection/user4\n",
    "!cp -r workspace/fraud-detection/data-and-scratch workspace/fraud-detection/user1/\n",
    "!cp -r workspace/fraud-detection/data-and-scratch workspace/fraud-detection/user2/\n",
    "!cp -r workspace/fraud-detection/data-and-scratch workspace/fraud-detection/user3/\n",
    "!mv workspace/fraud-detection/data-and-scratch workspace/fraud-detection/user4/"
   ]
  },
  {
   "cell_type": "markdown",
   "id": "0eea123a",
   "metadata": {},
   "source": [
    "Run the gen-cert utility to generate certificates for each Swarm component using the command, gen-cert -e <EXAMPLE-NAME> -i <HOST-INDEX>."
   ]
  },
  {
   "cell_type": "code",
   "execution_count": 3,
   "id": "eae1193d",
   "metadata": {},
   "outputs": [
    {
     "name": "stdout",
     "output_type": "stream",
     "text": [
      "Generating a RSA private key\n",
      "........................................+++++\n",
      "................................................................................................+++++\n",
      "writing new private key to 'workspace/fraud-detection/cert/ca/ca-1-key.pem'\n",
      "-----\n",
      "./workspace/fraud-detection/gen-cert: line 55: local: can only be used in a function\n",
      "Signature ok\n",
      "subject=OU = Swarm-Learning, CN = CA-1\n",
      "Getting Private key\n",
      "./workspace/fraud-detection/gen-cert: line 69: local: can only be used in a function\n",
      "Generating a RSA private key\n",
      "..................................+++++\n",
      "..........+++++\n",
      "writing new private key to 'workspace/fraud-detection/cert/sn-1-key.pem'\n",
      "-----\n",
      "Signature ok\n",
      "subject=OU = Swarm-Learning, CN = SN-1\n",
      "Getting CA Private Key\n",
      "Generating a RSA private key\n",
      "...............................................................................................+++++\n",
      ".............................+++++\n",
      "writing new private key to 'workspace/fraud-detection/cert/sl-1-key.pem'\n",
      "-----\n",
      "Signature ok\n",
      "subject=OU = Swarm-Learning, CN = SL-1\n",
      "Getting CA Private Key\n",
      "Generating a RSA private key\n",
      "...........................................................+++++\n",
      ".............................................................................................................................................................................................................+++++\n",
      "writing new private key to 'workspace/fraud-detection/cert/swci-1-key.pem'\n",
      "-----\n",
      "Signature ok\n",
      "subject=OU = Swarm-Learning, CN = SWCI-1\n",
      "Getting CA Private Key\n",
      "Generating a RSA private key\n",
      "............................+++++\n",
      "..............................................................+++++\n",
      "writing new private key to 'workspace/fraud-detection/cert/swop-1-key.pem'\n",
      "-----\n",
      "Signature ok\n",
      "subject=OU = Swarm-Learning, CN = SWOP-1\n",
      "Getting CA Private Key\n"
     ]
    }
   ],
   "source": [
    "!./workspace/fraud-detection/gen-cert -e fraud-detection -i 1"
   ]
  },
  {
   "cell_type": "markdown",
   "id": "e112cd1f",
   "metadata": {},
   "source": [
    "Search and replace all occurrences of <CURRENT-PATH> tag in swarm_fd_task.yaml and swop1_profile.yaml files with $(pwd)."
   ]
  },
  {
   "cell_type": "code",
   "execution_count": 4,
   "id": "31169f8c",
   "metadata": {},
   "outputs": [],
   "source": [
    "!sed -i \"s+<CURRENT-PATH>+$(pwd)+g\" workspace/fraud-detection/swop/swop*_profile.yaml workspace/fraud-detection/swci/taskdefs/swarm_fd_task.yaml"
   ]
  },
  {
   "cell_type": "markdown",
   "id": "809cd292",
   "metadata": {},
   "source": [
    "Create a docker volume and copy Swarm Learning wheel file."
   ]
  },
  {
   "cell_type": "code",
   "execution_count": 5,
   "id": "681a9efc",
   "metadata": {},
   "outputs": [
    {
     "name": "stdout",
     "output_type": "stream",
     "text": [
      "sl-cli-lib\n",
      "sl-cli-lib\n",
      "3f5e17cb846ae76badd7db8a9dd6d36911086bb816c7887f8b9961aa01c674e0\n",
      "\u001b[sPreparing to copy...\n",
      "\u001b[u\u001b[2KCopying to container - 31.74kB\n",
      "\u001b[u\u001b[2KSuccessfully copied 31.74kB to helper:/data\n",
      "helper\n"
     ]
    }
   ],
   "source": [
    "!docker volume rm sl-cli-lib\n",
    "!docker volume create sl-cli-lib\n",
    "!docker container create --name helper -v sl-cli-lib:/data hello-world\n",
    "!docker cp -L lib/swarmlearning-client-py3-none-manylinux_2_24_x86_64.whl helper:/data\n",
    "!docker rm helper"
   ]
  },
  {
   "cell_type": "markdown",
   "id": "21c9c058",
   "metadata": {},
   "source": [
    "Create a docker network for SN, SWOP, SWCI, SL, and user containers running on the same host."
   ]
  },
  {
   "cell_type": "code",
   "execution_count": 6,
   "id": "a30beb12",
   "metadata": {},
   "outputs": [
    {
     "name": "stdout",
     "output_type": "stream",
     "text": [
      "e4fcde0d94385e0d9dd883add6cc5c994a46d62f324d84fde8ad56abbd8123ec\r\n"
     ]
    }
   ],
   "source": [
    "!docker network create host-1-net"
   ]
  },
  {
   "cell_type": "markdown",
   "id": "1800a8c3",
   "metadata": {},
   "source": [
    "Run Swarm Network node (SN1) - sentinel node."
   ]
  },
  {
   "cell_type": "code",
   "execution_count": 7,
   "id": "95d9c014",
   "metadata": {},
   "outputs": [
    {
     "name": "stdout",
     "output_type": "stream",
     "text": [
      "\u001b[sPreparing to copy...\n",
      "\u001b[u\u001b[2KCopying to container - 0B\n",
      "\u001b[u\u001b[2KCopying to container - 0B\n",
      "\u001b[u\u001b[2KCopying to container - 512B\n",
      "\u001b[u\u001b[2KCopying to container - 714B\n",
      "\u001b[u\u001b[2KCopying to container - 1.024kB\n",
      "\u001b[u\u001b[2KCopying to container - 1.536kB\n",
      "\u001b[u\u001b[2KCopying to container - 2.048kB\n",
      "\u001b[u\u001b[2KSuccessfully copied 2.048kB to 83aa8e1b64631e06555915bd15e28ff215923929008bab16272620ffdbf652fc:/tmp/container_info_file\n",
      "83aa8e1b64631e06555915bd15e28ff215923929008bab16272620ffdbf652fc\n"
     ]
    }
   ],
   "source": [
    "!./scripts/bin/run-sn -d --rm --name=sn1 \\\n",
    "--network=host-1-net --host-ip=sn1 --sentinel \\\n",
    "--key=workspace/fraud-detection/cert/sn-1-key.pem \\\n",
    "--cert=workspace/fraud-detection/cert/sn-1-cert.pem \\\n",
    "--capath=workspace/fraud-detection/cert/ca/capath \\\n",
    "--apls-ip=35.193.101.82"
   ]
  },
  {
   "cell_type": "code",
   "execution_count": 8,
   "id": "ee18ef68",
   "metadata": {},
   "outputs": [
    {
     "name": "stdout",
     "output_type": "stream",
     "text": [
      "CONTAINER ID   IMAGE                                                              COMMAND                  CREATED          STATUS          PORTS     NAMES\r\n",
      "83aa8e1b6463   hub.myenterpriselicense.hpe.com/hpe_eval/swarm-learning/sn:1.2.0   \"/usr/bin/python3 -c…\"   23 seconds ago   Up 21 seconds             sn1\r\n"
     ]
    }
   ],
   "source": [
    "!docker ps"
   ]
  },
  {
   "cell_type": "code",
   "execution_count": 9,
   "id": "5cc7df95",
   "metadata": {},
   "outputs": [
    {
     "name": "stdout",
     "output_type": "stream",
     "text": [
      "######################################################################\n",
      "##                    HPE SWARM LEARNING SN NODE                    ##\n",
      "######################################################################\n",
      "## © Copyright 2019-2022 Hewlett Packard Enterprise Development LP  ##\n",
      "######################################################################\n",
      "2023-03-02 10:50:47,039 : swarm.blCnt : INFO : Setting up blockchain layer for the swarm node: START\n",
      "2023-03-02 10:50:48,688 : swarm.blCnt : INFO : Creating Autopass License Provider\n",
      "2023-03-02 10:50:49,910 : swarm.blCnt : INFO : Creating license server\n",
      "2023-03-02 10:50:49,911 : swarm.blCnt : INFO : Setting license servers\n",
      "2023-03-02 10:50:50,084 : swarm.blCnt : INFO : Acquiring floating license 1100000380:1\n",
      "2023-03-02 10:51:09,366 : swarm.SN : INFO : SMLETHNode: Starting GETH ... \n",
      "2023-03-02 10:51:19,397 : swarm.SN : WARNING : \u001b[93mSMLETHNode: Enode list is empty: Node is standalone\u001b[0m\n",
      "2023-03-02 10:55:02,767 : swarm.SN : INFO : SMLETHNode: Started I-am-Alive thread\n",
      "2023-03-02 10:55:02,767 : swarm.blCnt : INFO : Setting up blockchain layer for the swarm node: FINISHED\n",
      "2023-03-02 10:55:04,637 : swarm.blCnt : INFO : Starting SWARM-API-SERVER on port: 30304\n",
      "^C\n"
     ]
    }
   ],
   "source": [
    "!docker logs -f sn1"
   ]
  },
  {
   "cell_type": "markdown",
   "id": "e04e9cca",
   "metadata": {},
   "source": [
    "Use the Docker logs command to monitor the Sentinel SN node and wait for the node to finish initializing.\n",
    "The Sentinel node is ready when the following messages appear in the log output:\n",
    "\n",
    "swarm.blCnt : INFO : Starting SWARM-API-SERVER on port: 30304\n"
   ]
  },
  {
   "cell_type": "markdown",
   "id": "7a47e03b",
   "metadata": {},
   "source": [
    "according to environment, modify IP and proxy in the profile files under workspace/fraud-detection/swop folder."
   ]
  },
  {
   "cell_type": "markdown",
   "id": "5bc5eb3a",
   "metadata": {},
   "source": [
    "Run Swarm Operator node (SWOP1)."
   ]
  },
  {
   "cell_type": "code",
   "execution_count": 10,
   "id": "43a938b3",
   "metadata": {},
   "outputs": [
    {
     "name": "stdout",
     "output_type": "stream",
     "text": [
      "\u001b[sPreparing to copy...\n",
      "\u001b[u\u001b[2KCopying to container - 0B\n",
      "\u001b[u\u001b[2KCopying to container - 0B\n",
      "\u001b[u\u001b[2KCopying to container - 512B\n",
      "\u001b[u\u001b[2KCopying to container - 716B\n",
      "\u001b[u\u001b[2KCopying to container - 1.024kB\n",
      "\u001b[u\u001b[2KCopying to container - 1.536kB\n",
      "\u001b[u\u001b[2KCopying to container - 2.048kB\n",
      "\u001b[u\u001b[2KSuccessfully copied 2.048kB to b1c62e329706f594cfbe5b518afdf57d2e0689df22a6d25640b8cd0eb400ee02:/tmp/container_info_file\n",
      "b1c62e329706f594cfbe5b518afdf57d2e0689df22a6d25640b8cd0eb400ee02\n"
     ]
    }
   ],
   "source": [
    "!./scripts/bin/run-swop -d --rm --name=swop1 \\\n",
    "--network=host-1-net --usr-dir=workspace/fraud-detection/swop \\\n",
    "--profile-file-name=swop1_profile.yaml \\\n",
    "--key=workspace/fraud-detection/cert/swop-1-key.pem \\\n",
    "--cert=workspace/fraud-detection/cert/swop-1-cert.pem \\\n",
    "--capath=workspace/fraud-detection/cert/ca/capath \\\n",
    "-e SWOP_KEEP_CONTAINERS=True \\\n",
    "-e http_proxy= -e https_proxy= --apls-ip=35.193.101.82"
   ]
  },
  {
   "cell_type": "markdown",
   "id": "065fcd8b",
   "metadata": {},
   "source": [
    "Run SWCI node (SWCI1). It creates, finalizes and assigns below task to task-framework for sequential execution:\n",
    "user_env_tf_build_task: Builds TensorFlow based Docker image for ML node to run model training.\n",
    "\n",
    "swarm_fd_task: Create containers out of ML image, and mounts model and data path to run Swarm training."
   ]
  },
  {
   "cell_type": "code",
   "execution_count": 11,
   "id": "2fae9db7",
   "metadata": {},
   "outputs": [
    {
     "name": "stdout",
     "output_type": "stream",
     "text": [
      "\u001b[sPreparing to copy...\n",
      "\u001b[u\u001b[2KCopying to container - 0B\n",
      "\u001b[u\u001b[2KCopying to container - 0B\n",
      "\u001b[u\u001b[2KCopying to container - 512B\n",
      "\u001b[u\u001b[2KCopying to container - 716B\n",
      "\u001b[u\u001b[2KCopying to container - 1.024kB\n",
      "\u001b[u\u001b[2KCopying to container - 1.536kB\n",
      "\u001b[u\u001b[2KCopying to container - 2.048kB\n",
      "\u001b[u\u001b[2KSuccessfully copied 2.048kB to 27ce6cd5c9f2fce3b78113c9fa37f948ad3ea2e7b7bdc47e91e905affb8ac5e8:/tmp/container_info_file\n",
      "27ce6cd5c9f2fce3b78113c9fa37f948ad3ea2e7b7bdc47e91e905affb8ac5e8\n",
      "######################################################################\n",
      "##                   HPE SWARM LEARNING SWCI NODE                   ##\n",
      "######################################################################\n",
      "## © Copyright 2021, 2022 Hewlett Packard Enterprise Development LP ##\n",
      "######################################################################\n",
      "SWCI:0 > ######################################################################\n",
      "SWCI:0 > # (C)Copyright 2021,2022 Hewlett Packard Enterprise Development LP\n",
      "SWCI:0 > ######################################################################\n",
      "SWCI:0 > \n",
      "SWCI:0 > # Assumption : SWOP is already running\n",
      "SWCI:0 > \n",
      "SWCI:0 > # SWCI context setup\n",
      "SWCI:0 > EXIT ON FAILURE\n",
      "SWCI:0 > EXIT ON FAILURE IS TURNED ON\n",
      "SWCI:1 > wait for ip sn1\n",
      "    API Server is UP!\n",
      "SWCI:2 > create context test-fd with ip sn1\n",
      "    API Server is UP!\n",
      "    CONTEXT CREATED : test-fd\n",
      "/usr/lib/python3.8/site-packages/urllib3/connection.py:455: SubjectAltNameWarning: Certificate for sn1 has no `subjectAltName`, falling back to check for a `commonName` for now. This feature is being removed by major browsers and deprecated by RFC 2818. (See https://github.com/urllib3/urllib3/issues/497 for details.)\n",
      "  warnings.warn(\n",
      "SWCI:3 > switch context test-fd\n",
      "    DEFAULT CONTEXT SET TO : test-fd\n",
      "SWCI:4 > EXIT ON FAILURE OFF\n",
      "SWCI:4 > EXIT ON FAILURE IS TURNED OFF\n",
      "SWCI:5 > \n",
      "SWCI:5 > #Change to the directory where we are mounting the host\n",
      "SWCI:5 > cd /platform/swarm/usr\n",
      "SWCI:5 > Current Directory : /platform/swarm/usr\n",
      "SWCI:6 > \n",
      "SWCI:6 > # Create and finalize build task\n",
      "SWCI:6 > EXIT ON FAILURE\n",
      "SWCI:6 > EXIT ON FAILURE IS TURNED ON\n",
      "SWCI:7 > create task from taskdefs/user_env_tf_build_task.yaml\n",
      "    Task definition is valid\n",
      "    Task Registered : user_env_tf_build_task\n",
      "    Appending Task Body\n",
      "    batch start : 1 , len : 4 Successful\n",
      "    batch start : 5 , len : 4 Successful\n",
      "    batch start : 9 , len : 3 Successful\n",
      "    Task creation Successful\n",
      "    WARNING: Task should be finalized by user explicitly\n",
      "SWCI:8 > finalize task user_env_tf_build_task\n",
      "    Task Finalized\n",
      "SWCI:9 > get task info user_env_tf_build_task\n",
      "    NAME         : user_env_tf_build_task\n",
      "    TASKTYPE     : MAKE_USER_CONTAINER\n",
      "    CREATETIME   : 2023-03-02 10:57:40\n",
      "    AUTHOR       : HPESwarm\n",
      "    CONTENTLINES : 12\n",
      "    PREREQ       : ROOTTASK\n",
      "    OUTCOME      : user-env-tf2.7.0-swop\n",
      "    FINALIZED    : True\n",
      "SWCI:10 > get task body user_env_tf_build_task\n",
      "    0000: ---\n",
      "    0001: BuildContext : sl-cli-lib\n",
      "    0002: BuildSteps   : \n",
      "    0003:     - FROM tensorflow/tensorflow:2.7.0\n",
      "    0004:     -  \n",
      "    0005:     - RUN pip3 install --upgrade pip && pip3 install \\\n",
      "    0006:     -    keras matplotlib opencv-python pandas protobuf==3.15.6 \n",
      "    0007:     -  \n",
      "    0008:     - RUN mkdir -p /tmp/hpe-swarmcli-pkg\n",
      "    0009:     - COPY swarmlearning-client-py3-none-manylinux_2_24_x86_64.whl /tmp/hpe-swarmcli-pkg/swarmlearning-client-py3-none-manylinux_2_24_x86_64.whl\n",
      "    0010:     - RUN pip3 install /tmp/hpe-swarmcli-pkg/swarmlearning-client-py3-none-manylinux_2_24_x86_64.whl\n",
      "    0011: BuildType : INLINE\n",
      "SWCI:11 > list tasks\n",
      "    ROOTTASK\n",
      "    user_env_tf_build_task\n",
      "SWCI:12 > EXIT ON FAILURE OFF\n",
      "SWCI:12 > EXIT ON FAILURE IS TURNED OFF\n",
      "SWCI:13 > \n",
      "SWCI:13 > # Assign build task to taskrunner\n",
      "SWCI:13 > EXIT ON FAILURE\n",
      "SWCI:13 > EXIT ON FAILURE IS TURNED ON\n",
      "SWCI:14 > RESET TASKRUNNER defaulttaskbb.taskdb.sml.hpe\n",
      "    TaskRunner Reset\n",
      "SWCI:15 > ASSIGN TASK user_env_tf_build_task TO defaulttaskbb.taskdb.sml.hpe WITH 1 PEERS\n",
      "    Task assigned to TaskRunner\n",
      "SWCI:16 > WAIT FOR TASKRUNNER defaulttaskbb.taskdb.sml.hpe\n",
      "    WAITING FOR TASKRUNNER TO COMPLETE - Maximum wait time is : 120 mins\n",
      "########     \n",
      "    TASKRUNNER FINISHED\n",
      "      STATE : COMPLETE\n",
      "      TIME  : 2023-03-02 10:58:36\n",
      "SWCI:17 > EXIT ON FAILURE OFF\n",
      "SWCI:17 > EXIT ON FAILURE IS TURNED OFF\n",
      "SWCI:18 > \n",
      "SWCI:18 > # Build task was already run. Now build and run swarm run tasks\n",
      "SWCI:18 > \n",
      "SWCI:18 > # Create and finalize swarm run task\n",
      "SWCI:18 > EXIT ON FAILURE\n",
      "SWCI:18 > EXIT ON FAILURE IS TURNED ON\n",
      "SWCI:19 > create task from taskdefs/swarm_fd_task.yaml\n",
      "    Task definition is valid\n",
      "    Task Registered : swarm_fd_task\n",
      "    Appending Task Body\n",
      "    batch start : 1 , len : 4 Successful\n",
      "    batch start : 5 , len : 4 Successful\n",
      "    batch start : 9 , len : 4 Successful\n",
      "    batch start : 13 , len : 2 Successful\n",
      "    Task creation Successful\n",
      "    WARNING: Task should be finalized by user explicitly\n",
      "SWCI:20 > finalize task swarm_fd_task\n",
      "    Task Finalized\n",
      "SWCI:21 > get task info swarm_fd_task\n",
      "    NAME         : swarm_fd_task\n",
      "    TASKTYPE     : RUN_SWARM\n",
      "    CREATETIME   : 2023-03-02 10:58:41\n",
      "    AUTHOR       : HPESwarm\n",
      "    CONTENTLINES : 15\n",
      "    PREREQ       : user_env_tf_build_task\n",
      "    OUTCOME      : swarm_fd_task\n",
      "    FINALIZED    : True\n",
      "SWCI:22 > get task body swarm_fd_task\n",
      "    0000: ---\n",
      "    0001: Command : model/fraud-detection.py\n",
      "    0002: Entrypoint : python3\n",
      "    0003: WorkingDir : /tmp/test\n",
      "    0004: PrivateContent : /tmp/test/data-and-scratch\n",
      "    0005: SharedContent : \n",
      "    0006:   - Src   : /home/amits/environments/hpe/swarm-learning/workspace/fraud-detection/model\n",
      "    0007:     Tgt   : /tmp/test/model\n",
      "    0008:     MType : BIND\n",
      "    0009: Envvars : \n",
      "    0010:   - DATA_DIR : data-and-scratch/app-data\n",
      "    0011:   - SCRATCH_DIR : data-and-scratch/scratch\n",
      "    0012:   - MODEL_DIR : model\n",
      "    0013:   - MAX_EPOCHS : 32\n",
      "    0014:   - MIN_PEERS : 4\n",
      "SWCI:23 > list tasks\n",
      "    ROOTTASK\n",
      "    user_env_tf_build_task\n",
      "    swarm_fd_task\n",
      "SWCI:24 > EXIT ON FAILURE OFF\n",
      "SWCI:24 > EXIT ON FAILURE IS TURNED OFF\n",
      "SWCI:25 > \n",
      "SWCI:25 > # Assign run task\n",
      "SWCI:25 > EXIT ON FAILURE\n",
      "SWCI:25 > EXIT ON FAILURE IS TURNED ON\n",
      "SWCI:26 > RESET TASKRUNNER defaulttaskbb.taskdb.sml.hpe\n",
      "    TaskRunner Reset\n",
      "SWCI:27 > ASSIGN TASK swarm_fd_task TO defaulttaskbb.taskdb.sml.hpe WITH 4 PEERS\n",
      "    Task assigned to TaskRunner\n",
      "SWCI:28 > WAIT FOR TASKRUNNER defaulttaskbb.taskdb.sml.hpe\n",
      "    WAITING FOR TASKRUNNER TO COMPLETE - Maximum wait time is : 120 mins\n",
      "#####################################     \n",
      "    TASKRUNNER FINISHED\n",
      "      STATE : COMPLETE\n",
      "      TIME  : 2023-03-02 11:02:08\n",
      "SWCI:29 > # Grace period for ML container to save the model,\n",
      "SWCI:29 > # before the below reset command cleans up the ML and SL Containers.\n",
      "SWCI:29 > SLEEP 15\n",
      "SWCI:29 > Completed SLEEP for: 15 secs\n",
      "SWCI:30 > RESET TASKRUNNER defaulttaskbb.taskdb.sml.hpe\n",
      "    TaskRunner Reset\n",
      "SWCI:31 > EXIT ON FAILURE OFF\n",
      "SWCI:31 > EXIT ON FAILURE IS TURNED OFF\n",
      "SWCI:32 > \n",
      "SWCI:32 > # List and reset training contract\n",
      "SWCI:32 > EXIT ON FAILURE\n",
      "SWCI:32 > EXIT ON FAILURE IS TURNED ON\n",
      "SWCI:33 > LIST CONTRACTS\n",
      "    defaultbb.cqdb.sml.hpe\n",
      "SWCI:34 > RESET CONTRACT defaultbb.cqdb.sml.hpe\n",
      "    Contract Reset\n",
      "SWCI:35 > EXIT ON FAILURE OFF\n",
      "SWCI:35 > EXIT ON FAILURE IS TURNED OFF\n",
      "SWCI:36 > \n",
      "SWCI:36 > # Exit\n",
      "SWCI:36 > EXIT\n",
      "SWCI:36 > EXITING\n"
     ]
    }
   ],
   "source": [
    "!./scripts/bin/run-swci -ti --rm --name=swci1 \\\n",
    "--network=host-1-net --usr-dir=workspace/fraud-detection/swci \\\n",
    "--init-script-name=swci-init \\\n",
    "--key=workspace/fraud-detection/cert/swci-1-key.pem \\\n",
    "--cert=workspace/fraud-detection/cert/swci-1-cert.pem \\\n",
    "--capath=workspace/fraud-detection/cert/ca/capath \\\n",
    "-e http_proxy= -e https_proxy= --apls-ip=35.193.101.82"
   ]
  },
  {
   "cell_type": "markdown",
   "id": "9faa2b6f",
   "metadata": {},
   "source": [
    "Four nodes of Swarm training are automatically started when the run task (swarm_fd_task) gets assigned and executed. <br>Open a new terminal on host-1 and monitor the Docker logs of ML nodes for Swarm training. Swarm training ends with the following log message:\n",
    "**SwarmCallback : INFO : All peers and Swarm training rounds finished. Final Swarm model was loaded.**<br>\n",
    "Final Swarm model is saved inside each user’s private scratch directory, which is workspace/fraud-detection/user<id>/data-and-scratch/scratch on both the hosts. <br>All the dynamically spawned SL and ML nodes exits after Swarm training. The SN and SWOP nodes continues to run."
   ]
  },
  {
   "cell_type": "markdown",
   "id": "eb86ec07",
   "metadata": {},
   "source": [
    "Go to \"Home \n",
    "Page\" of Jupyter notebook\n",
    "click on New\n",
    "click on terminal - it will open new terminal window in new browsing tab\n",
    "execute following command\n",
    "\n",
    "docker ps\n",
    "\n",
    "it will show you sn1,swop1,swci1, 4 sl and 4 ml container\n",
    "\n",
    "docker logs -f demo-swarm_fd_task-u-0-034698c2bbf002b7\n",
    "\n",
    "might be your container name is different so instead demo-swarm_fd_task-u-0-034698c2bbf002b7 use your container name."
   ]
  },
  {
   "cell_type": "code",
   "execution_count": 12,
   "id": "afee2540",
   "metadata": {},
   "outputs": [
    {
     "name": "stdout",
     "output_type": "stream",
     "text": [
      "CONTAINER ID   IMAGE                                                                COMMAND                  CREATED          STATUS                      PORTS     NAMES\r\n",
      "f9f5e8f52860   user-env-tf2.7.0-swop                                                \"python3 model/fraud…\"   6 minutes ago    Exited (0) 3 minutes ago              demo-swarm_fd_task-u-3-47a70240030fb34a\r\n",
      "4dc7b0fe32d9   hub.myenterpriselicense.hpe.com/hpe_eval/swarm-learning/sl:1.2.0     \"/usr/bin/python3 -c…\"   6 minutes ago    Exited (0) 3 minutes ago              demo-swarm_fd_task-s-3-47a70240030fb34a\r\n",
      "6b5f7eb8576e   user-env-tf2.7.0-swop                                                \"python3 model/fraud…\"   6 minutes ago    Exited (0) 3 minutes ago              demo-swarm_fd_task-u-2-97d1c19f2bb06f18\r\n",
      "3bd7ccacbfa8   hub.myenterpriselicense.hpe.com/hpe_eval/swarm-learning/sl:1.2.0     \"/usr/bin/python3 -c…\"   6 minutes ago    Exited (0) 3 minutes ago              demo-swarm_fd_task-s-2-97d1c19f2bb06f18\r\n",
      "50933d74181f   user-env-tf2.7.0-swop                                                \"python3 model/fraud…\"   6 minutes ago    Exited (0) 3 minutes ago              demo-swarm_fd_task-u-1-e089027d83764263\r\n",
      "6b569090a108   hub.myenterpriselicense.hpe.com/hpe_eval/swarm-learning/sl:1.2.0     \"/usr/bin/python3 -c…\"   6 minutes ago    Exited (0) 3 minutes ago              demo-swarm_fd_task-s-1-e089027d83764263\r\n",
      "61c6c0f27db2   user-env-tf2.7.0-swop                                                \"python3 model/fraud…\"   6 minutes ago    Exited (0) 3 minutes ago              demo-swarm_fd_task-u-0-20eb22b7fc268b09\r\n",
      "22995f473a32   hub.myenterpriselicense.hpe.com/hpe_eval/swarm-learning/sl:1.2.0     \"/usr/bin/python3 -c…\"   6 minutes ago    Exited (0) 3 minutes ago              demo-swarm_fd_task-s-0-20eb22b7fc268b09\r\n",
      "b1c62e329706   hub.myenterpriselicense.hpe.com/hpe_eval/swarm-learning/swop:1.2.0   \"/platform/swarm/swo…\"   8 minutes ago    Up 8 minutes                          swop1\r\n",
      "83aa8e1b6463   hub.myenterpriselicense.hpe.com/hpe_eval/swarm-learning/sn:1.2.0     \"/usr/bin/python3 -c…\"   14 minutes ago   Up 14 minutes                         sn1\r\n",
      "c138c39f2cf4   user-env-tf2.7.0-swop                                                \"python3 model/fraud…\"   20 minutes ago   Exited (1) 20 minutes ago             demo-swarm_fd_task-u-3-16248b3ba2b2ff39\r\n",
      "f8aa67d04fd7   user-env-tf2.7.0-swop                                                \"python3 model/fraud…\"   20 minutes ago   Exited (1) 20 minutes ago             demo-swarm_fd_task-u-2-3acf6e1da2731eef\r\n",
      "b871bb91a0ec   user-env-tf2.7.0-swop                                                \"python3 model/fraud…\"   20 minutes ago   Exited (1) 20 minutes ago             demo-swarm_fd_task-u-1-ef0aceeef2ae60b4\r\n",
      "5474fefcbf42   user-env-tf2.7.0-swop                                                \"python3 model/fraud…\"   20 minutes ago   Exited (1) 20 minutes ago             demo-swarm_fd_task-u-0-7e4a007f86a984dc\r\n"
     ]
    }
   ],
   "source": [
    "!docker ps -a"
   ]
  },
  {
   "cell_type": "code",
   "execution_count": 13,
   "id": "dc38f848",
   "metadata": {},
   "outputs": [
    {
     "name": "stdout",
     "output_type": "stream",
     "text": [
      "2023-03-02 10:59:26.745421: I tensorflow/core/platform/cpu_feature_guard.cc:151] This TensorFlow binary is optimized with oneAPI Deep Neural Network Library (oneDNN) to use the following CPU instructions in performance-critical operations:  AVX2 FMA\r\n",
      "To enable them in other operations, rebuild TensorFlow with the appropriate compiler flags.\r\n",
      "***** Starting model = fraud-detection\r\n",
      "----------------------------------------------------------------\r\n",
      "loading train dataset data-and-scratch/app-data/SB19_CCFDUBL_BAL_TRAIN_2C.csv ..\r\n",
      "size of training Data set : 684\r\n",
      "----------------------------------------------------------------\r\n",
      "loading test dataset data-and-scratch/app-data/SB19_CCFDUBL_BAL_TEST_2C.csv ..\r\n",
      "----------------------------------------------------------------\r\n",
      "Model: \"sequential\"\r\n",
      "_________________________________________________________________\r\n",
      " Layer (type)                Output Shape              Param #   \r\n",
      "=================================================================\r\n",
      " dense (Dense)               (None, 1)                 31        \r\n",
      "                                                                 \r\n",
      "=================================================================\r\n",
      "Total params: 31\r\n",
      "Trainable params: 31\r\n",
      "Non-trainable params: 0\r\n",
      "_________________________________________________________________\r\n",
      "None\r\n",
      "Starting training ...\r\n",
      "2023-03-02 10:59:26,826 : SwarmCallback : INFO : SwarmCallbackBase logger is set\r\n",
      "2023-03-02 10:59:26,836 : SwarmCallback : INFO : ***Swarm Callback Params: Inside SwarmCallbackBase at user side***\r\n",
      "2023-03-02 10:59:26,836 : SwarmCallback : INFO : syncFrequency: 128\r\n",
      "2023-03-02 10:59:26,837 : SwarmCallback : INFO : minPeers: 4\r\n",
      "2023-03-02 10:59:26,837 : SwarmCallback : INFO : trainingContract: defaultbb.cqdb.sml.hpe\r\n",
      "2023-03-02 10:59:26,837 : SwarmCallback : INFO : maxPeers: 0\r\n",
      "2023-03-02 10:59:26,838 : SwarmCallback : INFO : valBatchSize: 0\r\n",
      "2023-03-02 10:59:26,838 : SwarmCallback : INFO : useAdaptiveSync: False\r\n",
      "2023-03-02 10:59:26,838 : SwarmCallback : INFO : checkinModelOnTrainEnd: CheckinModel.snapshot\r\n",
      "2023-03-02 10:59:26,839 : SwarmCallback : INFO : nodeWeightage: 1\r\n",
      "2023-03-02 10:59:26,839 : SwarmCallback : INFO : ==============================\r\n",
      "2023-03-02 10:59:26,839 : SwarmCallback : INFO : ****************************************************\r\n",
      "2023-03-02 10:59:26,840 : SwarmCallback : INFO : ***** Is Swarm callback in loopback mode: False *****\r\n",
      "2023-03-02 10:59:26,840 : SwarmCallback : INFO : ****************************************************\r\n",
      "2023-03-02T10:59:26.841226 /tmp/hpe-swarm/demo.2.request.pipe: File exists\r\n",
      "2023-03-02T10:59:26.841759 /tmp/hpe-swarm/demo.2.response.pipe: File exists\r\n",
      "2023-03-02 10:59:47,473 : SwarmCallback : INFO : Starting Swarm merging round ...\r\n",
      "2023-03-02 10:59:55,939 : SwarmCallback : INFO : Calculated local loss using merged parameters = 0\r\n",
      "2023-03-02 11:00:05,773 : SwarmCallback : INFO : Merge Done: RVInt [cur: 128 Nxt: 128]\r\n",
      "Epoch 1/32\r\n",
      "\r",
      " 1/22 [>.............................] - ETA: 11s - loss: 0.6223 - accuracy: 0.8125\b\b\b\b\b\b\b\b\b\b\b\b\b\b\b\b\b\b\b\b\b\b\b\b\b\b\b\b\b\b\b\b\b\b\b\b\b\b\b\b\b\b\b\b\b\b\b\b\b\b\b\b\b\b\b\b\b\b\b\b\b\b\b\b\b\b\b\b\b\b\b\b\b\b\b\b\b\b\b\b\b\b\b\r",
      "22/22 [==============================] - 1s 16ms/step - loss: 0.3004 - accuracy: 0.8757 - val_loss: 0.2151 - val_accuracy: 0.8947\r\n",
      "Epoch 2/32\r\n",
      "\r",
      " 1/22 [>.............................] - ETA: 0s - loss: 0.1602 - accuracy: 0.9062\b\b\b\b\b\b\b\b\b\b\b\b\b\b\b\b\b\b\b\b\b\b\b\b\b\b\b\b\b\b\b\b\b\b\b\b\b\b\b\b\b\b\b\b\b\b\b\b\b\b\b\b\b\b\b\b\b\b\b\b\b\b\b\b\b\b\b\b\b\b\b\b\b\b\b\b\b\b\b\b\b\b\r",
      "20/22 [==========================>...] - ETA: 0s - loss: 0.1867 - accuracy: 0.9078\b\b\b\b\b\b\b\b\b\b\b\b\b\b\b\b\b\b\b\b\b\b\b\b\b\b\b\b\b\b\b\b\b\b\b\b\b\b\b\b\b\b\b\b\b\b\b\b\b\b\b\b\b\b\b\b\b\b\b\b\b\b\b\b\b\b\b\b\b\b\b\b\b\b\b\b\b\b\b\b\b\b\r",
      "22/22 [==============================] - 0s 7ms/step - loss: 0.1901 - accuracy: 0.9094 - val_loss: 0.2018 - val_accuracy: 0.8947\r\n",
      "Epoch 3/32\r\n",
      "\r",
      " 1/22 [>.............................] - ETA: 0s - loss: 0.1950 - accuracy: 0.9062\b\b\b\b\b\b\b\b\b\b\b\b\b\b\b\b\b\b\b\b\b\b\b\b\b\b\b\b\b\b\b\b\b\b\b\b\b\b\b\b\b\b\b\b\b\b\b\b\b\b\b\b\b\b\b\b\b\b\b\b\b\b\b\b\b\b\b\b\b\b\b\b\b\b\b\b\b\b\b\b\b\b\r",
      "21/22 [===========================>..] - ETA: 0s - loss: 0.1784 - accuracy: 0.9122\b\b\b\b\b\b\b\b\b\b\b\b\b\b\b\b\b\b\b\b\b\b\b\b\b\b\b\b\b\b\b\b\b\b\b\b\b\b\b\b\b\b\b\b\b\b\b\b\b\b\b\b\b\b\b\b\b\b\b\b\b\b\b\b\b\b\b\b\b\b\b\b\b\b\b\b\b\b\b\b\b\b\r",
      "22/22 [==============================] - 0s 5ms/step - loss: 0.1768 - accuracy: 0.9137 - val_loss: 0.1879 - val_accuracy: 0.8991\r\n",
      "Epoch 4/32\r\n",
      "\r",
      " 1/22 [>.............................] - ETA: 0s - loss: 0.1736 - accuracy: 0.8750\b\b\b\b\b\b\b\b\b\b\b\b\b\b\b\b\b\b\b\b\b\b\b\b\b\b\b\b\b\b\b\b\b\b\b\b\b\b\b\b\b\b\b\b\b\b\b\b\b\b\b\b\b\b\b\b\b\b\b\b\b\b\b\b\b\b\b\b\b\b\b\b\b\b\b\b\b\b\b\b\b\b\r",
      "21/22 [===========================>..] - ETA: 0s - loss: 0.1637 - accuracy: 0.9301\b\b\b\b\b\b\b\b\b\b\b\b\b\b\b\b\b\b\b\b\b\b\b\b\b\b\b\b\b\b\b\b\b\b\b\b\b\b\b\b\b\b\b\b\b\b\b\b\b\b\b\b\b\b\b\b\b\b\b\b\b\b\b\b\b\b\b\b\b\b\b\b\b\b\b\b\b\b\b\b\b\b\r",
      "22/22 [==============================] - 0s 5ms/step - loss: 0.1649 - accuracy: 0.9284 - val_loss: 0.1753 - val_accuracy: 0.9123\r\n",
      "Epoch 5/32\r\n",
      "\r",
      " 1/22 [>.............................] - ETA: 0s - loss: 0.1907 - accuracy: 0.9688\b\b\b\b\b\b\b\b\b\b\b\b\b\b\b\b\b\b\b\b\b\b\b\b\b\b\b\b\b\b\b\b\b\b\b\b\b\b\b\b\b\b\b\b\b\b\b\b\b\b\b\b\b\b\b\b\b\b\b\b\b\b\b\b\b\b\b\b\b\b\b\b\b\b\b\b\b\b\b\b\b\b\r",
      "22/22 [==============================] - 0s 5ms/step - loss: 0.1573 - accuracy: 0.9327 - val_loss: 0.1714 - val_accuracy: 0.9211\r\n",
      "Epoch 6/32\r\n",
      "\r",
      " 1/22 [>.............................] - ETA: 0s - loss: 0.1659 - accuracy: 0.93752023-03-02 11:00:07,181 : SwarmCallback : INFO : Starting Swarm merging round ...\r\n",
      "2023-03-02 11:00:18,125 : SwarmCallback : INFO : Calculated local loss using merged parameters = 0\r\n",
      "2023-03-02 11:00:25,793 : SwarmCallback : INFO : Merge Done: RVInt [cur: 128 Nxt: 128]\r\n",
      "\b\b\b\b\b\b\b\b\b\b\b\b\b\b\b\b\b\b\b\b\b\b\b\b\b\b\b\b\b\b\b\b\b\b\b\b\b\b\b\b\b\b\b\b\b\b\b\b\b\b\b\b\b\b\b\b\b\b\b\b\b\b\b\b\b\b\b\b\b\b\b\b\b\b\b\b\b\b\b\b\b\b\r",
      "19/22 [========================>.....] - ETA: 3s - loss: 0.1481 - accuracy: 0.9359\b\b\b\b\b\b\b\b\b\b\b\b\b\b\b\b\b\b\b\b\b\b\b\b\b\b\b\b\b\b\b\b\b\b\b\b\b\b\b\b\b\b\b\b\b\b\b\b\b\b\b\b\b\b\b\b\b\b\b\b\b\b\b\b\b\b\b\b\b\b\b\b\b\b\b\b\b\b\b\b\b\b\r",
      "22/22 [==============================] - 19s 890ms/step - loss: 0.1518 - accuracy: 0.9371 - val_loss: 0.1640 - val_accuracy: 0.9254\r\n",
      "Epoch 7/32\r\n",
      "\r",
      " 1/22 [>.............................] - ETA: 0s - loss: 0.1213 - accuracy: 0.9375\b\b\b\b\b\b\b\b\b\b\b\b\b\b\b\b\b\b\b\b\b\b\b\b\b\b\b\b\b\b\b\b\b\b\b\b\b\b\b\b\b\b\b\b\b\b\b\b\b\b\b\b\b\b\b\b\b\b\b\b\b\b\b\b\b\b\b\b\b\b\b\b\b\b\b\b\b\b\b\b\b\b\r",
      "22/22 [==============================] - 0s 4ms/step - loss: 0.1491 - accuracy: 0.9371 - val_loss: 0.1591 - val_accuracy: 0.9254\r\n",
      "Epoch 8/32\r\n",
      "\r",
      " 1/22 [>.............................] - ETA: 0s - loss: 0.0521 - accuracy: 1.0000\b\b\b\b\b\b\b\b\b\b\b\b\b\b\b\b\b\b\b\b\b\b\b\b\b\b\b\b\b\b\b\b\b\b\b\b\b\b\b\b\b\b\b\b\b\b\b\b\b\b\b\b\b\b\b\b\b\b\b\b\b\b\b\b\b\b\b\b\b\b\b\b\b\b\b\b\b\b\b\b\b\b\r",
      "22/22 [==============================] - 0s 5ms/step - loss: 0.1438 - accuracy: 0.9415 - val_loss: 0.1561 - val_accuracy: 0.9298\r\n",
      "Epoch 9/32\r\n",
      "\r",
      " 1/22 [>.............................] - ETA: 0s - loss: 0.1346 - accuracy: 0.9688\b\b\b\b\b\b\b\b\b\b\b\b\b\b\b\b\b\b\b\b\b\b\b\b\b\b\b\b\b\b\b\b\b\b\b\b\b\b\b\b\b\b\b\b\b\b\b\b\b\b\b\b\b\b\b\b\b\b\b\b\b\b\b\b\b\b\b\b\b\b\b\b\b\b\b\b\b\b\b\b\b\b\r",
      "22/22 [==============================] - 0s 4ms/step - loss: 0.1411 - accuracy: 0.9474 - val_loss: 0.1510 - val_accuracy: 0.9298\r\n",
      "Epoch 10/32\r\n",
      "\r",
      " 1/22 [>.............................] - ETA: 0s - loss: 0.2339 - accuracy: 0.9062\b\b\b\b\b\b\b\b\b\b\b\b\b\b\b\b\b\b\b\b\b\b\b\b\b\b\b\b\b\b\b\b\b\b\b\b\b\b\b\b\b\b\b\b\b\b\b\b\b\b\b\b\b\b\b\b\b\b\b\b\b\b\b\b\b\b\b\b\b\b\b\b\b\b\b\b\b\b\b\b\b\b\r",
      "22/22 [==============================] - 0s 4ms/step - loss: 0.1367 - accuracy: 0.9459 - val_loss: 0.1472 - val_accuracy: 0.9342\r\n",
      "Epoch 11/32\r\n",
      "\r",
      " 1/22 [>.............................] - ETA: 0s - loss: 0.0790 - accuracy: 0.9688\b\b\b\b\b\b\b\b\b\b\b\b\b\b\b\b\b\b\b\b\b\b\b\b\b\b\b\b\b\b\b\b\b\b\b\b\b\b\b\b\b\b\b\b\b\b\b\b\b\b\b\b\b\b\b\b\b\b\b\b\b\b\b\b\b\b\b\b\b\b\b\b\b\b\b\b\b\b\b\b\b\b\r",
      "22/22 [==============================] - 0s 3ms/step - loss: 0.1348 - accuracy: 0.9444 - val_loss: 0.1443 - val_accuracy: 0.9342\r\n",
      "Epoch 12/32\r\n",
      "\r",
      " 1/22 [>.............................] - ETA: 0s - loss: 0.1330 - accuracy: 0.96882023-03-02 11:00:26,285 : SwarmCallback : INFO : Starting Swarm merging round ...\r\n",
      "2023-03-02 11:00:36,335 : SwarmCallback : INFO : Calculated local loss using merged parameters = 0\r\n",
      "2023-03-02 11:00:46,075 : SwarmCallback : INFO : Merge Done: RVInt [cur: 128 Nxt: 128]\r\n",
      "\b\b\b\b\b\b\b\b\b\b\b\b\b\b\b\b\b\b\b\b\b\b\b\b\b\b\b\b\b\b\b\b\b\b\b\b\b\b\b\b\b\b\b\b\b\b\b\b\b\b\b\b\b\b\b\b\b\b\b\b\b\b\b\b\b\b\b\b\b\b\b\b\b\b\b\b\b\b\b\b\b\b\r",
      "15/22 [===================>..........] - ETA: 9s - loss: 0.1396 - accuracy: 0.9500\b\b\b\b\b\b\b\b\b\b\b\b\b\b\b\b\b\b\b\b\b\b\b\b\b\b\b\b\b\b\b\b\b\b\b\b\b\b\b\b\b\b\b\b\b\b\b\b\b\b\b\b\b\b\b\b\b\b\b\b\b\b\b\b\b\b\b\b\b\b\b\b\b\b\b\b\b\b\b\b\b\b\r",
      "22/22 [==============================] - 20s 946ms/step - loss: 0.1332 - accuracy: 0.9503 - val_loss: 0.1440 - val_accuracy: 0.9342\r\n",
      "Epoch 13/32\r\n",
      "\r",
      " 1/22 [>.............................] - ETA: 0s - loss: 0.1620 - accuracy: 0.9375\b\b\b\b\b\b\b\b\b\b\b\b\b\b\b\b\b\b\b\b\b\b\b\b\b\b\b\b\b\b\b\b\b\b\b\b\b\b\b\b\b\b\b\b\b\b\b\b\b\b\b\b\b\b\b\b\b\b\b\b\b\b\b\b\b\b\b\b\b\b\b\b\b\b\b\b\b\b\b\b\b\b\r",
      "22/22 [==============================] - 0s 4ms/step - loss: 0.1315 - accuracy: 0.9474 - val_loss: 0.1415 - val_accuracy: 0.9342\r\n",
      "Epoch 14/32\r\n",
      "\r",
      " 1/22 [>.............................] - ETA: 0s - loss: 0.1337 - accuracy: 0.9062\b\b\b\b\b\b\b\b\b\b\b\b\b\b\b\b\b\b\b\b\b\b\b\b\b\b\b\b\b\b\b\b\b\b\b\b\b\b\b\b\b\b\b\b\b\b\b\b\b\b\b\b\b\b\b\b\b\b\b\b\b\b\b\b\b\b\b\b\b\b\b\b\b\b\b\b\b\b\b\b\b\b\r",
      "22/22 [==============================] - 0s 4ms/step - loss: 0.1331 - accuracy: 0.9474 - val_loss: 0.1410 - val_accuracy: 0.9342\r\n",
      "Epoch 15/32\r\n",
      "\r",
      " 1/22 [>.............................] - ETA: 0s - loss: 0.1051 - accuracy: 0.9688\b\b\b\b\b\b\b\b\b\b\b\b\b\b\b\b\b\b\b\b\b\b\b\b\b\b\b\b\b\b\b\b\b\b\b\b\b\b\b\b\b\b\b\b\b\b\b\b\b\b\b\b\b\b\b\b\b\b\b\b\b\b\b\b\b\b\b\b\b\b\b\b\b\b\b\b\b\b\b\b\b\b\r",
      "22/22 [==============================] - 0s 3ms/step - loss: 0.1286 - accuracy: 0.9532 - val_loss: 0.1380 - val_accuracy: 0.9342\r\n",
      "Epoch 16/32\r\n",
      "\r",
      " 1/22 [>.............................] - ETA: 0s - loss: 0.1332 - accuracy: 1.0000\b\b\b\b\b\b\b\b\b\b\b\b\b\b\b\b\b\b\b\b\b\b\b\b\b\b\b\b\b\b\b\b\b\b\b\b\b\b\b\b\b\b\b\b\b\b\b\b\b\b\b\b\b\b\b\b\b\b\b\b\b\b\b\b\b\b\b\b\b\b\b\b\b\b\b\b\b\b\b\b\b\b\r",
      "22/22 [==============================] - 0s 4ms/step - loss: 0.1306 - accuracy: 0.9518 - val_loss: 0.1382 - val_accuracy: 0.9342\r\n",
      "Epoch 17/32\r\n",
      "\r",
      " 1/22 [>.............................] - ETA: 0s - loss: 0.1725 - accuracy: 0.9375\b\b\b\b\b\b\b\b\b\b\b\b\b\b\b\b\b\b\b\b\b\b\b\b\b\b\b\b\b\b\b\b\b\b\b\b\b\b\b\b\b\b\b\b\b\b\b\b\b\b\b\b\b\b\b\b\b\b\b\b\b\b\b\b\b\b\b\b\b\b\b\b\b\b\b\b\b\b\b\b\b\b\r",
      "22/22 [==============================] - 0s 4ms/step - loss: 0.1332 - accuracy: 0.9474 - val_loss: 0.1381 - val_accuracy: 0.9386\r\n",
      "Epoch 18/32\r\n",
      "\r",
      " 1/22 [>.............................] - ETA: 0s - loss: 0.0754 - accuracy: 1.00002023-03-02 11:00:46,565 : SwarmCallback : INFO : Starting Swarm merging round ...\r\n",
      "2023-03-02 11:00:58,671 : SwarmCallback : INFO : Calculated local loss using merged parameters = 0\r\n",
      "2023-03-02 11:01:07,797 : SwarmCallback : INFO : Merge Done: RVInt [cur: 128 Nxt: 128]\r\n",
      "\b\b\b\b\b\b\b\b\b\b\b\b\b\b\b\b\b\b\b\b\b\b\b\b\b\b\b\b\b\b\b\b\b\b\b\b\b\b\b\b\b\b\b\b\b\b\b\b\b\b\b\b\b\b\b\b\b\b\b\b\b\b\b\b\b\b\b\b\b\b\b\b\b\b\b\b\b\b\b\b\b\b\r",
      "11/22 [==============>...............] - ETA: 23s - loss: 0.1417 - accuracy: 0.9460\b\b\b\b\b\b\b\b\b\b\b\b\b\b\b\b\b\b\b\b\b\b\b\b\b\b\b\b\b\b\b\b\b\b\b\b\b\b\b\b\b\b\b\b\b\b\b\b\b\b\b\b\b\b\b\b\b\b\b\b\b\b\b\b\b\b\b\b\b\b\b\b\b\b\b\b\b\b\b\b\b\b\b\r",
      "22/22 [==============================] - 21s 1s/step - loss: 0.1280 - accuracy: 0.9488 - val_loss: 0.1361 - val_accuracy: 0.9342\r\n",
      "Epoch 19/32\r\n",
      "\r",
      " 1/22 [>.............................] - ETA: 0s - loss: 0.0820 - accuracy: 0.9688\b\b\b\b\b\b\b\b\b\b\b\b\b\b\b\b\b\b\b\b\b\b\b\b\b\b\b\b\b\b\b\b\b\b\b\b\b\b\b\b\b\b\b\b\b\b\b\b\b\b\b\b\b\b\b\b\b\b\b\b\b\b\b\b\b\b\b\b\b\b\b\b\b\b\b\b\b\b\b\b\b\b\r",
      "22/22 [==============================] - 0s 3ms/step - loss: 0.1253 - accuracy: 0.9532 - val_loss: 0.1328 - val_accuracy: 0.9386\r\n",
      "Epoch 20/32\r\n",
      "\r",
      " 1/22 [>.............................] - ETA: 0s - loss: 0.0778 - accuracy: 1.0000\b\b\b\b\b\b\b\b\b\b\b\b\b\b\b\b\b\b\b\b\b\b\b\b\b\b\b\b\b\b\b\b\b\b\b\b\b\b\b\b\b\b\b\b\b\b\b\b\b\b\b\b\b\b\b\b\b\b\b\b\b\b\b\b\b\b\b\b\b\b\b\b\b\b\b\b\b\b\b\b\b\b\r",
      "22/22 [==============================] - 0s 3ms/step - loss: 0.1267 - accuracy: 0.9503 - val_loss: 0.1382 - val_accuracy: 0.9386\r\n",
      "Epoch 21/32\r\n",
      "\r",
      " 1/22 [>.............................] - ETA: 0s - loss: 0.0795 - accuracy: 0.9688\b\b\b\b\b\b\b\b\b\b\b\b\b\b\b\b\b\b\b\b\b\b\b\b\b\b\b\b\b\b\b\b\b\b\b\b\b\b\b\b\b\b\b\b\b\b\b\b\b\b\b\b\b\b\b\b\b\b\b\b\b\b\b\b\b\b\b\b\b\b\b\b\b\b\b\b\b\b\b\b\b\b\r",
      "22/22 [==============================] - 0s 3ms/step - loss: 0.1274 - accuracy: 0.9532 - val_loss: 0.1332 - val_accuracy: 0.9386\r\n",
      "Epoch 22/32\r\n",
      "\r",
      " 1/22 [>.............................] - ETA: 0s - loss: 0.1128 - accuracy: 0.9375\b\b\b\b\b\b\b\b\b\b\b\b\b\b\b\b\b\b\b\b\b\b\b\b\b\b\b\b\b\b\b\b\b\b\b\b\b\b\b\b\b\b\b\b\b\b\b\b\b\b\b\b\b\b\b\b\b\b\b\b\b\b\b\b\b\b\b\b\b\b\b\b\b\b\b\b\b\b\b\b\b\b\r",
      "22/22 [==============================] - 0s 3ms/step - loss: 0.1236 - accuracy: 0.9561 - val_loss: 0.1307 - val_accuracy: 0.9430\r\n",
      "Epoch 23/32\r\n",
      "\r",
      " 1/22 [>.............................] - ETA: 0s - loss: 0.1283 - accuracy: 0.9375\b\b\b\b\b\b\b\b\b\b\b\b\b\b\b\b\b\b\b\b\b\b\b\b\b\b\b\b\b\b\b\b\b\b\b\b\b\b\b\b\b\b\b\b\b\b\b\b\b\b\b\b\b\b\b\b\b\b\b\b\b\b\b\b\b\b\b\b\b\b\b\b\b\b\b\b\b\b\b\b\b\b\r",
      "22/22 [==============================] - 0s 3ms/step - loss: 0.1239 - accuracy: 0.9576 - val_loss: 0.1306 - val_accuracy: 0.9430\r\n",
      "Epoch 24/32\r\n",
      "\r",
      " 1/22 [>.............................] - ETA: 0s - loss: 0.1777 - accuracy: 0.93752023-03-02 11:01:08,193 : SwarmCallback : INFO : Starting Swarm merging round ...\r\n",
      "2023-03-02 11:01:17,488 : SwarmCallback : INFO : Calculated local loss using merged parameters = 0\r\n",
      "2023-03-02 11:01:26,751 : SwarmCallback : INFO : Merge Done: RVInt [cur: 128 Nxt: 128]\r\n",
      "\b\b\b\b\b\b\b\b\b\b\b\b\b\b\b\b\b\b\b\b\b\b\b\b\b\b\b\b\b\b\b\b\b\b\b\b\b\b\b\b\b\b\b\b\b\b\b\b\b\b\b\b\b\b\b\b\b\b\b\b\b\b\b\b\b\b\b\b\b\b\b\b\b\b\b\b\b\b\b\b\b\b\r",
      " 7/22 [========>.....................] - ETA: 46s - loss: 0.1756 - accuracy: 0.9330\b\b\b\b\b\b\b\b\b\b\b\b\b\b\b\b\b\b\b\b\b\b\b\b\b\b\b\b\b\b\b\b\b\b\b\b\b\b\b\b\b\b\b\b\b\b\b\b\b\b\b\b\b\b\b\b\b\b\b\b\b\b\b\b\b\b\b\b\b\b\b\b\b\b\b\b\b\b\b\b\b\b\b\r",
      "22/22 [==============================] - 19s 887ms/step - loss: 0.1209 - accuracy: 0.9561 - val_loss: 0.1296 - val_accuracy: 0.9386\r\n",
      "Epoch 25/32\r\n",
      "\r",
      " 1/22 [>.............................] - ETA: 0s - loss: 0.2521 - accuracy: 0.9062\b\b\b\b\b\b\b\b\b\b\b\b\b\b\b\b\b\b\b\b\b\b\b\b\b\b\b\b\b\b\b\b\b\b\b\b\b\b\b\b\b\b\b\b\b\b\b\b\b\b\b\b\b\b\b\b\b\b\b\b\b\b\b\b\b\b\b\b\b\b\b\b\b\b\b\b\b\b\b\b\b\b\r",
      "22/22 [==============================] - 0s 3ms/step - loss: 0.1217 - accuracy: 0.9561 - val_loss: 0.1288 - val_accuracy: 0.9386\r\n",
      "Epoch 26/32\r\n",
      "\r",
      " 1/22 [>.............................] - ETA: 0s - loss: 0.0881 - accuracy: 0.9688\b\b\b\b\b\b\b\b\b\b\b\b\b\b\b\b\b\b\b\b\b\b\b\b\b\b\b\b\b\b\b\b\b\b\b\b\b\b\b\b\b\b\b\b\b\b\b\b\b\b\b\b\b\b\b\b\b\b\b\b\b\b\b\b\b\b\b\b\b\b\b\b\b\b\b\b\b\b\b\b\b\b\r",
      "22/22 [==============================] - 0s 4ms/step - loss: 0.1223 - accuracy: 0.9547 - val_loss: 0.1289 - val_accuracy: 0.9386\r\n",
      "Epoch 27/32\r\n",
      "\r",
      " 1/22 [>.............................] - ETA: 0s - loss: 0.2659 - accuracy: 0.8750\b\b\b\b\b\b\b\b\b\b\b\b\b\b\b\b\b\b\b\b\b\b\b\b\b\b\b\b\b\b\b\b\b\b\b\b\b\b\b\b\b\b\b\b\b\b\b\b\b\b\b\b\b\b\b\b\b\b\b\b\b\b\b\b\b\b\b\b\b\b\b\b\b\b\b\b\b\b\b\b\b\b\r",
      "22/22 [==============================] - 0s 4ms/step - loss: 0.1214 - accuracy: 0.9518 - val_loss: 0.1289 - val_accuracy: 0.9342\r\n",
      "Epoch 28/32\r\n",
      "\r",
      " 1/22 [>.............................] - ETA: 0s - loss: 0.1893 - accuracy: 0.9375\b\b\b\b\b\b\b\b\b\b\b\b\b\b\b\b\b\b\b\b\b\b\b\b\b\b\b\b\b\b\b\b\b\b\b\b\b\b\b\b\b\b\b\b\b\b\b\b\b\b\b\b\b\b\b\b\b\b\b\b\b\b\b\b\b\b\b\b\b\b\b\b\b\b\b\b\b\b\b\b\b\b\r",
      "22/22 [==============================] - 0s 5ms/step - loss: 0.1224 - accuracy: 0.9532 - val_loss: 0.1272 - val_accuracy: 0.9386\r\n",
      "Epoch 29/32\r\n",
      "\r",
      " 1/22 [>.............................] - ETA: 0s - loss: 0.0887 - accuracy: 0.9688\b\b\b\b\b\b\b\b\b\b\b\b\b\b\b\b\b\b\b\b\b\b\b\b\b\b\b\b\b\b\b\b\b\b\b\b\b\b\b\b\b\b\b\b\b\b\b\b\b\b\b\b\b\b\b\b\b\b\b\b\b\b\b\b\b\b\b\b\b\b\b\b\b\b\b\b\b\b\b\b\b\b\r",
      "22/22 [==============================] - 0s 4ms/step - loss: 0.1200 - accuracy: 0.9561 - val_loss: 0.1259 - val_accuracy: 0.9386\r\n",
      "Epoch 30/32\r\n",
      "\r",
      " 1/22 [>.............................] - ETA: 0s - loss: 0.1681 - accuracy: 0.96882023-03-02 11:01:27,267 : SwarmCallback : INFO : Starting Swarm merging round ...\r\n",
      "2023-03-02 11:01:39,052 : SwarmCallback : INFO : Calculated local loss using merged parameters = 0\r\n",
      "2023-03-02 11:01:48,168 : SwarmCallback : INFO : Merge Done: RVInt [cur: 128 Nxt: 128]\r\n",
      "\b\b\b\b\b\b\b\b\b\b\b\b\b\b\b\b\b\b\b\b\b\b\b\b\b\b\b\b\b\b\b\b\b\b\b\b\b\b\b\b\b\b\b\b\b\b\b\b\b\b\b\b\b\b\b\b\b\b\b\b\b\b\b\b\b\b\b\b\b\b\b\b\b\b\b\b\b\b\b\b\b\b\r",
      " 3/22 [===>..........................] - ETA: 3:18 - loss: 0.0978 - accuracy: 0.9896\b\b\b\b\b\b\b\b\b\b\b\b\b\b\b\b\b\b\b\b\b\b\b\b\b\b\b\b\b\b\b\b\b\b\b\b\b\b\b\b\b\b\b\b\b\b\b\b\b\b\b\b\b\b\b\b\b\b\b\b\b\b\b\b\b\b\b\b\b\b\b\b\b\b\b\b\b\b\b\b\b\b\b\b\r",
      "22/22 [==============================] - 21s 998ms/step - loss: 0.1200 - accuracy: 0.9547 - val_loss: 0.1258 - val_accuracy: 0.9430\r\n",
      "Epoch 31/32\r\n",
      "\r",
      " 1/22 [>.............................] - ETA: 0s - loss: 0.0717 - accuracy: 0.9688\b\b\b\b\b\b\b\b\b\b\b\b\b\b\b\b\b\b\b\b\b\b\b\b\b\b\b\b\b\b\b\b\b\b\b\b\b\b\b\b\b\b\b\b\b\b\b\b\b\b\b\b\b\b\b\b\b\b\b\b\b\b\b\b\b\b\b\b\b\b\b\b\b\b\b\b\b\b\b\b\b\b\r",
      "22/22 [==============================] - 0s 3ms/step - loss: 0.1201 - accuracy: 0.9547 - val_loss: 0.1245 - val_accuracy: 0.9386\r\n",
      "Epoch 32/32\r\n",
      "\r",
      " 1/22 [>.............................] - ETA: 0s - loss: 0.0826 - accuracy: 0.9688\b\b\b\b\b\b\b\b\b\b\b\b\b\b\b\b\b\b\b\b\b\b\b\b\b\b\b\b\b\b\b\b\b\b\b\b\b\b\b\b\b\b\b\b\b\b\b\b\b\b\b\b\b\b\b\b\b\b\b\b\b\b\b\b\b\b\b\b\b\b\b\b\b\b\b\b\b\b\b\b\b\b\r",
      "22/22 [==============================] - 0s 3ms/step - loss: 0.1195 - accuracy: 0.9547 - val_loss: 0.1231 - val_accuracy: 0.9386\r\n",
      "2023-03-02 11:01:48,353 : SwarmCallback : INFO : Finished local training !!!\r\n",
      "2023-03-02 11:01:48,353 : SwarmCallback : INFO : Swarm training may continue till trainings in min peers are done!\r\n",
      "2023-03-02 11:01:48,354 : SwarmCallback : INFO : Final merging starts at training end. Waiting for other peers to complete ...\r\n",
      "2023-03-02 11:01:57,669 : SwarmCallback : INFO : Calculated local loss using merged parameters = 0\r\n",
      "2023-03-02 11:02:10,408 : SwarmCallback : INFO : All peers and Swarm training rounds finished. Final Swarm model was loaded.\r\n",
      "Training done!\r\n",
      "\r",
      "1/8 [==>...........................] - ETA: 0s - loss: 0.0894 - accuracy: 0.9688\b\b\b\b\b\b\b\b\b\b\b\b\b\b\b\b\b\b\b\b\b\b\b\b\b\b\b\b\b\b\b\b\b\b\b\b\b\b\b\b\b\b\b\b\b\b\b\b\b\b\b\b\b\b\b\b\b\b\b\b\b\b\b\b\b\b\b\b\b\b\b\b\b\b\b\b\b\b\b\b\r",
      "8/8 [==============================] - 0s 1ms/step - loss: 0.1238 - accuracy: 0.9386\r\n",
      "2023-03-02 11:02:10.826332: W tensorflow/python/util/util.cc:368] Sets are not currently considered sequences, but this may change in the future, so consider avoiding using them.\r\n",
      "/usr/local/lib/python3.8/dist-packages/keras/optimizer_v2/gradient_descent.py:102: UserWarning: The `lr` argument is deprecated, use `learning_rate` instead.\r\n",
      "  super(SGD, self).__init__(name, **kwargs)\r\n",
      "***** Test loss: 0.12377327680587769\r\n",
      "***** Test accuracy: 0.9385964870452881\r\n",
      "Saved the trained model!\r\n"
     ]
    }
   ],
   "source": [
    "!docker logs demo-swarm_fd_task-u-2-97d1c19f2bb06f18"
   ]
  },
  {
   "cell_type": "code",
   "execution_count": 14,
   "id": "63ec08da",
   "metadata": {},
   "outputs": [
    {
     "name": "stdout",
     "output_type": "stream",
     "text": [
      "######################################################################\r\n",
      "##                    HPE SWARM LEARNING SL NODE                    ##\r\n",
      "######################################################################\r\n",
      "## © Copyright 2019-2022 Hewlett Packard Enterprise Development LP  ##\r\n",
      "######################################################################\r\n",
      "2023-03-02 10:59:29,226 : swarm.mlApp : INFO : Creating Autopass License Provider\r\n",
      "2023-03-02 10:59:33,546 : swarm.mlApp : INFO : Creating license server\r\n",
      "2023-03-02 10:59:33,546 : swarm.mlApp : INFO : Setting license servers\r\n",
      "2023-03-02 10:59:33,579 : swarm.mlApp : INFO : Acquiring floating license 1100000378:1\r\n",
      "2023-03-02 10:59:35,393 : swarm.mlApp : INFO : Opening pipes to communicate with user container ...\r\n",
      "2023-03-02T10:59:35.394630 /tmp/hpe-swarm/demo.3.request.pipe: File exists\r\n",
      "2023-03-02T10:59:35.395121 /tmp/hpe-swarm/demo.3.response.pipe: File exists\r\n",
      "2023-03-02 10:59:35,396 : swarm.mlCnt : INFO : Setting up SL Container :  START\r\n",
      "2023-03-02 10:59:35,553 : swarm.mlCnt : INFO : Instantiating file services for SL Container 172.19.0.11:30305\r\n",
      "localIp for fs service = 172.19.0.11\r\n",
      "2023-03-02 10:59:35,570 : swarm.mlCnt : INFO : Successfully completed the initialization of SL container ...\r\n",
      "2023-03-02 10:59:35,570 : swarm.mlCnt : INFO : Swarm callback API is called in SL container. Logger created.\r\n",
      "2023-03-02 10:59:35,571 : swarm.mlCnt : INFO : ***Swarm Callback Params: Inside SwarmCallbackSL at server side***\r\n",
      "2023-03-02 10:59:35,571 : swarm.mlCnt : INFO : sync_interval: 128\r\n",
      "2023-03-02 10:59:35,571 : swarm.mlCnt : INFO : min_peers: 4\r\n",
      "2023-03-02 10:59:35,571 : swarm.mlCnt : INFO : max_peers: 0\r\n",
      "2023-03-02 10:59:35,571 : swarm.mlCnt : INFO : val_batch_size: 0\r\n",
      "2023-03-02 10:59:35,571 : swarm.mlCnt : INFO : use_adaptive_sync: False\r\n",
      "2023-03-02 10:59:35,571 : swarm.mlCnt : INFO : checkin_model_on_train_end: CheckinModel.snapshot\r\n",
      "2023-03-02 10:59:35,571 : swarm.mlCnt : INFO : node_weightage: 1\r\n",
      "2023-03-02 10:59:35,571 : swarm.mlCnt : INFO : ***************************\r\n",
      "2023-03-02 10:59:41,685 : swarm.mlCnt : INFO : Registration with Node DB is successful\r\n",
      "2023-03-02 10:59:41,687 : swarm.mlCnt : INFO : SMLETHNode: Started I-am-Alive thread\r\n",
      "2023-03-02 10:59:41,687 : swarm.mlCnt : INFO : Creating object for context: defaultbb.cqdb.sml.hpe\r\n",
      "2023-03-02 10:59:41,758 : swarm.mlCnt : INFO : ============================================================\r\n",
      "2023-03-02 10:59:41,758 : swarm.mlCnt : INFO :               Starting Swarm Learning Training              \r\n",
      "2023-03-02 10:59:41,758 : swarm.mlCnt : INFO : ============================================================\r\n",
      "2023-03-02 10:59:41,758 : swarm.mlCnt : INFO :                     *** In SWOP Mode ***                    \r\n",
      "2023-03-02 10:59:47,864 : swarm.smlCBB : INFO : ***Swarm Network Configuration***\r\n",
      "2023-03-02 10:59:47,865 : swarm.smlCBB : INFO : Context:defaultbb.cqdb.sml.hpe\r\n",
      "2023-03-02 10:59:47,865 : swarm.smlCBB : INFO :     syncInterval      : 128\r\n",
      "2023-03-02 10:59:47,866 : swarm.smlCBB : INFO :     min_peers         : 4\r\n",
      "2023-03-02 10:59:47,866 : swarm.smlCBB : INFO :     blackboard_set_by : 172.19.0.5\r\n",
      "2023-03-02 10:59:47,867 : swarm.smlCBB : INFO :     adaptive_sync     : False\r\n",
      "2023-03-02 10:59:47,867 : swarm.smlCBB : INFO : ***************************\r\n",
      "2023-03-02 10:59:47,982 : swarm.mlCnt : INFO : Merging in SL container ...\r\n",
      "2023-03-02 11:00:06,966 : swarm.mlCnt : INFO : Merging in SL container ...\r\n",
      "2023-03-02 11:00:28,080 : swarm.mlCnt : INFO : Merging in SL container ...\r\n",
      "2023-03-02 11:00:46,730 : swarm.mlCnt : INFO : Merging in SL container ...\r\n",
      "2023-03-02 11:01:07,529 : swarm.mlCnt : INFO : Merging in SL container ...\r\n",
      "2023-03-02 11:01:27,291 : swarm.mlCnt : INFO : Merging in SL container ...\r\n",
      "2023-03-02 11:01:47,377 : swarm.mlCnt : INFO : Finished local training rounds. Train end is called in SL container\r\n",
      "2023-03-02 11:01:47,377 : swarm.mlCnt : INFO : Minimum required peers are still training. Continue syncing in SL ...\r\n",
      "2023-03-02 11:02:07,462 : swarm.mlCnt : INFO : ============================================================\r\n",
      "2023-03-02 11:02:07,462 : swarm.mlCnt : INFO :            All peers and Swarm training finished!           \r\n",
      "2023-03-02 11:02:07,462 : swarm.mlCnt : INFO : ============================================================\r\n",
      "Swarm training process completed. Exiting SL\r\n",
      "2023-03-02 11:02:10,493 : swarm.mlApp : INFO : User model training is completed. Closing all pipes and stopping SL container\r\n",
      "2023-03-02 11:02:10,494 : swarm.mlApp : WARNING : \u001b[93mReleasing license\u001b[0m\r\n",
      "/usr/lib/python3.8/site-packages/urllib3/connection.py:460: SubjectAltNameWarning: Certificate for 172.19.0.2 has no `subjectAltName`, falling back to check for a `commonName` for now. This feature is being removed by major browsers and deprecated by RFC 2818. (See https://github.com/urllib3/urllib3/issues/497 for details.)\r\n",
      "  warnings.warn(\r\n",
      "/usr/lib/python3.8/site-packages/urllib3/connection.py:460: SubjectAltNameWarning: Certificate for 172.19.0.2 has no `subjectAltName`, falling back to check for a `commonName` for now. This feature is being removed by major browsers and deprecated by RFC 2818. (See https://github.com/urllib3/urllib3/issues/497 for details.)\r\n",
      "  warnings.warn(\r\n"
     ]
    }
   ],
   "source": [
    "!docker logs demo-swarm_fd_task-s-3-47a70240030fb34a"
   ]
  },
  {
   "cell_type": "markdown",
   "id": "da26d646",
   "metadata": {},
   "source": [
    "clean up"
   ]
  },
  {
   "cell_type": "code",
   "execution_count": 15,
   "id": "fc15373c",
   "metadata": {},
   "outputs": [
    {
     "name": "stdout",
     "output_type": "stream",
     "text": [
      "Stopping all running Swarm Learning containers\n",
      "No running Swarm Learning containers found\n",
      "Removing all Swarm Learning containers\n",
      "4dc7b0fe32d9\n",
      "3bd7ccacbfa8\n",
      "6b569090a108\n",
      "22995f473a32\n",
      "Stopping all running Swarm Network containers\n",
      "83aa8e1b6463\n",
      "Removing all Swarm Network containers\n",
      "Error response from daemon: removal of container 83aa8e1b6463 is already in progress\n",
      "Stopping all running Swarm Command Interface containers\n",
      "No running Swarm Command Interface containers found\n",
      "Removing all Swarm Command Interface containers\n",
      "No Swarm Command Interface containers found\n",
      "Stopping all running Swarm Operator containers\n",
      "b1c62e329706\n",
      "Removing all Swarm Operator containers\n",
      "No Swarm Operator containers found\n"
     ]
    }
   ],
   "source": [
    "!./scripts/bin/stop-swarm"
   ]
  },
  {
   "cell_type": "code",
   "execution_count": 16,
   "id": "65e3c5d7",
   "metadata": {},
   "outputs": [
    {
     "name": "stdout",
     "output_type": "stream",
     "text": [
      "host-1-net\r\n"
     ]
    }
   ],
   "source": [
    "!docker network rm host-1-net"
   ]
  },
  {
   "cell_type": "code",
   "execution_count": 17,
   "id": "f87416f2",
   "metadata": {},
   "outputs": [
    {
     "name": "stdout",
     "output_type": "stream",
     "text": [
      "CONTAINER ID   IMAGE     COMMAND   CREATED   STATUS    PORTS     NAMES\r\n"
     ]
    }
   ],
   "source": [
    "!docker ps"
   ]
  },
  {
   "cell_type": "code",
   "execution_count": null,
   "id": "64cfb9ce",
   "metadata": {},
   "outputs": [],
   "source": []
  }
 ],
 "metadata": {
  "kernelspec": {
   "display_name": "Python 3 (ipykernel)",
   "language": "python",
   "name": "python3"
  },
  "language_info": {
   "codemirror_mode": {
    "name": "ipython",
    "version": 3
   },
   "file_extension": ".py",
   "mimetype": "text/x-python",
   "name": "python",
   "nbconvert_exporter": "python",
   "pygments_lexer": "ipython3",
   "version": "3.8.10"
  }
 },
 "nbformat": 4,
 "nbformat_minor": 5
}
