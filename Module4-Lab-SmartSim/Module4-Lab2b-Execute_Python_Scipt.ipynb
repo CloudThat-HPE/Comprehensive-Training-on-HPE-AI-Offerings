{
 "cells": [
  {
   "cell_type": "markdown",
   "id": "58ac35a0",
   "metadata": {},
   "source": [
    "# Python Script as SmartSim Experiment"
   ]
  },
  {
   "cell_type": "markdown",
   "id": "ec8b1b50",
   "metadata": {},
   "source": [
    "Here we are going to see how to execute an experiment included in a python script as a smart sim experiment"
   ]
  },
  {
   "cell_type": "code",
   "execution_count": 1,
   "id": "cc57762e",
   "metadata": {},
   "outputs": [],
   "source": [
    "from smartsim import Experiment"
   ]
  },
  {
   "cell_type": "markdown",
   "id": "09f9523d",
   "metadata": {},
   "source": [
    "We can write the script to output_my_parameter.py"
   ]
  },
  {
   "cell_type": "code",
   "execution_count": 2,
   "id": "e8e3f531",
   "metadata": {},
   "outputs": [
    {
     "name": "stdout",
     "output_type": "stream",
     "text": [
      "Writing output_my_parameter.py\n"
     ]
    }
   ],
   "source": [
    "%%writefile output_my_parameter.py\n",
    "import time\n",
    "\n",
    "time.sleep(2)\n",
    "print(\"Hello, my name is ;tutorial_name; \" +\n",
    "      \"and my parameter is ;tutorial_parameter;\")"
   ]
  },
  {
   "cell_type": "markdown",
   "id": "71abc80e",
   "metadata": {},
   "source": [
    "Initializing experiment"
   ]
  },
  {
   "cell_type": "code",
   "execution_count": 3,
   "id": "ab453613",
   "metadata": {},
   "outputs": [],
   "source": [
    "# Init Experiment and specify to launch locally\n",
    "exp = Experiment(name=\"getting-started\", launcher=\"local\")\n",
    "rs = exp.create_run_settings(exe=\"python3\", exe_args=\"output_my_parameter.py\")"
   ]
  },
  {
   "cell_type": "markdown",
   "id": "cf35175e",
   "metadata": {},
   "source": [
    "providing the script for execution"
   ]
  },
  {
   "cell_type": "code",
   "execution_count": 4,
   "id": "fc8277c0",
   "metadata": {},
   "outputs": [
    {
     "name": "stdout",
     "output_type": "stream",
     "text": [
      "08:23:09 instance-3 SmartSim[2096] INFO ensemble_0(2114): Completed\n",
      "08:23:09 instance-3 SmartSim[2096] INFO ensemble_1(2115): Completed\n",
      "08:23:09 instance-3 SmartSim[2096] INFO ensemble_2(2116): Completed\n",
      "08:23:10 instance-3 SmartSim[2096] INFO ensemble_3(2117): Completed\n",
      "08:23:11 instance-3 SmartSim[2096] INFO ensemble_3(2117): Completed\n"
     ]
    }
   ],
   "source": [
    "params = {\n",
    "    \"tutorial_name\": [\"Ellie\", \"John\"],\n",
    "    \"tutorial_parameter\": [2, 11]\n",
    "}\n",
    "ensemble = exp.create_ensemble(\"ensemble\", params=params, run_settings=rs, perm_strategy=\"all_perm\")\n",
    "\n",
    "# to_configure specifies that the files attached should be read and tags should be looked for\n",
    "config_file = \"./output_my_parameter.py\"\n",
    "ensemble.attach_generator_files(to_configure=config_file)\n",
    "\n",
    "exp.generate(ensemble, overwrite=True)\n",
    "exp.start(ensemble)"
   ]
  },
  {
   "cell_type": "markdown",
   "id": "c013b46c",
   "metadata": {},
   "source": [
    "Let's check the output files"
   ]
  },
  {
   "cell_type": "code",
   "execution_count": 5,
   "id": "4d007b7d",
   "metadata": {},
   "outputs": [
    {
     "name": "stdout",
     "output_type": "stream",
     "text": [
      "Content of getting-started/ensemble/ensemble_0/ensemble_0.out:\n",
      "Hello, my name is Ellie and my parameter is 2\n",
      "\n",
      "Content of getting-started/ensemble/ensemble_1/ensemble_1.out:\n",
      "Hello, my name is Ellie and my parameter is 11\n",
      "\n",
      "Content of getting-started/ensemble/ensemble_2/ensemble_2.out:\n",
      "Hello, my name is John and my parameter is 2\n",
      "\n",
      "Content of getting-started/ensemble/ensemble_3/ensemble_3.out:\n",
      "Hello, my name is John and my parameter is 11\n",
      "\n"
     ]
    }
   ],
   "source": [
    "for id in range(4):\n",
    "    outputfile = f\"getting-started/ensemble/ensemble_{id}/ensemble_{id}.out\"\n",
    "\n",
    "    print(f\"Content of {outputfile}:\")\n",
    "    with open(outputfile, 'r') as fin:\n",
    "        print(fin.read())"
   ]
  },
  {
   "cell_type": "markdown",
   "id": "e35eb433",
   "metadata": {},
   "source": [
    "Execution with random permutation "
   ]
  },
  {
   "cell_type": "code",
   "execution_count": 6,
   "id": "61c0265c",
   "metadata": {},
   "outputs": [
    {
     "name": "stdout",
     "output_type": "stream",
     "text": [
      "08:23:15 instance-3 SmartSim[2096] INFO Working in previously created experiment\n",
      "08:23:19 instance-3 SmartSim[2096] INFO ensemble_0(2120): Completed\n",
      "08:23:19 instance-3 SmartSim[2096] INFO ensemble_1(2121): Completed\n"
     ]
    }
   ],
   "source": [
    "params = {\n",
    "    \"tutorial_name\": [\"Ellie\", \"John\"],\n",
    "    \"tutorial_parameter\": [2, 11]\n",
    "}\n",
    "ensemble = exp.create_ensemble(\"ensemble\", params=params, run_settings=rs, perm_strategy=\"random\", n_models=2)\n",
    "config_file = \"./output_my_parameter.py\"\n",
    "ensemble.attach_generator_files(to_configure=config_file)\n",
    "\n",
    "exp.generate(ensemble, overwrite=True)\n",
    "exp.start(ensemble)"
   ]
  },
  {
   "cell_type": "markdown",
   "id": "1c2981b5",
   "metadata": {},
   "source": [
    "To pass parameters as tags "
   ]
  },
  {
   "cell_type": "code",
   "execution_count": 7,
   "id": "665e23ae",
   "metadata": {},
   "outputs": [
    {
     "name": "stdout",
     "output_type": "stream",
     "text": [
      "Writing output_my_parameter_new_tag.py\n"
     ]
    }
   ],
   "source": [
    "%%writefile output_my_parameter_new_tag.py\n",
    "# Contents of output_my_parameter_new_tag.py\n",
    "import time\n",
    "\n",
    "time.sleep(2)\n",
    "print(\"Hello, my name is @tutorial_name@ \" +\n",
    "      \"and my parameter is @tutorial_parameter@\")"
   ]
  },
  {
   "cell_type": "code",
   "execution_count": 8,
   "id": "a5279f97",
   "metadata": {},
   "outputs": [
    {
     "name": "stdout",
     "output_type": "stream",
     "text": [
      "08:23:20 instance-3 SmartSim[2096] INFO Working in previously created experiment\n",
      "08:23:25 instance-3 SmartSim[2096] INFO ensemble_new_tag_0(2124): Completed\n",
      "08:23:25 instance-3 SmartSim[2096] INFO ensemble_new_tag_1(2125): Completed\n",
      "08:23:25 instance-3 SmartSim[2096] INFO ensemble_new_tag_2(2126): Completed\n",
      "08:23:26 instance-3 SmartSim[2096] INFO ensemble_new_tag_3(2127): Completed\n",
      "08:23:27 instance-3 SmartSim[2096] INFO ensemble_new_tag_3(2127): Completed\n"
     ]
    }
   ],
   "source": [
    "rs = exp.create_run_settings(exe=\"python3\", exe_args=\"output_my_parameter_new_tag.py\")\n",
    "params = {\n",
    "    \"tutorial_name\": [\"Ellie\", \"John\"],\n",
    "    \"tutorial_parameter\": [2, 11]\n",
    "}\n",
    "ensemble = exp.create_ensemble(\"ensemble_new_tag\",\n",
    "                               params=params,\n",
    "                               run_settings=rs,\n",
    "                               perm_strategy=\"all_perm\")\n",
    "\n",
    "config_file = \"./output_my_parameter_new_tag.py\"\n",
    "ensemble.attach_generator_files(to_configure=config_file)\n",
    "\n",
    "exp.generate(ensemble, overwrite=True, tag='@')\n",
    "exp.start(ensemble)"
   ]
  },
  {
   "cell_type": "code",
   "execution_count": 9,
   "id": "b098833e",
   "metadata": {},
   "outputs": [
    {
     "name": "stdout",
     "output_type": "stream",
     "text": [
      "|    | Name               | Entity-Type   |   JobID |   RunID |    Time | Status    |   Returncode |\n",
      "|----|--------------------|---------------|---------|---------|---------|-----------|--------------|\n",
      "|  0 | ensemble_2         | Model         |    2116 |       0 | 4.215   | Completed |            0 |\n",
      "|  1 | ensemble_3         | Model         |    2117 |       0 | 6.0123  | Completed |            0 |\n",
      "|  2 | ensemble_0         | Model         |    2114 |       0 | 4.62396 | Completed |            0 |\n",
      "|  3 | ensemble_0         | Model         |    2120 |       1 | 4.21207 | Completed |            0 |\n",
      "|  4 | ensemble_1         | Model         |    2115 |       0 | 4.41951 | Completed |            0 |\n",
      "|  5 | ensemble_1         | Model         |    2121 |       1 | 4.00823 | Completed |            0 |\n",
      "|  6 | ensemble_new_tag_0 | Model         |    2124 |       0 | 4.62581 | Completed |            0 |\n",
      "|  7 | ensemble_new_tag_1 | Model         |    2125 |       0 | 4.42137 | Completed |            0 |\n",
      "|  8 | ensemble_new_tag_2 | Model         |    2126 |       0 | 4.21696 | Completed |            0 |\n",
      "|  9 | ensemble_new_tag_3 | Model         |    2127 |       0 | 6.01496 | Completed |            0 |\n"
     ]
    }
   ],
   "source": [
    "print(exp.summary())"
   ]
  }
 ],
 "metadata": {
  "kernelspec": {
   "display_name": "Python 3 (ipykernel)",
   "language": "python",
   "name": "python3"
  },
  "language_info": {
   "codemirror_mode": {
    "name": "ipython",
    "version": 3
   },
   "file_extension": ".py",
   "mimetype": "text/x-python",
   "name": "python",
   "nbconvert_exporter": "python",
   "pygments_lexer": "ipython3",
   "version": "3.8.10"
  }
 },
 "nbformat": 4,
 "nbformat_minor": 5
}
