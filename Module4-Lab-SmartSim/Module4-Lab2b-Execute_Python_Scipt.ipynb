{
 "cells": [
  {
   "cell_type": "markdown",
   "id": "58ac35a0",
   "metadata": {},
   "source": [
    "# Python Script as SmartSim Experiment"
   ]
  },
  {
   "cell_type": "markdown",
   "id": "ec8b1b50",
   "metadata": {},
   "source": [
    "Here we are going to see how to execute an experiment included in a python script as a smart sim experiment"
   ]
  },
  {
   "cell_type": "code",
   "execution_count": 1,
   "id": "cc57762e",
   "metadata": {},
   "outputs": [],
   "source": [
    "from smartsim import Experiment"
   ]
  },
  {
   "cell_type": "markdown",
   "id": "09f9523d",
   "metadata": {},
   "source": [
    "We can write the script to output_my_parameter.py"
   ]
  },
  {
   "cell_type": "code",
   "execution_count": 2,
   "id": "e8e3f531",
   "metadata": {},
   "outputs": [
    {
     "name": "stdout",
     "output_type": "stream",
     "text": [
      "Overwriting output_my_parameter.py\n"
     ]
    }
   ],
   "source": [
    "%%writefile output_my_parameter.py\n",
    "import time\n",
    "\n",
    "time.sleep(2)\n",
    "print(\"Hello, my name is ;tutorial_name; \" +\n",
    "      \"and my parameter is ;tutorial_parameter;\")"
   ]
  },
  {
   "cell_type": "markdown",
   "id": "71abc80e",
   "metadata": {},
   "source": [
    "Initializing experiment"
   ]
  },
  {
   "cell_type": "code",
   "execution_count": 3,
   "id": "ab453613",
   "metadata": {},
   "outputs": [],
   "source": [
    "# Init Experiment and specify to launch locally\n",
    "exp = Experiment(name=\"getting-started\", launcher=\"local\")\n",
    "rs = exp.create_run_settings(exe=\"python3\", exe_args=\"output_my_parameter.py\")"
   ]
  },
  {
   "cell_type": "markdown",
   "id": "cf35175e",
   "metadata": {},
   "source": [
    "providing the script for execution"
   ]
  },
  {
   "cell_type": "code",
   "execution_count": 4,
   "id": "fc8277c0",
   "metadata": {},
   "outputs": [
    {
     "name": "stdout",
     "output_type": "stream",
     "text": [
      "06:43:22 vm1 SmartSim[1755] INFO Working in previously created experiment\n",
      "06:43:27 vm1 SmartSim[1755] INFO ensemble_0(1944): Completed\n",
      "06:43:27 vm1 SmartSim[1755] INFO ensemble_1(1945): Completed\n",
      "06:43:27 vm1 SmartSim[1755] INFO ensemble_2(1946): Completed\n",
      "06:43:28 vm1 SmartSim[1755] INFO ensemble_3(1947): Completed\n",
      "06:43:29 vm1 SmartSim[1755] INFO ensemble_3(1947): Completed\n"
     ]
    }
   ],
   "source": [
    "params = {\n",
    "    \"tutorial_name\": [\"Ellie\", \"John\"],\n",
    "    \"tutorial_parameter\": [2, 11]\n",
    "}\n",
    "ensemble = exp.create_ensemble(\"ensemble\", params=params, run_settings=rs, perm_strategy=\"all_perm\")\n",
    "\n",
    "# to_configure specifies that the files attached should be read and tags should be looked for\n",
    "config_file = \"./output_my_parameter.py\"\n",
    "ensemble.attach_generator_files(to_configure=config_file)\n",
    "\n",
    "exp.generate(ensemble, overwrite=True)\n",
    "exp.start(ensemble)"
   ]
  },
  {
   "cell_type": "markdown",
   "id": "c013b46c",
   "metadata": {},
   "source": [
    "Let's check the output files"
   ]
  },
  {
   "cell_type": "code",
   "execution_count": 5,
   "id": "4d007b7d",
   "metadata": {},
   "outputs": [
    {
     "name": "stdout",
     "output_type": "stream",
     "text": [
      "Content of getting-started/ensemble/ensemble_0/ensemble_0.out:\n",
      "Hello, my name is Ellie and my parameter is 2\n",
      "\n",
      "Content of getting-started/ensemble/ensemble_1/ensemble_1.out:\n",
      "Hello, my name is Ellie and my parameter is 11\n",
      "\n",
      "Content of getting-started/ensemble/ensemble_2/ensemble_2.out:\n",
      "Hello, my name is John and my parameter is 2\n",
      "\n",
      "Content of getting-started/ensemble/ensemble_3/ensemble_3.out:\n",
      "Hello, my name is John and my parameter is 11\n",
      "\n"
     ]
    }
   ],
   "source": [
    "for id in range(4):\n",
    "    outputfile = f\"getting-started/ensemble/ensemble_{id}/ensemble_{id}.out\"\n",
    "\n",
    "    print(f\"Content of {outputfile}:\")\n",
    "    with open(outputfile, 'r') as fin:\n",
    "        print(fin.read())"
   ]
  },
  {
   "cell_type": "markdown",
   "id": "e35eb433",
   "metadata": {},
   "source": [
    "Execution with random permutation "
   ]
  },
  {
   "cell_type": "code",
   "execution_count": 6,
   "id": "61c0265c",
   "metadata": {},
   "outputs": [
    {
     "name": "stdout",
     "output_type": "stream",
     "text": [
      "06:43:33 vm1 SmartSim[1755] INFO Working in previously created experiment\n",
      "06:43:38 vm1 SmartSim[1755] INFO ensemble_0(1951): Completed\n",
      "06:43:38 vm1 SmartSim[1755] INFO ensemble_1(1952): Completed\n"
     ]
    }
   ],
   "source": [
    "params = {\n",
    "    \"tutorial_name\": [\"Ellie\", \"John\"],\n",
    "    \"tutorial_parameter\": [2, 11]\n",
    "}\n",
    "ensemble = exp.create_ensemble(\"ensemble\", params=params, run_settings=rs, perm_strategy=\"random\", n_models=2)\n",
    "config_file = \"./output_my_parameter.py\"\n",
    "ensemble.attach_generator_files(to_configure=config_file)\n",
    "\n",
    "exp.generate(ensemble, overwrite=True)\n",
    "exp.start(ensemble)"
   ]
  },
  {
   "cell_type": "markdown",
   "id": "1c2981b5",
   "metadata": {},
   "source": [
    "To pass parameters as tags "
   ]
  },
  {
   "cell_type": "code",
   "execution_count": 7,
   "id": "665e23ae",
   "metadata": {},
   "outputs": [
    {
     "name": "stdout",
     "output_type": "stream",
     "text": [
      "Writing output_my_parameter_new_tag.py\n"
     ]
    }
   ],
   "source": [
    "%%writefile output_my_parameter_new_tag.py\n",
    "# Contents of output_my_parameter_new_tag.py\n",
    "import time\n",
    "\n",
    "time.sleep(2)\n",
    "print(\"Hello, my name is @tutorial_name@ \" +\n",
    "      \"and my parameter is @tutorial_parameter@\")"
   ]
  },
  {
   "cell_type": "code",
   "execution_count": 9,
   "id": "a5279f97",
   "metadata": {},
   "outputs": [
    {
     "name": "stdout",
     "output_type": "stream",
     "text": [
      "06:44:15 vm1 SmartSim[1755] INFO Working in previously created experiment\n",
      "06:44:19 vm1 SmartSim[1755] INFO ensemble_new_tag_0(1959): Completed\n",
      "06:44:19 vm1 SmartSim[1755] INFO ensemble_new_tag_1(1960): Completed\n",
      "06:44:19 vm1 SmartSim[1755] INFO ensemble_new_tag_2(1961): Completed\n",
      "06:44:20 vm1 SmartSim[1755] INFO ensemble_new_tag_3(1962): Completed\n",
      "06:44:21 vm1 SmartSim[1755] INFO ensemble_new_tag_3(1962): Completed\n"
     ]
    }
   ],
   "source": [
    "rs = exp.create_run_settings(exe=\"python3\", exe_args=\"output_my_parameter_new_tag.py\")\n",
    "params = {\n",
    "    \"tutorial_name\": [\"Ellie\", \"John\"],\n",
    "    \"tutorial_parameter\": [2, 11]\n",
    "}\n",
    "ensemble = exp.create_ensemble(\"ensemble_new_tag\",\n",
    "                               params=params,\n",
    "                               run_settings=rs,\n",
    "                               perm_strategy=\"all_perm\")\n",
    "\n",
    "config_file = \"./output_my_parameter_new_tag.py\"\n",
    "ensemble.attach_generator_files(to_configure=config_file)\n",
    "\n",
    "exp.generate(ensemble, overwrite=True, tag='@')\n",
    "exp.start(ensemble)"
   ]
  },
  {
   "cell_type": "code",
   "execution_count": null,
   "id": "b098833e",
   "metadata": {},
   "outputs": [],
   "source": [
    "print(exp.summary())"
   ]
  }
 ],
 "metadata": {
  "kernelspec": {
   "display_name": "Python 3 (ipykernel)",
   "language": "python",
   "name": "python3"
  },
  "language_info": {
   "codemirror_mode": {
    "name": "ipython",
    "version": 3
   },
   "file_extension": ".py",
   "mimetype": "text/x-python",
   "name": "python",
   "nbconvert_exporter": "python",
   "pygments_lexer": "ipython3",
   "version": "3.8.10"
  }
 },
 "nbformat": 4,
 "nbformat_minor": 5
}
