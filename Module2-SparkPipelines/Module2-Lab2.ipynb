{
 "cells": [
  {
   "cell_type": "code",
   "execution_count": 1,
   "metadata": {},
   "outputs": [],
   "source": [
    "import findspark"
   ]
  },
  {
   "cell_type": "markdown",
   "metadata": {},
   "source": [
    "<hr />\n",
    "The following command adds the pyspark to sys.path at runtime. If the pyspark is not on the system path by default. It also prints the path of the spark.\n",
    "<hr />"
   ]
  },
  {
   "cell_type": "code",
   "execution_count": 2,
   "metadata": {},
   "outputs": [
    {
     "name": "stdout",
     "output_type": "stream",
     "text": [
      "/opt/spark\n"
     ]
    }
   ],
   "source": [
    "print(findspark.find())\n",
    "findspark.init()"
   ]
  },
  {
   "cell_type": "markdown",
   "metadata": {},
   "source": [
    "<hr />\n",
    "Create a Spark Session\n",
    "<hr />"
   ]
  },
  {
   "cell_type": "code",
   "execution_count": 3,
   "metadata": {},
   "outputs": [
    {
     "name": "stderr",
     "output_type": "stream",
     "text": [
      "23/01/20 18:53:59 WARN NativeCodeLoader: Unable to load native-hadoop library for your platform... using builtin-java classes where applicable\n",
      "Using Spark's default log4j profile: org/apache/spark/log4j-defaults.properties\n",
      "Setting default log level to \"WARN\".\n",
      "To adjust logging level use sc.setLogLevel(newLevel). For SparkR, use setLogLevel(newLevel).\n"
     ]
    }
   ],
   "source": [
    "from pyspark.sql import SparkSession\n",
    "\n",
    "spark = SparkSession \\\n",
    "    .builder \\\n",
    "    .appName(\"Pipeline\") \\\n",
    "    .master('local[2]') \\\n",
    "    .getOrCreate()"
   ]
  },
  {
   "cell_type": "markdown",
   "metadata": {},
   "source": [
    "<hr />\n",
    "Read the dataset into a dataframe.\n",
    "<hr />"
   ]
  },
  {
   "cell_type": "code",
   "execution_count": 4,
   "metadata": {},
   "outputs": [
    {
     "name": "stderr",
     "output_type": "stream",
     "text": [
      "                                                                                \r"
     ]
    }
   ],
   "source": [
    "df = spark.read.csv(\"udemy_dataset.csv\",header=True,inferSchema=True)"
   ]
  },
  {
   "cell_type": "markdown",
   "metadata": {},
   "source": [
    "<hr />\n",
    "Display the dataset.\n",
    "<hr />"
   ]
  },
  {
   "cell_type": "code",
   "execution_count": 5,
   "metadata": {},
   "outputs": [
    {
     "name": "stdout",
     "output_type": "stream",
     "text": [
      "-RECORD 0------------------------------------------------------------------------------------------------\n",
      " _c0                 | 0                                                                                 \n",
      " course_id           | 1070968                                                                           \n",
      " course_title        | Ultimate Investment Banking Course                                                \n",
      " url                 | https://www.udemy.com/ultimate-investment-banking-course/                         \n",
      " is_paid             | True                                                                              \n",
      " price               | 200                                                                               \n",
      " num_subscribers     | 2147                                                                              \n",
      " num_reviews         | 23                                                                                \n",
      " num_lectures        | 51                                                                                \n",
      " level               | All Levels                                                                        \n",
      " content_duration    | 1.5 hours                                                                         \n",
      " published_timestamp | 2017-01-18T20:58:58Z                                                              \n",
      " subject             | Business Finance                                                                  \n",
      " clean_course_title  | Ultimate Investment Banking Course                                                \n",
      "-RECORD 1------------------------------------------------------------------------------------------------\n",
      " _c0                 | 1                                                                                 \n",
      " course_id           | 1113822                                                                           \n",
      " course_title        | Complete GST Course & Certification - Grow Your CA Practice                       \n",
      " url                 | https://www.udemy.com/goods-and-services-tax/                                     \n",
      " is_paid             | True                                                                              \n",
      " price               | 75                                                                                \n",
      " num_subscribers     | 2792                                                                              \n",
      " num_reviews         | 923                                                                               \n",
      " num_lectures        | 274                                                                               \n",
      " level               | All Levels                                                                        \n",
      " content_duration    | 39 hours                                                                          \n",
      " published_timestamp | 2017-03-09T16:34:20Z                                                              \n",
      " subject             | Business Finance                                                                  \n",
      " clean_course_title  | Complete GST Course  Certification  Grow Practice                                 \n",
      "-RECORD 2------------------------------------------------------------------------------------------------\n",
      " _c0                 | 2                                                                                 \n",
      " course_id           | 1006314                                                                           \n",
      " course_title        | Financial Modeling for Business Analysts and Consultants                          \n",
      " url                 | https://www.udemy.com/financial-modeling-for-business-analysts-and-consultants/   \n",
      " is_paid             | True                                                                              \n",
      " price               | 45                                                                                \n",
      " num_subscribers     | 2174                                                                              \n",
      " num_reviews         | 74                                                                                \n",
      " num_lectures        | 51                                                                                \n",
      " level               | Intermediate Level                                                                \n",
      " content_duration    | 2.5 hours                                                                         \n",
      " published_timestamp | 2016-12-19T19:26:30Z                                                              \n",
      " subject             | Business Finance                                                                  \n",
      " clean_course_title  | Financial Modeling Business Analysts Consultants                                  \n",
      "-RECORD 3------------------------------------------------------------------------------------------------\n",
      " _c0                 | 3                                                                                 \n",
      " course_id           | 1210588                                                                           \n",
      " course_title        | Beginner to Pro - Financial Analysis in Excel 2017                                \n",
      " url                 | https://www.udemy.com/complete-excel-finance-course-from-beginner-to-pro/         \n",
      " is_paid             | True                                                                              \n",
      " price               | 95                                                                                \n",
      " num_subscribers     | 2451                                                                              \n",
      " num_reviews         | 11                                                                                \n",
      " num_lectures        | 36                                                                                \n",
      " level               | All Levels                                                                        \n",
      " content_duration    | 3 hours                                                                           \n",
      " published_timestamp | 2017-05-30T20:07:24Z                                                              \n",
      " subject             | Business Finance                                                                  \n",
      " clean_course_title  | Beginner Pro  Financial Analysis Excel 2017                                       \n",
      "-RECORD 4------------------------------------------------------------------------------------------------\n",
      " _c0                 | 4                                                                                 \n",
      " course_id           | 1011058                                                                           \n",
      " course_title        | How To Maximize Your Profits Trading Options                                      \n",
      " url                 | https://www.udemy.com/how-to-maximize-your-profits-trading-options/               \n",
      " is_paid             | True                                                                              \n",
      " price               | 200                                                                               \n",
      " num_subscribers     | 1276                                                                              \n",
      " num_reviews         | 45                                                                                \n",
      " num_lectures        | 26                                                                                \n",
      " level               | Intermediate Level                                                                \n",
      " content_duration    | 2 hours                                                                           \n",
      " published_timestamp | 2016-12-13T14:57:18Z                                                              \n",
      " subject             | Business Finance                                                                  \n",
      " clean_course_title  | Maximize Profits Trading Options                                                  \n",
      "-RECORD 5------------------------------------------------------------------------------------------------\n",
      " _c0                 | 5                                                                                 \n",
      " course_id           | 192870                                                                            \n",
      " course_title        | Trading Penny Stocks: A Guide for All Levels In 2017                              \n",
      " url                 | https://www.udemy.com/trading-penny-stocks-a-guide-for-all-levels/                \n",
      " is_paid             | True                                                                              \n",
      " price               | 150                                                                               \n",
      " num_subscribers     | 9221                                                                              \n",
      " num_reviews         | 138                                                                               \n",
      " num_lectures        | 25                                                                                \n",
      " level               | All Levels                                                                        \n",
      " content_duration    | 3 hours                                                                           \n",
      " published_timestamp | 2014-05-02T15:13:30Z                                                              \n",
      " subject             | Business Finance                                                                  \n",
      " clean_course_title  | Trading Penny Stocks Guide Levels 2017                                            \n",
      "-RECORD 6------------------------------------------------------------------------------------------------\n",
      " _c0                 | 6                                                                                 \n",
      " course_id           | 739964                                                                            \n",
      " course_title        | Investing And Trading For Beginners: Mastering Price Charts                       \n",
      " url                 | https://www.udemy.com/investing-and-trading-for-beginners-mastering-price-charts/ \n",
      " is_paid             | True                                                                              \n",
      " price               | 65                                                                                \n",
      " num_subscribers     | 1540                                                                              \n",
      " num_reviews         | 178                                                                               \n",
      " num_lectures        | 26                                                                                \n",
      " level               | Beginner Level                                                                    \n",
      " content_duration    | 1 hour                                                                            \n",
      " published_timestamp | 2016-02-21T18:23:12Z                                                              \n",
      " subject             | Business Finance                                                                  \n",
      " clean_course_title  | Investing Trading Beginners Mastering Price Charts                                \n",
      "-RECORD 7------------------------------------------------------------------------------------------------\n",
      " _c0                 | 7                                                                                 \n",
      " course_id           | 403100                                                                            \n",
      " course_title        | Trading Stock Chart Patterns For Immediate, Explosive Gains                       \n",
      " url                 | https://www.udemy.com/trading-chart-patterns-for-immediate-explosive-gains/       \n",
      " is_paid             | True                                                                              \n",
      " price               | 95                                                                                \n",
      " num_subscribers     | 2917                                                                              \n",
      " num_reviews         | 148                                                                               \n",
      " num_lectures        | 23                                                                                \n",
      " level               | All Levels                                                                        \n",
      " content_duration    | 2.5 hours                                                                         \n",
      " published_timestamp | 2015-01-30T22:13:03Z                                                              \n",
      " subject             | Business Finance                                                                  \n",
      " clean_course_title  | Trading Stock Chart Patterns Immediate Explosive Gains                            \n",
      "-RECORD 8------------------------------------------------------------------------------------------------\n",
      " _c0                 | 8                                                                                 \n",
      " course_id           | 476268                                                                            \n",
      " course_title        | Options Trading 3 : Advanced Stock Profit and Success Method                      \n",
      " url                 | https://www.udemy.com/day-trading-stock-options-3/                                \n",
      " is_paid             | True                                                                              \n",
      " price               | 195                                                                               \n",
      " num_subscribers     | 5172                                                                              \n",
      " num_reviews         | 34                                                                                \n",
      " num_lectures        | 38                                                                                \n",
      " level               | Expert Level                                                                      \n",
      " content_duration    | 2.5 hours                                                                         \n",
      " published_timestamp | 2015-05-28T00:14:03Z                                                              \n",
      " subject             | Business Finance                                                                  \n",
      " clean_course_title  | Options Trading 3  Advanced Stock Profit Success Method                           \n",
      "-RECORD 9------------------------------------------------------------------------------------------------\n",
      " _c0                 | 9                                                                                 \n",
      " course_id           | 1167710                                                                           \n",
      " course_title        | The Only Investment Strategy You Need For Your Retirement                         \n",
      " url                 | https://www.udemy.com/the-only-investment-strategy-you-need-for-your-retirement/  \n",
      " is_paid             | True                                                                              \n",
      " price               | 200                                                                               \n",
      " num_subscribers     | 827                                                                               \n",
      " num_reviews         | 14                                                                                \n",
      " num_lectures        | 15                                                                                \n",
      " level               | All Levels                                                                        \n",
      " content_duration    | 1 hour                                                                            \n",
      " published_timestamp | 2017-04-18T18:13:32Z                                                              \n",
      " subject             | Business Finance                                                                  \n",
      " clean_course_title  | Investment Strategy Need Retirement                                               \n",
      "-RECORD 10-----------------------------------------------------------------------------------------------\n",
      " _c0                 | 10                                                                                \n",
      " course_id           | 592338                                                                            \n",
      " course_title        | Forex Trading Secrets of the Pros With Amazon's AWS                               \n",
      " url                 | https://www.udemy.com/trading-with-amazons-aws-servers-trade-secrets-of-the-pros/ \n",
      " is_paid             | True                                                                              \n",
      " price               | 200                                                                               \n",
      " num_subscribers     | 4284                                                                              \n",
      " num_reviews         | 93                                                                                \n",
      " num_lectures        | 76                                                                                \n",
      " level               | All Levels                                                                        \n",
      " content_duration    | 5 hours                                                                           \n",
      " published_timestamp | 2015-09-11T16:47:02Z                                                              \n",
      " subject             | Business Finance                                                                  \n",
      " clean_course_title  | Forex Trading Secrets Pros Amazons AWS                                            \n",
      "-RECORD 11-----------------------------------------------------------------------------------------------\n",
      " _c0                 | 11                                                                                \n",
      " course_id           | 975046                                                                            \n",
      " course_title        | Trading Options With Money Flow                                                   \n",
      " url                 | https://www.udemy.com/trading-options-using-money-flow/                           \n",
      " is_paid             | True                                                                              \n",
      " price               | 200                                                                               \n",
      " num_subscribers     | 1380                                                                              \n",
      " num_reviews         | 42                                                                                \n",
      " num_lectures        | 17                                                                                \n",
      " level               | All Levels                                                                        \n",
      " content_duration    | 1 hour                                                                            \n",
      " published_timestamp | 2016-10-18T22:52:31Z                                                              \n",
      " subject             | Business Finance                                                                  \n",
      " clean_course_title  | Trading Options Money Flow                                                        \n",
      "-RECORD 12-----------------------------------------------------------------------------------------------\n",
      " _c0                 | 12                                                                                \n",
      " course_id           | 742602                                                                            \n",
      " course_title        | Financial Management Risk and Return For Securities                               \n",
      " url                 | https://www.udemy.com/risk-and-return-finance/                                    \n",
      " is_paid             | True                                                                              \n",
      " price               | 30                                                                                \n",
      " num_subscribers     | 3607                                                                              \n",
      " num_reviews         | 21                                                                                \n",
      " num_lectures        | 19                                                                                \n",
      " level               | All Levels                                                                        \n",
      " content_duration    | 1.5 hours                                                                         \n",
      " published_timestamp | 2016-02-03T18:04:01Z                                                              \n",
      " subject             | Business Finance                                                                  \n",
      " clean_course_title  | Financial Management Risk Return Securities                                       \n",
      "-RECORD 13-----------------------------------------------------------------------------------------------\n",
      " _c0                 | 13                                                                                \n",
      " course_id           | 794151                                                                            \n",
      " course_title        | Forex Trading Course: Work Smarter Not Harder Proven Results                      \n",
      " url                 | https://www.udemy.com/the-complete-trading-course/                                \n",
      " is_paid             | True                                                                              \n",
      " price               | 195                                                                               \n",
      " num_subscribers     | 4061                                                                              \n",
      " num_reviews         | 52                                                                                \n",
      " num_lectures        | 16                                                                                \n",
      " level               | All Levels                                                                        \n",
      " content_duration    | 2 hours                                                                           \n",
      " published_timestamp | 2016-03-16T15:40:19Z                                                              \n",
      " subject             | Business Finance                                                                  \n",
      " clean_course_title  | Forex Trading Course Work Smarter Harder Proven Results                           \n",
      "-RECORD 14-----------------------------------------------------------------------------------------------\n",
      " _c0                 | 14                                                                                \n",
      " course_id           | 1196544                                                                           \n",
      " course_title        | Python Algo Trading: Sentiment Trading with News                                  \n",
      " url                 | https://www.udemy.com/hedge-fund-strategy-trading-with-sentiment-analysis/        \n",
      " is_paid             | True                                                                              \n",
      " price               | 200                                                                               \n",
      " num_subscribers     | 294                                                                               \n",
      " num_reviews         | 19                                                                                \n",
      " num_lectures        | 42                                                                                \n",
      " level               | All Levels                                                                        \n",
      " content_duration    | 7 hours                                                                           \n",
      " published_timestamp | 2017-04-28T16:41:44Z                                                              \n",
      " subject             | Business Finance                                                                  \n",
      " clean_course_title  | Python Algo Trading Sentiment Trading News                                        \n",
      "-RECORD 15-----------------------------------------------------------------------------------------------\n",
      " _c0                 | 15                                                                                \n",
      " course_id           | 504036                                                                            \n",
      " course_title        | Short Selling: Learn To Sell Stocks Before The Fall                               \n",
      " url                 | https://www.udemy.com/short-selling-learn-to-sell-before-the-fall/                \n",
      " is_paid             | True                                                                              \n",
      " price               | 75                                                                                \n",
      " num_subscribers     | 2276                                                                              \n",
      " num_reviews         | 106                                                                               \n",
      " num_lectures        | 19                                                                                \n",
      " level               | Intermediate Level                                                                \n",
      " content_duration    | 1.5 hours                                                                         \n",
      " published_timestamp | 2015-06-22T21:18:35Z                                                              \n",
      " subject             | Business Finance                                                                  \n",
      " clean_course_title  | Short Selling Learn Sell Stocks Fall                                              \n",
      "-RECORD 16-----------------------------------------------------------------------------------------------\n",
      " _c0                 | 16                                                                                \n",
      " course_id           | 719698                                                                            \n",
      " course_title        | Basic Technical Analysis: Learn the structure of the market                       \n",
      " url                 | https://www.udemy.com/learn-basic-technical-analysis/                             \n",
      " is_paid             | True                                                                              \n",
      " price               | 20                                                                                \n",
      " num_subscribers     | 4919                                                                              \n",
      " num_reviews         | 79                                                                                \n",
      " num_lectures        | 16                                                                                \n",
      " level               | Beginner Level                                                                    \n",
      " content_duration    | 1.5 hours                                                                         \n",
      " published_timestamp | 2016-01-08T17:21:26Z                                                              \n",
      " subject             | Business Finance                                                                  \n",
      " clean_course_title  | Basic Technical Analysis Learn structure market                                   \n",
      "-RECORD 17-----------------------------------------------------------------------------------------------\n",
      " _c0                 | 17                                                                                \n",
      " course_id           | 564966                                                                            \n",
      " course_title        | The Complete Chart Pattern Trading Course: A Proven Approach                      \n",
      " url                 | https://www.udemy.com/make-money-trading-stocks-from-home/                        \n",
      " is_paid             | True                                                                              \n",
      " price               | 200                                                                               \n",
      " num_subscribers     | 2666                                                                              \n",
      " num_reviews         | 115                                                                               \n",
      " num_lectures        | 52                                                                                \n",
      " level               | All Levels                                                                        \n",
      " content_duration    | 4 hours                                                                           \n",
      " published_timestamp | 2015-08-10T21:07:35Z                                                              \n",
      " subject             | Business Finance                                                                  \n",
      " clean_course_title  | Complete Chart Pattern Trading Course Proven Approach                             \n",
      "-RECORD 18-----------------------------------------------------------------------------------------------\n",
      " _c0                 | 18                                                                                \n",
      " course_id           | 606928                                                                            \n",
      " course_title        | 7 Deadly Mistakes of Investing that Will Slash Your Profits!                      \n",
      " url                 | https://www.udemy.com/7-deadly-mistakes-of-investing/                             \n",
      " is_paid             | True                                                                              \n",
      " price               | 50                                                                                \n",
      " num_subscribers     | 5354                                                                              \n",
      " num_reviews         | 24                                                                                \n",
      " num_lectures        | 23                                                                                \n",
      " level               | All Levels                                                                        \n",
      " content_duration    | 1.5 hours                                                                         \n",
      " published_timestamp | 2015-09-21T18:10:34Z                                                              \n",
      " subject             | Business Finance                                                                  \n",
      " clean_course_title  | 7 Deadly Mistakes Investing Slash Profits                                         \n",
      "-RECORD 19-----------------------------------------------------------------------------------------------\n",
      " _c0                 | 19                                                                                \n",
      " course_id           | 58977                                                                             \n",
      " course_title        | Financial Statements Made Easy                                                    \n",
      " url                 | https://www.udemy.com/intro-to-financial-statements-for-entrepreneurs/            \n",
      " is_paid             | True                                                                              \n",
      " price               | 95                                                                                \n",
      " num_subscribers     | 8095                                                                              \n",
      " num_reviews         | 249                                                                               \n",
      " num_lectures        | 12                                                                                \n",
      " level               | Beginner Level                                                                    \n",
      " content_duration    | 35 mins                                                                           \n",
      " published_timestamp | 2013-06-09T00:21:26Z                                                              \n",
      " subject             | Business Finance                                                                  \n",
      " clean_course_title  | Financial Statements Easy                                                         \n",
      "only showing top 20 rows\n",
      "\n"
     ]
    },
    {
     "name": "stderr",
     "output_type": "stream",
     "text": [
      "23/01/20 18:54:13 WARN CSVHeaderChecker: CSV header does not conform to the schema.\n",
      " Header: , course_id, course_title, url, is_paid, price, num_subscribers, num_reviews, num_lectures, level, content_duration, published_timestamp, subject, clean_course_title\n",
      " Schema: _c0, course_id, course_title, url, is_paid, price, num_subscribers, num_reviews, num_lectures, level, content_duration, published_timestamp, subject, clean_course_title\n",
      "Expected: _c0 but found: \n",
      "CSV file: file:///home/amits/environments/ModuleWisenotebooks/Module2SparkPipelines/udemy_dataset.csv\n"
     ]
    }
   ],
   "source": [
    "df.show(truncate=False, vertical=True)"
   ]
  },
  {
   "cell_type": "markdown",
   "metadata": {},
   "source": [
    "<hr />\n",
    "Select the required input columns used for prediction.\n",
    "<hr />"
   ]
  },
  {
   "cell_type": "code",
   "execution_count": 6,
   "metadata": {},
   "outputs": [
    {
     "name": "stdout",
     "output_type": "stream",
     "text": [
      "+------------------------------------------------------------+----------------+\n",
      "|course_title                                                |subject         |\n",
      "+------------------------------------------------------------+----------------+\n",
      "|Ultimate Investment Banking Course                          |Business Finance|\n",
      "|Complete GST Course & Certification - Grow Your CA Practice |Business Finance|\n",
      "|Financial Modeling for Business Analysts and Consultants    |Business Finance|\n",
      "|Beginner to Pro - Financial Analysis in Excel 2017          |Business Finance|\n",
      "|How To Maximize Your Profits Trading Options                |Business Finance|\n",
      "|Trading Penny Stocks: A Guide for All Levels In 2017        |Business Finance|\n",
      "|Investing And Trading For Beginners: Mastering Price Charts |Business Finance|\n",
      "|Trading Stock Chart Patterns For Immediate, Explosive Gains |Business Finance|\n",
      "|Options Trading 3 : Advanced Stock Profit and Success Method|Business Finance|\n",
      "|The Only Investment Strategy You Need For Your Retirement   |Business Finance|\n",
      "|Forex Trading Secrets of the Pros With Amazon's AWS         |Business Finance|\n",
      "|Trading Options With Money Flow                             |Business Finance|\n",
      "|Financial Management Risk and Return For Securities         |Business Finance|\n",
      "|Forex Trading Course: Work Smarter Not Harder Proven Results|Business Finance|\n",
      "|Python Algo Trading: Sentiment Trading with News            |Business Finance|\n",
      "|Short Selling: Learn To Sell Stocks Before The Fall         |Business Finance|\n",
      "|Basic Technical Analysis: Learn the structure of the market |Business Finance|\n",
      "|The Complete Chart Pattern Trading Course: A Proven Approach|Business Finance|\n",
      "|7 Deadly Mistakes of Investing that Will Slash Your Profits!|Business Finance|\n",
      "|Financial Statements Made Easy                              |Business Finance|\n",
      "+------------------------------------------------------------+----------------+\n",
      "only showing top 20 rows\n",
      "\n"
     ]
    }
   ],
   "source": [
    "df = df.select('course_title','subject')\n",
    "df.show(truncate=False)"
   ]
  },
  {
   "cell_type": "markdown",
   "metadata": {},
   "source": [
    "<hr />\n",
    "Determine the count of records in the dataset.\n",
    "<hr />"
   ]
  },
  {
   "cell_type": "code",
   "execution_count": 7,
   "metadata": {},
   "outputs": [
    {
     "data": {
      "text/plain": [
       "3689"
      ]
     },
     "execution_count": 7,
     "metadata": {},
     "output_type": "execute_result"
    }
   ],
   "source": [
    "df.count()"
   ]
  },
  {
   "cell_type": "markdown",
   "metadata": {},
   "source": [
    "<hr />\n",
    "Drop the rows with Null values.\n",
    "<hr />"
   ]
  },
  {
   "cell_type": "code",
   "execution_count": 8,
   "metadata": {},
   "outputs": [
    {
     "data": {
      "text/plain": [
       "3683"
      ]
     },
     "execution_count": 8,
     "metadata": {},
     "output_type": "execute_result"
    }
   ],
   "source": [
    "df.toPandas()['subject'].isnull().sum()\n",
    "df = df.dropna(subset=('subject'))\n",
    "df.count()"
   ]
  },
  {
   "cell_type": "markdown",
   "metadata": {},
   "source": [
    "<hr />\n",
    "Split the dataset into Training and Testing.\n",
    "<hr />"
   ]
  },
  {
   "cell_type": "code",
   "execution_count": 9,
   "metadata": {},
   "outputs": [],
   "source": [
    "(trainDF,testDF) = df.randomSplit((0.7,0.3),seed=42)"
   ]
  },
  {
   "cell_type": "markdown",
   "metadata": {},
   "source": [
    "<hr />\n",
    "Import the pyspark modules required for pre-processing the data. <br>\n",
    "1. Tokenizer : To create tokens from the sentence <br>\n",
    "2. StopWordsRemover : To remove the stop words in the sentence <br>\n",
    "3. CountVectorizer : Extracts a vocabulary from dataset and generates a vectorized model with the count of occurance <br>\n",
    "4. IDF : Compute the Inverse Document Frequency (IDF) given a dataset. <br>\n",
    "5. StringIndexer : A label indexer that maps a string column of labels to an ML column of label indices. <br>\n",
    "<hr />"
   ]
  },
  {
   "cell_type": "code",
   "execution_count": 10,
   "metadata": {},
   "outputs": [],
   "source": [
    "from pyspark.ml.feature import Tokenizer,StopWordsRemover,CountVectorizer,IDF\n",
    "from pyspark.ml.feature import StringIndexer"
   ]
  },
  {
   "cell_type": "markdown",
   "metadata": {},
   "source": [
    "<hr />\n",
    "Initialzie the Estimators and Transformers.\n",
    "<hr />"
   ]
  },
  {
   "cell_type": "code",
   "execution_count": 11,
   "metadata": {},
   "outputs": [],
   "source": [
    "tokenizer = Tokenizer(inputCol='course_title',outputCol='mytokens')\n",
    "stopwords_remover = StopWordsRemover(inputCol='mytokens',outputCol='filtered_tokens')\n",
    "vectorizer = CountVectorizer(inputCol='filtered_tokens',outputCol='rawFeatures')\n",
    "idf = IDF(inputCol='rawFeatures',outputCol='vectorizedFeatures')"
   ]
  },
  {
   "cell_type": "code",
   "execution_count": 12,
   "metadata": {},
   "outputs": [],
   "source": [
    "labelEncoder = StringIndexer(inputCol='subject',outputCol='label')"
   ]
  },
  {
   "cell_type": "markdown",
   "metadata": {},
   "source": [
    "<hr />\n",
    "Import the pyspark modules required for training the model.\n",
    "<hr />"
   ]
  },
  {
   "cell_type": "code",
   "execution_count": 13,
   "metadata": {},
   "outputs": [],
   "source": [
    "from pyspark.ml.classification import LogisticRegression"
   ]
  },
  {
   "cell_type": "code",
   "execution_count": 14,
   "metadata": {},
   "outputs": [],
   "source": [
    "lr = LogisticRegression(featuresCol='vectorizedFeatures',labelCol='label')"
   ]
  },
  {
   "cell_type": "markdown",
   "metadata": {},
   "source": [
    "<hr />\n",
    "Create a Pipeline.\n",
    "<hr />"
   ]
  },
  {
   "cell_type": "code",
   "execution_count": 15,
   "metadata": {},
   "outputs": [],
   "source": [
    "from pyspark.ml import Pipeline "
   ]
  },
  {
   "cell_type": "code",
   "execution_count": 16,
   "metadata": {},
   "outputs": [],
   "source": [
    "pipeline = Pipeline(stages=[tokenizer,stopwords_remover,vectorizer,idf,labelEncoder,lr])"
   ]
  },
  {
   "cell_type": "markdown",
   "metadata": {},
   "source": [
    "<hr />\n",
    "Call the fit function for executing the pipeline and generating the trained model.\n",
    "<hr />"
   ]
  },
  {
   "cell_type": "code",
   "execution_count": 17,
   "metadata": {},
   "outputs": [
    {
     "name": "stderr",
     "output_type": "stream",
     "text": [
      "23/01/20 18:54:48 WARN BLAS: Failed to load implementation from: com.github.fommil.netlib.NativeSystemBLAS\n",
      "23/01/20 18:54:48 WARN BLAS: Failed to load implementation from: com.github.fommil.netlib.NativeRefBLAS\n"
     ]
    }
   ],
   "source": [
    "lr_model = pipeline.fit(trainDF)"
   ]
  },
  {
   "cell_type": "markdown",
   "metadata": {},
   "source": [
    "<hr />\n",
    "Display the Stages of the pipeline.\n",
    "<hr />"
   ]
  },
  {
   "cell_type": "code",
   "execution_count": 18,
   "metadata": {},
   "outputs": [
    {
     "data": {
      "text/plain": [
       "[Tokenizer_9c30f90f0a83,\n",
       " StopWordsRemover_46b26e865fb2,\n",
       " CountVectorizerModel: uid=CountVectorizer_27489aa75d10, vocabularySize=3670,\n",
       " IDFModel: uid=IDF_25c62948c5c3, numDocs=2631, numFeatures=3670,\n",
       " StringIndexerModel: uid=StringIndexer_c5fd7ba0a0f8, handleInvalid=error,\n",
       " LogisticRegressionModel: uid=LogisticRegression_cd211b1815de, numClasses=8, numFeatures=3670]"
      ]
     },
     "execution_count": 18,
     "metadata": {},
     "output_type": "execute_result"
    }
   ],
   "source": [
    "lr_model.stages"
   ]
  },
  {
   "cell_type": "markdown",
   "metadata": {},
   "source": [
    "<hr />\n",
    "Use the pipeline to generate predictions for the test data.\n",
    "<hr />"
   ]
  },
  {
   "cell_type": "code",
   "execution_count": 19,
   "metadata": {},
   "outputs": [
    {
     "name": "stderr",
     "output_type": "stream",
     "text": [
      "23/01/20 18:54:50 WARN StringIndexerModel: Input column subject does not exist during transformation. Skip StringIndexerModel for this column.\n"
     ]
    }
   ],
   "source": [
    "predictions = lr_model.transform(testDF.select('course_title'))"
   ]
  },
  {
   "cell_type": "markdown",
   "metadata": {},
   "source": [
    "<hr />\n",
    "Display the predictions.\n",
    "<hr />"
   ]
  },
  {
   "cell_type": "code",
   "execution_count": 20,
   "metadata": {},
   "outputs": [
    {
     "name": "stdout",
     "output_type": "stream",
     "text": [
      "-RECORD 0----------------------------------\n",
      " course_title       | #12 Hand Coordina... \n",
      " mytokens           | [#12, hand, coord... \n",
      " filtered_tokens    | [#12, hand, coord... \n",
      " rawFeatures        | (3670,[394,491,60... \n",
      " vectorizedFeatures | (3670,[394,491,60... \n",
      " rawPrediction      | [7.02282674468303... \n",
      " probability        | [0.82104939581835... \n",
      " prediction         | 0.0                  \n",
      "-RECORD 1----------------------------------\n",
      " course_title       | #7 Piano Hand Coo... \n",
      " mytokens           | [#7, piano, hand,... \n",
      " filtered_tokens    | [#7, piano, hand,... \n",
      " rawFeatures        | (3670,[9,13,60,23... \n",
      " vectorizedFeatures | (3670,[9,13,60,23... \n",
      " rawPrediction      | [-1.9893273622912... \n",
      " probability        | [1.19573187492450... \n",
      " prediction         | 2.0                  \n",
      "-RECORD 2----------------------------------\n",
      " course_title       | 'Greensleeves' Cr... \n",
      " mytokens           | ['greensleeves', ... \n",
      " filtered_tokens    | ['greensleeves', ... \n",
      " rawFeatures        | (3670,[6,9,45,375... \n",
      " vectorizedFeatures | (3670,[6,9,45,375... \n",
      " rawPrediction      | [-0.0750241469895... \n",
      " probability        | [1.56533317372147... \n",
      " prediction         | 2.0                  \n",
      "-RECORD 3----------------------------------\n",
      " course_title       | * An Integrated A... \n",
      " mytokens           | [*, an, integrate... \n",
      " filtered_tokens    | [*, integrated, a... \n",
      " rawFeatures        | (3670,[23,75,435,... \n",
      " vectorizedFeatures | (3670,[23,75,435,... \n",
      " rawPrediction      | [-1.7163255048250... \n",
      " probability        | [9.18733754463566... \n",
      " prediction         | 1.0                  \n",
      "-RECORD 4----------------------------------\n",
      " course_title       | 1 Hour HTML          \n",
      " mytokens           | [1, hour, html]      \n",
      " filtered_tokens    | [1, hour, html]      \n",
      " rawFeatures        | (3670,[24,36,110]... \n",
      " vectorizedFeatures | (3670,[24,36,110]... \n",
      " rawPrediction      | [22.0026708069427... \n",
      " probability        | [0.9999999946231,... \n",
      " prediction         | 0.0                  \n",
      "-RECORD 5----------------------------------\n",
      " course_title       | 1 Hour JavaScript    \n",
      " mytokens           | [1, hour, javascr... \n",
      " filtered_tokens    | [1, hour, javascr... \n",
      " rawFeatures        | (3670,[18,36,110]... \n",
      " vectorizedFeatures | (3670,[18,36,110]... \n",
      " rawPrediction      | [19.7801401257971... \n",
      " probability        | [0.99999996262851... \n",
      " prediction         | 0.0                  \n",
      "-RECORD 6----------------------------------\n",
      " course_title       | 1 hour jQuery        \n",
      " mytokens           | [1, hour, jquery]    \n",
      " filtered_tokens    | [1, hour, jquery]    \n",
      " rawFeatures        | (3670,[36,62,110]... \n",
      " vectorizedFeatures | (3670,[36,62,110]... \n",
      " rawPrediction      | [17.9021645772962... \n",
      " probability        | [0.99999983832147... \n",
      " prediction         | 0.0                  \n",
      "-RECORD 7----------------------------------\n",
      " course_title       | 101 Awesome Rocka... \n",
      " mytokens           | [101, awesome, ro... \n",
      " filtered_tokens    | [101, awesome, ro... \n",
      " rawFeatures        | (3670,[7,233,291,... \n",
      " vectorizedFeatures | (3670,[7,233,291,... \n",
      " rawPrediction      | [-6.0529577368689... \n",
      " probability        | [2.75641129070927... \n",
      " prediction         | 2.0                  \n",
      "-RECORD 8----------------------------------\n",
      " course_title       | 15  Motion Graphi... \n",
      " mytokens           | [15, , motion, gr... \n",
      " filtered_tokens    | [15, , motion, gr... \n",
      " rawFeatures        | (3670,[35,90,434,... \n",
      " vectorizedFeatures | (3670,[35,90,434,... \n",
      " rawPrediction      | [-18.392289273215... \n",
      " probability        | [8.00528127791833... \n",
      " prediction         | 3.0                  \n",
      "-RECORD 9----------------------------------\n",
      " course_title       | 150 Rock Guitar L... \n",
      " mytokens           | [150, rock, guita... \n",
      " filtered_tokens    | [150, rock, guita... \n",
      " rawFeatures        | (3670,[7,145,175,... \n",
      " vectorizedFeatures | (3670,[7,145,175,... \n",
      " rawPrediction      | [-2.9233604532039... \n",
      " probability        | [7.02972708569597... \n",
      " prediction         | 2.0                  \n",
      "-RECORD 10---------------------------------\n",
      " course_title       | 16 Guitar Chords ... \n",
      " mytokens           | [16, guitar, chor... \n",
      " filtered_tokens    | [16, guitar, chor... \n",
      " rawFeatures        | (3670,[0,7,129,17... \n",
      " vectorizedFeatures | (3670,[0,7,129,17... \n",
      " rawPrediction      | [-4.1297933733606... \n",
      " probability        | [1.26614608264548... \n",
      " prediction         | 2.0                  \n",
      "-RECORD 11---------------------------------\n",
      " course_title       | 2. Principles of ... \n",
      " mytokens           | [2., principles, ... \n",
      " filtered_tokens    | [2., principles, ... \n",
      " rawFeatures        | (3670,[0,41,102,3... \n",
      " vectorizedFeatures | (3670,[0,41,102,3... \n",
      " rawPrediction      | [-0.3787598105870... \n",
      " probability        | [5.90457415126446... \n",
      " prediction         | 1.0                  \n",
      "-RECORD 12---------------------------------\n",
      " course_title       | 3 Little Pigs: A ... \n",
      " mytokens           | [3, little, pigs:... \n",
      " filtered_tokens    | [3, little, pigs:... \n",
      " rawFeatures        | (3670,[2,11,60,14... \n",
      " vectorizedFeatures | (3670,[2,11,60,14... \n",
      " rawPrediction      | [-6.5700380992636... \n",
      " probability        | [1.32285511652150... \n",
      " prediction         | 1.0                  \n",
      "-RECORD 13---------------------------------\n",
      " course_title       | 3 documentos clav... \n",
      " mytokens           | [3, documentos, c... \n",
      " filtered_tokens    | [3, documentos, c... \n",
      " rawFeatures        | (3670,[60,89,165,... \n",
      " vectorizedFeatures | (3670,[60,89,165,... \n",
      " rawPrediction      | [4.47889650252429... \n",
      " probability        | [0.08233217288642... \n",
      " prediction         | 1.0                  \n",
      "-RECORD 14---------------------------------\n",
      " course_title       | 3. Compound Inter... \n",
      " mytokens           | [3., compound, in... \n",
      " filtered_tokens    | [3., compound, in... \n",
      " rawFeatures        | (3670,[1092],[1.0])  \n",
      " vectorizedFeatures | (3670,[1092],[6.7... \n",
      " rawPrediction      | [1.67156230054907... \n",
      " probability        | [3.97725566734836... \n",
      " prediction         | 1.0                  \n",
      "-RECORD 15---------------------------------\n",
      " course_title       | 31 Day Guitar Cha... \n",
      " mytokens           | [31, day, guitar,... \n",
      " filtered_tokens    | [31, day, guitar,... \n",
      " rawFeatures        | (3670,[7,112,1870... \n",
      " vectorizedFeatures | (3670,[7,112,1870... \n",
      " rawPrediction      | [-7.0959235753843... \n",
      " probability        | [2.19786787998276... \n",
      " prediction         | 2.0                  \n",
      "-RECORD 16---------------------------------\n",
      " course_title       | 3D Programming wi... \n",
      " mytokens           | [3d, programming,... \n",
      " filtered_tokens    | [3d, programming,... \n",
      " rawFeatures        | (3670,[4,87,339],... \n",
      " vectorizedFeatures | (3670,[4,87,339],... \n",
      " rawPrediction      | [9.57277108824764... \n",
      " probability        | [0.91531957007733... \n",
      " prediction         | 0.0                  \n",
      "-RECORD 17---------------------------------\n",
      " course_title       | 4. Ordinary Simpl... \n",
      " mytokens           | [4., ordinary, si... \n",
      " filtered_tokens    | [4., ordinary, si... \n",
      " rawFeatures        | (3670,[38,102],[1... \n",
      " vectorizedFeatures | (3670,[38,102],[3... \n",
      " rawPrediction      | [2.22053558911512... \n",
      " probability        | [0.00127925067379... \n",
      " prediction         | 1.0                  \n",
      "-RECORD 18---------------------------------\n",
      " course_title       | 5 lecciones que t... \n",
      " mytokens           | [5, lecciones, qu... \n",
      " filtered_tokens    | [5, lecciones, qu... \n",
      " rawFeatures        | (3670,[82,3515],[... \n",
      " vectorizedFeatures | (3670,[82,3515],[... \n",
      " rawPrediction      | [5.92912092421248... \n",
      " probability        | [0.88953300238364... \n",
      " prediction         | 0.0                  \n",
      "-RECORD 19---------------------------------\n",
      " course_title       | 6 Must Know Trick... \n",
      " mytokens           | [6, must, know, t... \n",
      " filtered_tokens    | [6, must, know, t... \n",
      " rawFeatures        | (3670,[145,255,32... \n",
      " vectorizedFeatures | (3670,[145,255,32... \n",
      " rawPrediction      | [12.6577595607322... \n",
      " probability        | [0.99474285309207... \n",
      " prediction         | 0.0                  \n",
      "only showing top 20 rows\n",
      "\n"
     ]
    }
   ],
   "source": [
    "predictions.show(vertical=True)"
   ]
  },
  {
   "cell_type": "code",
   "execution_count": 21,
   "metadata": {},
   "outputs": [
    {
     "name": "stdout",
     "output_type": "stream",
     "text": [
      "-RECORD 0----------------------------------\n",
      " course_title       | #12 Hand Coordina... \n",
      " subject            | Musical Instruments  \n",
      " mytokens           | [#12, hand, coord... \n",
      " filtered_tokens    | [#12, hand, coord... \n",
      " rawFeatures        | (3670,[394,491,60... \n",
      " vectorizedFeatures | (3670,[394,491,60... \n",
      " label              | 2.0                  \n",
      " rawPrediction      | [7.02282674468303... \n",
      " probability        | [0.82104939581835... \n",
      " prediction         | 0.0                  \n",
      "-RECORD 1----------------------------------\n",
      " course_title       | #7 Piano Hand Coo... \n",
      " subject            | Musical Instruments  \n",
      " mytokens           | [#7, piano, hand,... \n",
      " filtered_tokens    | [#7, piano, hand,... \n",
      " rawFeatures        | (3670,[9,13,60,23... \n",
      " vectorizedFeatures | (3670,[9,13,60,23... \n",
      " label              | 2.0                  \n",
      " rawPrediction      | [-1.9893273622912... \n",
      " probability        | [1.19573187492450... \n",
      " prediction         | 2.0                  \n",
      "-RECORD 2----------------------------------\n",
      " course_title       | 'Greensleeves' Cr... \n",
      " subject            | Musical Instruments  \n",
      " mytokens           | ['greensleeves', ... \n",
      " filtered_tokens    | ['greensleeves', ... \n",
      " rawFeatures        | (3670,[6,9,45,375... \n",
      " vectorizedFeatures | (3670,[6,9,45,375... \n",
      " label              | 2.0                  \n",
      " rawPrediction      | [-0.0750241469895... \n",
      " probability        | [1.56533317372147... \n",
      " prediction         | 2.0                  \n",
      "-RECORD 3----------------------------------\n",
      " course_title       | * An Integrated A... \n",
      " subject            | Business Finance     \n",
      " mytokens           | [*, an, integrate... \n",
      " filtered_tokens    | [*, integrated, a... \n",
      " rawFeatures        | (3670,[23,75,435,... \n",
      " vectorizedFeatures | (3670,[23,75,435,... \n",
      " label              | 1.0                  \n",
      " rawPrediction      | [-1.7163255048250... \n",
      " probability        | [9.18733754463566... \n",
      " prediction         | 1.0                  \n",
      "-RECORD 4----------------------------------\n",
      " course_title       | 1 Hour HTML          \n",
      " subject            | Web Development      \n",
      " mytokens           | [1, hour, html]      \n",
      " filtered_tokens    | [1, hour, html]      \n",
      " rawFeatures        | (3670,[24,36,110]... \n",
      " vectorizedFeatures | (3670,[24,36,110]... \n",
      " label              | 0.0                  \n",
      " rawPrediction      | [22.0026708069427... \n",
      " probability        | [0.9999999946231,... \n",
      " prediction         | 0.0                  \n",
      "-RECORD 5----------------------------------\n",
      " course_title       | 1 Hour JavaScript    \n",
      " subject            | Web Development      \n",
      " mytokens           | [1, hour, javascr... \n",
      " filtered_tokens    | [1, hour, javascr... \n",
      " rawFeatures        | (3670,[18,36,110]... \n",
      " vectorizedFeatures | (3670,[18,36,110]... \n",
      " label              | 0.0                  \n",
      " rawPrediction      | [19.7801401257971... \n",
      " probability        | [0.99999996262851... \n",
      " prediction         | 0.0                  \n",
      "-RECORD 6----------------------------------\n",
      " course_title       | 1 hour jQuery        \n",
      " subject            | Web Development      \n",
      " mytokens           | [1, hour, jquery]    \n",
      " filtered_tokens    | [1, hour, jquery]    \n",
      " rawFeatures        | (3670,[36,62,110]... \n",
      " vectorizedFeatures | (3670,[36,62,110]... \n",
      " label              | 0.0                  \n",
      " rawPrediction      | [17.9021645772962... \n",
      " probability        | [0.99999983832147... \n",
      " prediction         | 0.0                  \n",
      "-RECORD 7----------------------------------\n",
      " course_title       | 101 Awesome Rocka... \n",
      " subject            | Musical Instruments  \n",
      " mytokens           | [101, awesome, ro... \n",
      " filtered_tokens    | [101, awesome, ro... \n",
      " rawFeatures        | (3670,[7,233,291,... \n",
      " vectorizedFeatures | (3670,[7,233,291,... \n",
      " label              | 2.0                  \n",
      " rawPrediction      | [-6.0529577368689... \n",
      " probability        | [2.75641129070927... \n",
      " prediction         | 2.0                  \n",
      "-RECORD 8----------------------------------\n",
      " course_title       | 15  Motion Graphi... \n",
      " subject            | Graphic Design       \n",
      " mytokens           | [15, , motion, gr... \n",
      " filtered_tokens    | [15, , motion, gr... \n",
      " rawFeatures        | (3670,[35,90,434,... \n",
      " vectorizedFeatures | (3670,[35,90,434,... \n",
      " label              | 3.0                  \n",
      " rawPrediction      | [-18.392289273215... \n",
      " probability        | [8.00528127791833... \n",
      " prediction         | 3.0                  \n",
      "-RECORD 9----------------------------------\n",
      " course_title       | 150 Rock Guitar L... \n",
      " subject            | Musical Instruments  \n",
      " mytokens           | [150, rock, guita... \n",
      " filtered_tokens    | [150, rock, guita... \n",
      " rawFeatures        | (3670,[7,145,175,... \n",
      " vectorizedFeatures | (3670,[7,145,175,... \n",
      " label              | 2.0                  \n",
      " rawPrediction      | [-2.9233604532039... \n",
      " probability        | [7.02972708569597... \n",
      " prediction         | 2.0                  \n",
      "-RECORD 10---------------------------------\n",
      " course_title       | 16 Guitar Chords ... \n",
      " subject            | Musical Instruments  \n",
      " mytokens           | [16, guitar, chor... \n",
      " filtered_tokens    | [16, guitar, chor... \n",
      " rawFeatures        | (3670,[0,7,129,17... \n",
      " vectorizedFeatures | (3670,[0,7,129,17... \n",
      " label              | 2.0                  \n",
      " rawPrediction      | [-4.1297933733606... \n",
      " probability        | [1.26614608264548... \n",
      " prediction         | 2.0                  \n",
      "-RECORD 11---------------------------------\n",
      " course_title       | 2. Principles of ... \n",
      " subject            | Business Finance     \n",
      " mytokens           | [2., principles, ... \n",
      " filtered_tokens    | [2., principles, ... \n",
      " rawFeatures        | (3670,[0,41,102,3... \n",
      " vectorizedFeatures | (3670,[0,41,102,3... \n",
      " label              | 1.0                  \n",
      " rawPrediction      | [-0.3787598105870... \n",
      " probability        | [5.90457415126446... \n",
      " prediction         | 1.0                  \n",
      "-RECORD 12---------------------------------\n",
      " course_title       | 3 Little Pigs: A ... \n",
      " subject            | Business Finance     \n",
      " mytokens           | [3, little, pigs:... \n",
      " filtered_tokens    | [3, little, pigs:... \n",
      " rawFeatures        | (3670,[2,11,60,14... \n",
      " vectorizedFeatures | (3670,[2,11,60,14... \n",
      " label              | 1.0                  \n",
      " rawPrediction      | [-6.5700380992636... \n",
      " probability        | [1.32285511652150... \n",
      " prediction         | 1.0                  \n",
      "-RECORD 13---------------------------------\n",
      " course_title       | 3 documentos clav... \n",
      " subject            | Business Finance     \n",
      " mytokens           | [3, documentos, c... \n",
      " filtered_tokens    | [3, documentos, c... \n",
      " rawFeatures        | (3670,[60,89,165,... \n",
      " vectorizedFeatures | (3670,[60,89,165,... \n",
      " label              | 1.0                  \n",
      " rawPrediction      | [4.47889650252429... \n",
      " probability        | [0.08233217288642... \n",
      " prediction         | 1.0                  \n",
      "-RECORD 14---------------------------------\n",
      " course_title       | 3. Compound Inter... \n",
      " subject            | Business Finance     \n",
      " mytokens           | [3., compound, in... \n",
      " filtered_tokens    | [3., compound, in... \n",
      " rawFeatures        | (3670,[1092],[1.0])  \n",
      " vectorizedFeatures | (3670,[1092],[6.7... \n",
      " label              | 1.0                  \n",
      " rawPrediction      | [1.67156230054907... \n",
      " probability        | [3.97725566734836... \n",
      " prediction         | 1.0                  \n",
      "-RECORD 15---------------------------------\n",
      " course_title       | 31 Day Guitar Cha... \n",
      " subject            | Musical Instruments  \n",
      " mytokens           | [31, day, guitar,... \n",
      " filtered_tokens    | [31, day, guitar,... \n",
      " rawFeatures        | (3670,[7,112,1870... \n",
      " vectorizedFeatures | (3670,[7,112,1870... \n",
      " label              | 2.0                  \n",
      " rawPrediction      | [-7.0959235753843... \n",
      " probability        | [2.19786787998276... \n",
      " prediction         | 2.0                  \n",
      "-RECORD 16---------------------------------\n",
      " course_title       | 3D Programming wi... \n",
      " subject            | Web Development      \n",
      " mytokens           | [3d, programming,... \n",
      " filtered_tokens    | [3d, programming,... \n",
      " rawFeatures        | (3670,[4,87,339],... \n",
      " vectorizedFeatures | (3670,[4,87,339],... \n",
      " label              | 0.0                  \n",
      " rawPrediction      | [9.57277108824764... \n",
      " probability        | [0.91531957007733... \n",
      " prediction         | 0.0                  \n",
      "-RECORD 17---------------------------------\n",
      " course_title       | 4. Ordinary Simpl... \n",
      " subject            | Business Finance     \n",
      " mytokens           | [4., ordinary, si... \n",
      " filtered_tokens    | [4., ordinary, si... \n",
      " rawFeatures        | (3670,[38,102],[1... \n",
      " vectorizedFeatures | (3670,[38,102],[3... \n",
      " label              | 1.0                  \n",
      " rawPrediction      | [2.22053558911512... \n",
      " probability        | [0.00127925067379... \n",
      " prediction         | 1.0                  \n",
      "-RECORD 18---------------------------------\n",
      " course_title       | 5 lecciones que t... \n",
      " subject            | Musical Instruments  \n",
      " mytokens           | [5, lecciones, qu... \n",
      " filtered_tokens    | [5, lecciones, qu... \n",
      " rawFeatures        | (3670,[82,3515],[... \n",
      " vectorizedFeatures | (3670,[82,3515],[... \n",
      " label              | 2.0                  \n",
      " rawPrediction      | [5.92912092421248... \n",
      " probability        | [0.88953300238364... \n",
      " prediction         | 0.0                  \n",
      "-RECORD 19---------------------------------\n",
      " course_title       | 6 Must Know Trick... \n",
      " subject            | Musical Instruments  \n",
      " mytokens           | [6, must, know, t... \n",
      " filtered_tokens    | [6, must, know, t... \n",
      " rawFeatures        | (3670,[145,255,32... \n",
      " vectorizedFeatures | (3670,[145,255,32... \n",
      " label              | 2.0                  \n",
      " rawPrediction      | [12.6577595607322... \n",
      " probability        | [0.99474285309207... \n",
      " prediction         | 0.0                  \n",
      "only showing top 20 rows\n",
      "\n"
     ]
    }
   ],
   "source": [
    "predictions = lr_model.transform(testDF)\n",
    "predictions.show(vertical=True)"
   ]
  },
  {
   "cell_type": "code",
   "execution_count": 22,
   "metadata": {},
   "outputs": [],
   "source": [
    "spark.stop()"
   ]
  },
  {
   "cell_type": "code",
   "execution_count": null,
   "metadata": {},
   "outputs": [],
   "source": []
  }
 ],
 "metadata": {
  "interpreter": {
   "hash": "918816dcb90eb2f409d280fd921ab35213362b65b31855a310672842d91a763f"
  },
  "kernelspec": {
   "display_name": "Python 3 (ipykernel)",
   "language": "python",
   "name": "python3"
  },
  "language_info": {
   "codemirror_mode": {
    "name": "ipython",
    "version": 3
   },
   "file_extension": ".py",
   "mimetype": "text/x-python",
   "name": "python",
   "nbconvert_exporter": "python",
   "pygments_lexer": "ipython3",
   "version": "3.8.10"
  }
 },
 "nbformat": 4,
 "nbformat_minor": 2
}
