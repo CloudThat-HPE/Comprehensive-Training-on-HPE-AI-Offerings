{
 "cells": [
  {
   "cell_type": "markdown",
   "id": "c0cc588f",
   "metadata": {
    "id": "c0cc588f"
   },
   "source": [
    "# Text Classification\n",
    "\n",
    "We are using Natural Language Processing with Disaster Tweets Kaggle dataset. The data is comprised of tweets, and our objective is to forecast which tweets are associated with a tragedy. This may enhance reaction times for a variety of interested parties, including police forces, fire departments, and news organisations, among others. We will do text categorization using predictive machine learning models, which is a subset of natural language processing."
   ]
  },
  {
   "cell_type": "code",
   "execution_count": 1,
   "id": "ae05a8eb",
   "metadata": {},
   "outputs": [],
   "source": [
    "import findspark\n",
    "findspark.init()"
   ]
  },
  {
   "cell_type": "code",
   "execution_count": 2,
   "id": "91df8baa",
   "metadata": {
    "id": "91df8baa",
    "outputId": "4964435a-25cc-4ef9-b1a5-5406488a2c69"
   },
   "outputs": [
    {
     "name": "stderr",
     "output_type": "stream",
     "text": [
      "23/01/20 19:24:42 WARN NativeCodeLoader: Unable to load native-hadoop library for your platform... using builtin-java classes where applicable\n",
      "Using Spark's default log4j profile: org/apache/spark/log4j-defaults.properties\n",
      "Setting default log level to \"WARN\".\n",
      "To adjust logging level use sc.setLogLevel(newLevel). For SparkR, use setLogLevel(newLevel).\n",
      "23/01/20 19:24:43 WARN Utils: Service 'SparkUI' could not bind on port 4040. Attempting port 4041.\n"
     ]
    }
   ],
   "source": [
    "import pyspark\n",
    "from pyspark import SparkConf\n",
    "from pyspark.sql import SparkSession\n",
    "spark = SparkSession.builder.config('spark.executor.memory','16g').getOrCreate()"
   ]
  },
  {
   "cell_type": "code",
   "execution_count": 3,
   "id": "749acfab",
   "metadata": {},
   "outputs": [],
   "source": [
    "import numpy as np"
   ]
  },
  {
   "cell_type": "markdown",
   "id": "614a2e21",
   "metadata": {
    "id": "614a2e21"
   },
   "source": [
    "Starting the Spark Session"
   ]
  },
  {
   "cell_type": "markdown",
   "id": "b4f0151f",
   "metadata": {
    "id": "b4f0151f"
   },
   "source": [
    "Import Important modules required "
   ]
  },
  {
   "cell_type": "code",
   "execution_count": 4,
   "id": "a971d950",
   "metadata": {
    "id": "a971d950"
   },
   "outputs": [],
   "source": [
    "from pyspark.ml import Pipeline \n",
    "from pyspark.ml.feature import CountVectorizer,StringIndexer, RegexTokenizer,StopWordsRemover\n",
    "from pyspark.sql.functions import col, udf,regexp_replace,isnull\n",
    "from pyspark.sql.types import StringType,IntegerType\n",
    "from pyspark.ml.classification import NaiveBayes\n",
    "from pyspark.ml.evaluation import MulticlassClassificationEvaluator"
   ]
  },
  {
   "cell_type": "markdown",
   "id": "a0ae8f05",
   "metadata": {
    "id": "a0ae8f05"
   },
   "source": [
    "Now we are loading the dataset uci-news-aggregator.csv."
   ]
  },
  {
   "cell_type": "code",
   "execution_count": 5,
   "id": "25ec274d",
   "metadata": {
    "id": "25ec274d",
    "outputId": "217070c0-1464-44e6-9d71-3a2135379042"
   },
   "outputs": [
    {
     "name": "stderr",
     "output_type": "stream",
     "text": [
      "                                                                                \r"
     ]
    },
    {
     "name": "stdout",
     "output_type": "stream",
     "text": [
      "root\n",
      " |-- ID: string (nullable = true)\n",
      " |-- TITLE: string (nullable = true)\n",
      " |-- URL: string (nullable = true)\n",
      " |-- PUBLISHER: string (nullable = true)\n",
      " |-- CATEGORY: string (nullable = true)\n",
      " |-- STORY: string (nullable = true)\n",
      " |-- HOSTNAME: string (nullable = true)\n",
      " |-- TIMESTAMP: string (nullable = true)\n",
      "\n",
      "+---+--------------------+--------------------+--------------------+--------+--------------------+--------------------+-------------+\n",
      "| ID|               TITLE|                 URL|           PUBLISHER|CATEGORY|               STORY|            HOSTNAME|    TIMESTAMP|\n",
      "+---+--------------------+--------------------+--------------------+--------+--------------------+--------------------+-------------+\n",
      "|  1|Fed official says...|http://www.latime...|   Los Angeles Times|       b|ddUyU0VZz0BRneMio...|     www.latimes.com|1394470370698|\n",
      "|  2|Fed's Charles Plo...|http://www.livemi...|            Livemint|       b|ddUyU0VZz0BRneMio...|    www.livemint.com|1394470371207|\n",
      "|  3|US open: Stocks f...|http://www.ifamag...|        IFA Magazine|       b|ddUyU0VZz0BRneMio...| www.ifamagazine.com|1394470371550|\n",
      "|  4|Fed risks falling...|http://www.ifamag...|        IFA Magazine|       b|ddUyU0VZz0BRneMio...| www.ifamagazine.com|1394470371793|\n",
      "|  5|Fed's Plosser: Na...|http://www.moneyn...|           Moneynews|       b|ddUyU0VZz0BRneMio...|   www.moneynews.com|1394470372027|\n",
      "|  6|Plosser: Fed May ...|http://www.nasdaq...|              NASDAQ|       b|ddUyU0VZz0BRneMio...|      www.nasdaq.com|1394470372212|\n",
      "|  7|Fed's Plosser: Ta...|http://www.market...|         MarketWatch|       b|ddUyU0VZz0BRneMio...| www.marketwatch.com|1394470372405|\n",
      "|  8|Fed's Plosser exp...|http://www.fxstre...|        FXstreet.com|       b|ddUyU0VZz0BRneMio...|    www.fxstreet.com|1394470372615|\n",
      "|  9|US jobs growth la...|http://economicti...|      Economic Times|       b|ddUyU0VZz0BRneMio...|economictimes.ind...|1394470372792|\n",
      "| 10|ECB unlikely to e...|http://www.iii.co...|Interactive Investor|       b|dPhGU51DcrolUIMxb...|       www.iii.co.uk|1394470501265|\n",
      "| 11|ECB unlikely to e...|http://in.reuters...|       Reuters India|       b|dPhGU51DcrolUIMxb...|      in.reuters.com|1394470501410|\n",
      "| 12|EU's half-baked b...|http://blogs.reut...| Reuters UK \\(blog\\)|       b|dPhGU51DcrolUIMxb...|   blogs.reuters.com|1394470501587|\n",
      "| 13|Europe reaches cr...|http://in.reuters...|             Reuters|       b|dPhGU51DcrolUIMxb...|      in.reuters.com|1394470501755|\n",
      "| 14|ECB FOCUS-Stronge...|http://in.reuters...|             Reuters|       b|dPhGU51DcrolUIMxb...|      in.reuters.com|1394470501948|\n",
      "| 15|EU aims for deal ...|http://main.omano...| Oman Daily Observer|       b|dPhGU51DcrolUIMxb...|main.omanobserver.om|1394470502141|\n",
      "| 16|Forex - Pound dro...|http://www.nasdaq...|              NASDAQ|       b|dPhGU51DcrolUIMxb...|      www.nasdaq.com|1394470502316|\n",
      "| 17|Noyer Says Strong...|http://www.sfgate...|San Francisco Chr...|       b|dPhGU51DcrolUIMxb...|      www.sfgate.com|1394470502543|\n",
      "| 18|EU Week Ahead Mar...|http://blogs.wsj....|Wall Street Journ...|       b|dPhGU51DcrolUIMxb...|       blogs.wsj.com|1394470502744|\n",
      "| 19|ECB member Noyer ...|http://www.ifamag...|        IFA Magazine|       b|dPhGU51DcrolUIMxb...| www.ifamagazine.com|1394470502946|\n",
      "| 20|Euro Anxieties Wa...|http://www.busine...|        Businessweek|       b|dPhGU51DcrolUIMxb...|www.businessweek.com|1394470503148|\n",
      "+---+--------------------+--------------------+--------------------+--------+--------------------+--------------------+-------------+\n",
      "only showing top 20 rows\n",
      "\n"
     ]
    }
   ],
   "source": [
    "#read news csv dataset from the working directory\n",
    "news_data = spark.read.csv('uci-news-aggregator.csv',header= True)\n",
    "news_data.printSchema()\n",
    "news_data.show()\n",
    "#news_data = news_data.limit(300)\n",
    "#news_data.cache"
   ]
  },
  {
   "cell_type": "markdown",
   "id": "2a520a22",
   "metadata": {
    "id": "2a520a22"
   },
   "source": [
    "We can check the count of totalitems in the dataset for analysis"
   ]
  },
  {
   "cell_type": "code",
   "execution_count": 6,
   "id": "ca4fcc97",
   "metadata": {
    "id": "ca4fcc97",
    "outputId": "bdea19fd-348e-4fe3-d046-fb5d3d7c95f7"
   },
   "outputs": [
    {
     "name": "stderr",
     "output_type": "stream",
     "text": [
      "                                                                                \r"
     ]
    },
    {
     "data": {
      "text/plain": [
       "422937"
      ]
     },
     "execution_count": 6,
     "metadata": {},
     "output_type": "execute_result"
    }
   ],
   "source": [
    "#count data items present in the set\n",
    "news_data.count()"
   ]
  },
  {
   "cell_type": "markdown",
   "id": "00df7f9c",
   "metadata": {
    "id": "00df7f9c"
   },
   "source": [
    "We are selecting the titles of tweets and the corresponding category of each tweet"
   ]
  },
  {
   "cell_type": "code",
   "execution_count": 7,
   "id": "7bab7451",
   "metadata": {
    "id": "7bab7451",
    "outputId": "41616eda-9f6c-4efe-b8f8-9b6748580a0f"
   },
   "outputs": [
    {
     "name": "stdout",
     "output_type": "stream",
     "text": [
      "+--------------------+--------+\n",
      "|               TITLE|CATEGORY|\n",
      "+--------------------+--------+\n",
      "|Fed official says...|       b|\n",
      "|Fed's Charles Plo...|       b|\n",
      "|US open: Stocks f...|       b|\n",
      "|Fed risks falling...|       b|\n",
      "|Fed's Plosser: Na...|       b|\n",
      "|Plosser: Fed May ...|       b|\n",
      "|Fed's Plosser: Ta...|       b|\n",
      "|Fed's Plosser exp...|       b|\n",
      "|US jobs growth la...|       b|\n",
      "|ECB unlikely to e...|       b|\n",
      "|ECB unlikely to e...|       b|\n",
      "|EU's half-baked b...|       b|\n",
      "|Europe reaches cr...|       b|\n",
      "|ECB FOCUS-Stronge...|       b|\n",
      "|EU aims for deal ...|       b|\n",
      "|Forex - Pound dro...|       b|\n",
      "|Noyer Says Strong...|       b|\n",
      "|EU Week Ahead Mar...|       b|\n",
      "|ECB member Noyer ...|       b|\n",
      "|Euro Anxieties Wa...|       b|\n",
      "+--------------------+--------+\n",
      "only showing top 20 rows\n",
      "\n"
     ]
    }
   ],
   "source": [
    "#select the titles of tweets corresponding to category\n",
    "title_category = news_data.select(\"TITLE\",\"CATEGORY\")\n",
    "title_category.show()"
   ]
  },
  {
   "cell_type": "markdown",
   "id": "cfd72e0d",
   "metadata": {
    "id": "cfd72e0d"
   },
   "source": [
    "This is the custom function definition to count the null values"
   ]
  },
  {
   "cell_type": "code",
   "execution_count": 8,
   "id": "748d0cef",
   "metadata": {
    "id": "748d0cef"
   },
   "outputs": [],
   "source": [
    "#definition to count the null values\n",
    "def null_value_count(df):\n",
    "  null_columns_counts = []\n",
    "  numRows = df.count()\n",
    "  for k in df.columns:\n",
    "    nullRows = df.where(col(k).isNull()).count()\n",
    "    if(nullRows > 0):\n",
    "      temp = k,nullRows\n",
    "      null_columns_counts.append(temp)\n",
    "  return(null_columns_counts)"
   ]
  },
  {
   "cell_type": "markdown",
   "id": "aeaa0a96",
   "metadata": {
    "id": "aeaa0a96"
   },
   "source": [
    "We are applying the custom function to the data frame title_category"
   ]
  },
  {
   "cell_type": "code",
   "execution_count": 9,
   "id": "11b9d67a",
   "metadata": {
    "id": "11b9d67a"
   },
   "outputs": [
    {
     "name": "stderr",
     "output_type": "stream",
     "text": [
      "                                                                                \r"
     ]
    }
   ],
   "source": [
    "null_columns_count_list = null_value_count(title_category)\n",
    "#spark.createDataFrame(null_columns_count_list, ['Column_With_Null_Value', 'Null_Values_Count']).show()"
   ]
  },
  {
   "cell_type": "markdown",
   "id": "3b1840e9",
   "metadata": {
    "id": "3b1840e9"
   },
   "source": [
    "# Cleaning the dataset\n",
    "\n",
    "Now we can drop the null values"
   ]
  },
  {
   "cell_type": "code",
   "execution_count": 10,
   "id": "534b2a42",
   "metadata": {
    "id": "534b2a42",
    "outputId": "2fb420ec-4f19-4a1b-ec68-39b85f9b0c3a"
   },
   "outputs": [
    {
     "name": "stderr",
     "output_type": "stream",
     "text": [
      "\r",
      "[Stage 11:>                                                         (0 + 4) / 4]\r"
     ]
    },
    {
     "name": "stdout",
     "output_type": "stream",
     "text": [
      "+---------------------------------------------------------------------------+--------+\n",
      "|TITLE                                                                      |CATEGORY|\n",
      "+---------------------------------------------------------------------------+--------+\n",
      "|Fed official says weak data caused by weather, should not slow taper       |b       |\n",
      "|Fed's Charles Plosser sees high bar for change in pace of tapering         |b       |\n",
      "|US open: Stocks fall after Fed official hints at accelerated tapering      |b       |\n",
      "|Fed risks falling 'behind the curve', Charles Plosser says                 |b       |\n",
      "|Fed's Plosser: Nasty Weather Has Curbed Job Growth                         |b       |\n",
      "|Plosser: Fed May Have to Accelerate Tapering Pace                          |b       |\n",
      "|Fed's Plosser: Taper pace may be too slow                                  |b       |\n",
      "|Fed's Plosser expects US unemployment to fall to 6.2% by the end of 2014   |b       |\n",
      "|US jobs growth last month hit by weather:Fed President Charles Plosser     |b       |\n",
      "|ECB unlikely to end sterilisation of SMP purchases - traders               |b       |\n",
      "|ECB unlikely to end sterilization of SMP purchases: traders                |b       |\n",
      "|EU's half-baked bank union could work                                      |b       |\n",
      "|Europe reaches crunch point on banking union                               |b       |\n",
      "|ECB FOCUS-Stronger euro drowns out ECB's message to keep rates low for  ...|b       |\n",
      "|EU aims for deal on tackling failing banks                                 |b       |\n",
      "|Forex - Pound drops to one-month lows against euro                         |b       |\n",
      "|Noyer Says Strong Euro Creates Unwarranted Economic Pressure               |b       |\n",
      "|EU Week Ahead March 10-14: Bank Resolution, Transparency, Ukraine          |b       |\n",
      "|ECB member Noyer is 'very open to all kinds of tools'                      |b       |\n",
      "|Euro Anxieties Wane as Bunds Top Treasuries, Spain Debt Rallies            |b       |\n",
      "+---------------------------------------------------------------------------+--------+\n",
      "only showing top 20 rows\n",
      "\n"
     ]
    },
    {
     "name": "stderr",
     "output_type": "stream",
     "text": [
      "\r",
      "                                                                                \r"
     ]
    }
   ],
   "source": [
    "#Drop null and not available values\n",
    "title_category = title_category.dropna()\n",
    "title_category.count()\n",
    "title_category.show(truncate=False)"
   ]
  },
  {
   "cell_type": "code",
   "execution_count": 11,
   "id": "47d1a217",
   "metadata": {
    "id": "47d1a217",
    "outputId": "9635f612-cb18-425b-e612-8839b1960563"
   },
   "outputs": [
    {
     "name": "stderr",
     "output_type": "stream",
     "text": [
      "                                                                                \r"
     ]
    },
    {
     "name": "stdout",
     "output_type": "stream",
     "text": [
      "+----------------------------------------------------------------------------------+-----+\n",
      "|TITLE                                                                             |count|\n",
      "+----------------------------------------------------------------------------------+-----+\n",
      "|The article requested cannot be found! Please refresh your browser or go back  ...|145  |\n",
      "|Posted by Parvez Jabri                                                            |59   |\n",
      "|Business Highlights                                                               |59   |\n",
      "|Posted by Imaduddin                                                               |53   |\n",
      "|Posted by Shoaib-ur-Rehman Siddiqui                                               |52   |\n",
      "|(click the phrases to see a list)                                                 |51   |\n",
      "|Business Wire                                                                     |41   |\n",
      "|PR Newswire                                                                       |38   |\n",
      "|Posted by Muhammad Iqbal                                                          |35   |\n",
      "|Get the Most Popular Beauty World News Stories in a Weekly Newsletter             |34   |\n",
      "|Change text size for the story                                                    |34   |\n",
      "|Business briefs                                                                   |33   |\n",
      "|International markets roundup                                                     |33   |\n",
      "|India Morning Call-Global Markets                                                 |27   |\n",
      "|10 Things to Know for Today                                                       |22   |\n",
      "|Breaking news                                                                     |21   |\n",
      "|Perez Recommends                                                                  |19   |\n",
      "|From ColumbusAlive.com                                                            |18   |\n",
      "|Texas Weekly Gas Price Update and Outlook                                         |18   |\n",
      "|The Daily Dish                                                                    |17   |\n",
      "+----------------------------------------------------------------------------------+-----+\n",
      "only showing top 20 rows\n",
      "\n"
     ]
    }
   ],
   "source": [
    "title_category.groupBy(\"TITLE\").count().orderBy(col(\"count\").desc()).show(truncate=False)"
   ]
  },
  {
   "cell_type": "markdown",
   "id": "0d598390",
   "metadata": {
    "id": "0d598390"
   },
   "source": [
    "Now let us remove the numbers present in the title category"
   ]
  },
  {
   "cell_type": "code",
   "execution_count": 12,
   "id": "1e67a8cd",
   "metadata": {
    "id": "1e67a8cd",
    "outputId": "66ea4c1a-79c6-4af0-a8dd-3af1ba66b20a"
   },
   "outputs": [
    {
     "name": "stdout",
     "output_type": "stream",
     "text": [
      "+---------------------------------------------------------------------------+---------------------------------------------------------------------------+\n",
      "|TITLE                                                                      |only_str                                                                   |\n",
      "+---------------------------------------------------------------------------+---------------------------------------------------------------------------+\n",
      "|Fed official says weak data caused by weather, should not slow taper       |Fed official says weak data caused by weather, should not slow taper       |\n",
      "|Fed's Charles Plosser sees high bar for change in pace of tapering         |Fed's Charles Plosser sees high bar for change in pace of tapering         |\n",
      "|US open: Stocks fall after Fed official hints at accelerated tapering      |US open: Stocks fall after Fed official hints at accelerated tapering      |\n",
      "|Fed risks falling 'behind the curve', Charles Plosser says                 |Fed risks falling 'behind the curve', Charles Plosser says                 |\n",
      "|Fed's Plosser: Nasty Weather Has Curbed Job Growth                         |Fed's Plosser: Nasty Weather Has Curbed Job Growth                         |\n",
      "|Plosser: Fed May Have to Accelerate Tapering Pace                          |Plosser: Fed May Have to Accelerate Tapering Pace                          |\n",
      "|Fed's Plosser: Taper pace may be too slow                                  |Fed's Plosser: Taper pace may be too slow                                  |\n",
      "|Fed's Plosser expects US unemployment to fall to 6.2% by the end of 2014   |Fed's Plosser expects US unemployment to fall to .% by the end of          |\n",
      "|US jobs growth last month hit by weather:Fed President Charles Plosser     |US jobs growth last month hit by weather:Fed President Charles Plosser     |\n",
      "|ECB unlikely to end sterilisation of SMP purchases - traders               |ECB unlikely to end sterilisation of SMP purchases - traders               |\n",
      "|ECB unlikely to end sterilization of SMP purchases: traders                |ECB unlikely to end sterilization of SMP purchases: traders                |\n",
      "|EU's half-baked bank union could work                                      |EU's half-baked bank union could work                                      |\n",
      "|Europe reaches crunch point on banking union                               |Europe reaches crunch point on banking union                               |\n",
      "|ECB FOCUS-Stronger euro drowns out ECB's message to keep rates low for  ...|ECB FOCUS-Stronger euro drowns out ECB's message to keep rates low for  ...|\n",
      "|EU aims for deal on tackling failing banks                                 |EU aims for deal on tackling failing banks                                 |\n",
      "|Forex - Pound drops to one-month lows against euro                         |Forex - Pound drops to one-month lows against euro                         |\n",
      "|Noyer Says Strong Euro Creates Unwarranted Economic Pressure               |Noyer Says Strong Euro Creates Unwarranted Economic Pressure               |\n",
      "|EU Week Ahead March 10-14: Bank Resolution, Transparency, Ukraine          |EU Week Ahead March -: Bank Resolution, Transparency, Ukraine              |\n",
      "|ECB member Noyer is 'very open to all kinds of tools'                      |ECB member Noyer is 'very open to all kinds of tools'                      |\n",
      "|Euro Anxieties Wane as Bunds Top Treasuries, Spain Debt Rallies            |Euro Anxieties Wane as Bunds Top Treasuries, Spain Debt Rallies            |\n",
      "+---------------------------------------------------------------------------+---------------------------------------------------------------------------+\n",
      "only showing top 20 rows\n",
      "\n"
     ]
    }
   ],
   "source": [
    "#clean numbers and other unwanted characters from the tweets\n",
    "title_category = title_category.withColumn(\"only_str\",regexp_replace(col('TITLE'), '\\d+', ''))\n",
    "title_category.select(\"TITLE\",\"only_str\").show(truncate=False)"
   ]
  },
  {
   "cell_type": "markdown",
   "id": "b49f034f",
   "metadata": {
    "id": "b49f034f"
   },
   "source": [
    "Split the text into constituent words"
   ]
  },
  {
   "cell_type": "code",
   "execution_count": 13,
   "id": "1dae25af",
   "metadata": {
    "id": "1dae25af",
    "outputId": "c3c1dd8f-b68d-422f-a1b4-690ac22ad251"
   },
   "outputs": [
    {
     "name": "stdout",
     "output_type": "stream",
     "text": [
      "+--------------------+--------+--------------------+--------------------+\n",
      "|               TITLE|CATEGORY|            only_str|               words|\n",
      "+--------------------+--------+--------------------+--------------------+\n",
      "|Fed official says...|       b|Fed official says...|[fed, official, s...|\n",
      "|Fed's Charles Plo...|       b|Fed's Charles Plo...|[fed, s, charles,...|\n",
      "|US open: Stocks f...|       b|US open: Stocks f...|[us, open, stocks...|\n",
      "|Fed risks falling...|       b|Fed risks falling...|[fed, risks, fall...|\n",
      "|Fed's Plosser: Na...|       b|Fed's Plosser: Na...|[fed, s, plosser,...|\n",
      "|Plosser: Fed May ...|       b|Plosser: Fed May ...|[plosser, fed, ma...|\n",
      "|Fed's Plosser: Ta...|       b|Fed's Plosser: Ta...|[fed, s, plosser,...|\n",
      "|Fed's Plosser exp...|       b|Fed's Plosser exp...|[fed, s, plosser,...|\n",
      "|US jobs growth la...|       b|US jobs growth la...|[us, jobs, growth...|\n",
      "|ECB unlikely to e...|       b|ECB unlikely to e...|[ecb, unlikely, t...|\n",
      "|ECB unlikely to e...|       b|ECB unlikely to e...|[ecb, unlikely, t...|\n",
      "|EU's half-baked b...|       b|EU's half-baked b...|[eu, s, half, bak...|\n",
      "|Europe reaches cr...|       b|Europe reaches cr...|[europe, reaches,...|\n",
      "|ECB FOCUS-Stronge...|       b|ECB FOCUS-Stronge...|[ecb, focus, stro...|\n",
      "|EU aims for deal ...|       b|EU aims for deal ...|[eu, aims, for, d...|\n",
      "|Forex - Pound dro...|       b|Forex - Pound dro...|[forex, pound, dr...|\n",
      "|Noyer Says Strong...|       b|Noyer Says Strong...|[noyer, says, str...|\n",
      "|EU Week Ahead Mar...|       b|EU Week Ahead Mar...|[eu, week, ahead,...|\n",
      "|ECB member Noyer ...|       b|ECB member Noyer ...|[ecb, member, noy...|\n",
      "|Euro Anxieties Wa...|       b|Euro Anxieties Wa...|[euro, anxieties,...|\n",
      "+--------------------+--------+--------------------+--------------------+\n",
      "only showing top 20 rows\n",
      "\n"
     ]
    }
   ],
   "source": [
    "#split the text to tokens using tokenizer\n",
    "#https://spark.apache.org/docs/3.1.1/api/python/reference/api/pyspark.ml.feature.RegexTokenizer.html\n",
    "regex_tokenizer = RegexTokenizer(inputCol=\"only_str\", outputCol=\"words\", pattern=\"\\\\W\")\n",
    "raw_words = regex_tokenizer.transform(title_category)\n",
    "raw_words.show()"
   ]
  },
  {
   "cell_type": "markdown",
   "id": "d1526619",
   "metadata": {
    "id": "d1526619"
   },
   "source": [
    "Remove the stop words from segregated list of words"
   ]
  },
  {
   "cell_type": "code",
   "execution_count": 14,
   "id": "94d5434a",
   "metadata": {
    "id": "94d5434a",
    "outputId": "dcba91d6-c295-4d88-9199-da8e44db4e52"
   },
   "outputs": [
    {
     "name": "stdout",
     "output_type": "stream",
     "text": [
      "+-------------------------------------------------------------------------------------+-------------------------------------------------------------------------------+\n",
      "|words                                                                                |filtered                                                                       |\n",
      "+-------------------------------------------------------------------------------------+-------------------------------------------------------------------------------+\n",
      "|[fed, official, says, weak, data, caused, by, weather, should, not, slow, taper]     |[fed, official, says, weak, data, caused, weather, slow, taper]                |\n",
      "|[fed, s, charles, plosser, sees, high, bar, for, change, in, pace, of, tapering]     |[fed, charles, plosser, sees, high, bar, change, pace, tapering]               |\n",
      "|[us, open, stocks, fall, after, fed, official, hints, at, accelerated, tapering]     |[us, open, stocks, fall, fed, official, hints, accelerated, tapering]          |\n",
      "|[fed, risks, falling, behind, the, curve, charles, plosser, says]                    |[fed, risks, falling, behind, curve, charles, plosser, says]                   |\n",
      "|[fed, s, plosser, nasty, weather, has, curbed, job, growth]                          |[fed, plosser, nasty, weather, curbed, job, growth]                            |\n",
      "|[plosser, fed, may, have, to, accelerate, tapering, pace]                            |[plosser, fed, may, accelerate, tapering, pace]                                |\n",
      "|[fed, s, plosser, taper, pace, may, be, too, slow]                                   |[fed, plosser, taper, pace, may, slow]                                         |\n",
      "|[fed, s, plosser, expects, us, unemployment, to, fall, to, by, the, end, of]         |[fed, plosser, expects, us, unemployment, fall, end]                           |\n",
      "|[us, jobs, growth, last, month, hit, by, weather, fed, president, charles, plosser]  |[us, jobs, growth, last, month, hit, weather, fed, president, charles, plosser]|\n",
      "|[ecb, unlikely, to, end, sterilisation, of, smp, purchases, traders]                 |[ecb, unlikely, end, sterilisation, smp, purchases, traders]                   |\n",
      "|[ecb, unlikely, to, end, sterilization, of, smp, purchases, traders]                 |[ecb, unlikely, end, sterilization, smp, purchases, traders]                   |\n",
      "|[eu, s, half, baked, bank, union, could, work]                                       |[eu, half, baked, bank, union, work]                                           |\n",
      "|[europe, reaches, crunch, point, on, banking, union]                                 |[europe, reaches, crunch, point, banking, union]                               |\n",
      "|[ecb, focus, stronger, euro, drowns, out, ecb, s, message, to, keep, rates, low, for]|[ecb, focus, stronger, euro, drowns, ecb, message, keep, rates, low]           |\n",
      "|[eu, aims, for, deal, on, tackling, failing, banks]                                  |[eu, aims, deal, tackling, failing, banks]                                     |\n",
      "|[forex, pound, drops, to, one, month, lows, against, euro]                           |[forex, pound, drops, one, month, lows, euro]                                  |\n",
      "|[noyer, says, strong, euro, creates, unwarranted, economic, pressure]                |[noyer, says, strong, euro, creates, unwarranted, economic, pressure]          |\n",
      "|[eu, week, ahead, march, bank, resolution, transparency, ukraine]                    |[eu, week, ahead, march, bank, resolution, transparency, ukraine]              |\n",
      "|[ecb, member, noyer, is, very, open, to, all, kinds, of, tools]                      |[ecb, member, noyer, open, kinds, tools]                                       |\n",
      "|[euro, anxieties, wane, as, bunds, top, treasuries, spain, debt, rallies]            |[euro, anxieties, wane, bunds, top, treasuries, spain, debt, rallies]          |\n",
      "+-------------------------------------------------------------------------------------+-------------------------------------------------------------------------------+\n",
      "only showing top 20 rows\n",
      "\n"
     ]
    }
   ],
   "source": [
    "#Remove and segregate stop words form the word list like for, by, in etc.\n",
    "#https://spark.apache.org/docs/latest/api/python/reference/api/pyspark.ml.feature.StopWordsRemover.html\n",
    "remover = StopWordsRemover(inputCol=\"words\", outputCol=\"filtered\")\n",
    "words_df = remover.transform(raw_words)\n",
    "words_df.select(\"words\",\"filtered\").show(truncate=False)"
   ]
  },
  {
   "cell_type": "markdown",
   "id": "7990c213",
   "metadata": {
    "id": "7990c213"
   },
   "source": [
    "The category column in the dataframe can now be mapped to categoryIndex"
   ]
  },
  {
   "cell_type": "code",
   "execution_count": 15,
   "id": "bdddab39",
   "metadata": {
    "id": "bdddab39",
    "outputId": "c98ddc9d-a3c6-4143-ebba-8c0eba8aa551"
   },
   "outputs": [
    {
     "name": "stderr",
     "output_type": "stream",
     "text": [
      "                                                                                \r"
     ]
    },
    {
     "name": "stdout",
     "output_type": "stream",
     "text": [
      "+--------+-------------+\n",
      "|CATEGORY|categoryIndex|\n",
      "+--------+-------------+\n",
      "|       b|          1.0|\n",
      "|       b|          1.0|\n",
      "|       b|          1.0|\n",
      "|       b|          1.0|\n",
      "|       b|          1.0|\n",
      "|       b|          1.0|\n",
      "|       b|          1.0|\n",
      "|       b|          1.0|\n",
      "|       b|          1.0|\n",
      "|       b|          1.0|\n",
      "|       b|          1.0|\n",
      "|       b|          1.0|\n",
      "|       b|          1.0|\n",
      "|       b|          1.0|\n",
      "|       b|          1.0|\n",
      "|       b|          1.0|\n",
      "|       b|          1.0|\n",
      "|       b|          1.0|\n",
      "|       b|          1.0|\n",
      "|       b|          1.0|\n",
      "+--------+-------------+\n",
      "only showing top 20 rows\n",
      "\n"
     ]
    }
   ],
   "source": [
    "#Index the string for different category\n",
    "#https://spark.apache.org/docs/latest/api/python/reference/api/pyspark.ml.feature.StringIndexer.html\n",
    "indexer = StringIndexer(inputCol=\"CATEGORY\", outputCol=\"categoryIndex\")\n",
    "feature_data = indexer.fit(words_df).transform(words_df)\n",
    "feature_data.select(\"CATEGORY\",\"categoryIndex\").show()"
   ]
  },
  {
   "cell_type": "markdown",
   "id": "10e215cd",
   "metadata": {
    "id": "10e215cd"
   },
   "source": [
    "Convert text into vectors of token counts"
   ]
  },
  {
   "cell_type": "code",
   "execution_count": 16,
   "id": "3ca37104",
   "metadata": {
    "id": "3ca37104"
   },
   "outputs": [
    {
     "name": "stderr",
     "output_type": "stream",
     "text": [
      "                                                                                \r"
     ]
    }
   ],
   "source": [
    "#converting text to vectors and count the tokens\n",
    "#https://scikit-learn.org/stable/modules/generated/sklearn.feature_extraction.text.CountVectorizer.html\n",
    "cv = CountVectorizer(inputCol=\"filtered\", outputCol=\"features\")\n",
    "model = cv.fit(feature_data)\n",
    "countVectorizer_feateures = model.transform(feature_data)"
   ]
  },
  {
   "cell_type": "markdown",
   "id": "7ff14dc4",
   "metadata": {
    "id": "7ff14dc4"
   },
   "source": [
    "# Partition the dataset into training and test datasets\n"
   ]
  },
  {
   "cell_type": "code",
   "execution_count": 17,
   "id": "a1efd33e",
   "metadata": {
    "id": "a1efd33e",
    "outputId": "c25d68fe-2158-4831-98d6-51dfae7fd4a5"
   },
   "outputs": [
    {
     "name": "stderr",
     "output_type": "stream",
     "text": [
      "                                                                                \r"
     ]
    },
    {
     "name": "stdout",
     "output_type": "stream",
     "text": [
      "+--------------------+----------------+--------------------+--------------------+--------------------+-------------+--------------------+\n",
      "|               TITLE|        CATEGORY|            only_str|               words|            filtered|categoryIndex|            features|\n",
      "+--------------------+----------------+--------------------+--------------------+--------------------+-------------+--------------------+\n",
      "| Daughter of Brit...|        20804076| Daughter of Brit...|[daughter, of, br...|[daughter, britis...|         72.0|(49043,[853,1017,...|\n",
      "|\"\" think he's usi...|               e|\"\" think he's usi...|[think, he, s, us...|      [think, using]|          0.0|(49043,[748,1136]...|\n",
      "|\"'American Idol' ...|Reality TV World|\"'American Idol' ...|[american, idol, ...|[american, idol, ...|         20.0|(49043,[74,113,39...|\n",
      "|\"'Bachelor' offen...|               e|\"'Bachelor' offen...|[bachelor, offend...|[bachelor, offend...|          0.0|(49043,[167,553,9...|\n",
      "|\"'Divergent' auth...|               e|\"'Divergent' auth...|[divergent, autho...|[divergent, autho...|          0.0|(49043,[4,942,109...|\n",
      "|\"'Hercules' First...|               e|\"'Hercules' First...|[hercules, first,...|[hercules, first,...|          0.0|(49043,[6,53,162,...|\n",
      "|\"'Hercules' Star ...|               e|\"'Hercules' Star ...|[hercules, star, ...|[hercules, star, ...|          0.0|(49043,[17,108,60...|\n",
      "|\"'How I Met Your ...|         Newsday|\"'How I Met Your ...|[how, i, met, you...|[met, mother, robin]|        157.0|(49043,[268,372,5...|\n",
      "|\"'Mad Men' Final ...|               e|\"'Mad Men' Final ...|[mad, men, final,...|[mad, men, final,...|          0.0|(49043,[20,33,51,...|\n",
      "|\"'Maleficent' Tra...|               e|\"'Maleficent' Tra...|[maleficent, trai...|[maleficent, trai...|          0.0|(49043,[59,949,23...|\n",
      "|\"'Terminator 5' N...|               e|\"'Terminator ' Ne...|[terminator, news...|[terminator, news...|          0.0|(49043,[0,36,1103...|\n",
      "|\"'The Bachelor' s...|               e|\"'The Bachelor' s...|[the, bachelor, s...|[bachelor, star, ...|          0.0|(49043,[17,553,10...|\n",
      "|\"'The Bachelor:' ...|               e|\"'The Bachelor:' ...|[the, bachelor, j...|[bachelor, juan, ...|          0.0|(49043,[291,553,9...|\n",
      "|\"'The Voice' Seas...|               e|\"'The Voice' Seas...|[the, voice, seas...|[voice, season, b...|          0.0|(49043,[20,46,153...|\n",
      "|\"'The Voice' dete...|Reality TV World|\"'The Voice' dete...|[the, voice, dete...|[voice, determine...|         20.0|(49043,[153,325,1...|\n",
      "|\"'The Voice' dete...|Reality TV World|\"'The Voice' dete...|[the, voice, dete...|[voice, determine...|         20.0|(49043,[82,153,52...|\n",
      "|\"'The Walking Dea...|               e|\"'The Walking Dea...|[the, walking, de...|[walking, dead, c...|          0.0|(49043,[20,39,119...|\n",
      "|\"'The Walking Dea...|               e|\"'The Walking Dea...|[the, walking, de...|[walking, dead, s...|          0.0|(49043,[20,22,119...|\n",
      "|\"'TheBachelor' st...|               e|\"'TheBachelor' st...|[thebachelor, sta...|[thebachelor, sta...|          0.0|(49043,[17,245,32...|\n",
      "|\"10 HBO Series Te...|               e|\" HBO Series Tell...|[hbo, series, tel...|[hbo, series, tel...|          0.0|(49043,[21,50,326...|\n",
      "+--------------------+----------------+--------------------+--------------------+--------------------+-------------+--------------------+\n",
      "only showing top 20 rows\n",
      "\n"
     ]
    },
    {
     "name": "stderr",
     "output_type": "stream",
     "text": [
      "\r",
      "[Stage 27:>                                                         (0 + 1) / 1]\r"
     ]
    },
    {
     "name": "stdout",
     "output_type": "stream",
     "text": [
      "+--------------------+----------------+--------------------+--------------------+--------------------+-------------+--------------------+\n",
      "|               TITLE|        CATEGORY|            only_str|               words|            filtered|categoryIndex|            features|\n",
      "+--------------------+----------------+--------------------+--------------------+--------------------+-------------+--------------------+\n",
      "|\"'Game of Thrones...|               e|\"'Game of Thrones...|[game, of, throne...|[game, thrones, l...|          0.0|(49043,[21,50,111...|\n",
      "|\"'Game of Thrones...|               e|\"'Game of Thrones...|[game, of, throne...|[game, thrones, s...|          0.0|(49043,[20,21,22,...|\n",
      "|\"'Mammy!\"\" Conser...|               e|\"'Mammy!\"\" Conser...|[mammy, conservat...|[mammy, conservat...|          0.0|(49043,[31,504,77...|\n",
      "|\"'Mr. Peabody & S...|               e|\"'Mr. Peabody & S...|[mr, peabody, she...|[mr, peabody, she...|          0.0|(49043,[184,226,9...|\n",
      "|\"'SNL' and Seth R...|               e|\"'SNL' and Seth R...|[snl, and, seth, ...|[snl, seth, rogen...|          0.0|(49043,[345,511,7...|\n",
      "|\"'The Bachelor' F...|               e|\"'The Bachelor' F...|[the, bachelor, f...|[bachelor, fanati...|          0.0|(49043,[506,553,1...|\n",
      "|\"'The Bachelor' s...|               e|\"'The Bachelor' s...|[the, bachelor, s...|[bachelor, star, ...|          0.0|(49043,[17,329,38...|\n",
      "|\"'The Voice' coac...|Reality TV World|\"'The Voice' coac...|[the, voice, coac...|[voice, coaches, ...|         20.0|(49043,[153,325,5...|\n",
      "|\"'X-Men: Days of ...|               e|\"'X-Men: Days of ...|[x, men, days, of...|[x, men, days, fu...|          0.0|(49043,[51,59,118...|\n",
      "|\"10 Pharrell Song...|               e|\" Pharrell Songs ...|[pharrell, songs,...|[pharrell, songs,...|          0.0|(49043,[120,292,4...|\n",
      "|\"3 Tips to Deal W...|               b|\" Tips to Deal Wi...|[tips, to, deal, ...|[tips, deal, mich...|          1.0|(49043,[29,206,13...|\n",
      "|\"78 Dead After \"\"...|               m|\" Dead After \"\"Un...|[dead, after, unp...|[dead, unpreceden...|          3.0|(49043,[34,54,119...|\n",
      "|\"A 'Black Widow' ...|Contactmusic.com|\"A 'Black Widow' ...|[a, black, widow,...|[black, widow, sp...|          5.0|(49043,[150,341,4...|\n",
      "|\"A Night of Memor...|               e|\"A Night of Memor...|[a, night, of, me...|[night, memories,...|          0.0|(49043,[128,232,2...|\n",
      "|\"A&E Books \"\"Bate...|               e|\"A&E Books \"\"Bate...|[a, e, books, bat...|[e, books, bates,...|          0.0|(49043,[20,77,201...|\n",
      "|\"Almost all major...|               b|\"Almost all major...|[almost, all, maj...|[almost, major, u...|          1.0|(49043,[94,112,23...|\n",
      "|\"Amazon Renews \"\"...|     Complex.com|\"Amazon Renews \"\"...|[amazon, renews, ...|[amazon, renews, ...|          8.0|(49043,[24,227,29...|\n",
      "|\"American Eagle r...|               b|\"American Eagle r...|[american, eagle,...|[american, eagle,...|          1.0|(49043,[70,74,192...|\n",
      "|\"American Idol RE...|               e|\"American Idol RE...|[american, idol, ...|[american, idol, ...|          0.0|(49043,[20,47,74,...|\n",
      "|\"Andrew Garfield ...|               e|\"Andrew Garfield ...|[andrew, garfield...|[andrew, garfield...|          0.0|(49043,[5,491,103...|\n",
      "+--------------------+----------------+--------------------+--------------------+--------------------+-------------+--------------------+\n",
      "only showing top 20 rows\n",
      "\n"
     ]
    },
    {
     "name": "stderr",
     "output_type": "stream",
     "text": [
      "\r",
      "                                                                                \r"
     ]
    }
   ],
   "source": [
    "#partition the data set into training and test sets\n",
    "(trainingData, testData) = countVectorizer_feateures.randomSplit([0.8, 0.2],seed = 11)\n",
    "trainingData.show()\n",
    "testData.show()"
   ]
  },
  {
   "cell_type": "markdown",
   "id": "1df21afb",
   "metadata": {
    "id": "1df21afb"
   },
   "source": [
    "# Model Training and Prediction"
   ]
  },
  {
   "cell_type": "markdown",
   "id": "9eca5139",
   "metadata": {
    "id": "9eca5139"
   },
   "source": [
    "## Naive Bayes Model"
   ]
  },
  {
   "cell_type": "code",
   "execution_count": 18,
   "id": "3e411887",
   "metadata": {
    "id": "3e411887"
   },
   "outputs": [
    {
     "name": "stderr",
     "output_type": "stream",
     "text": [
      "                                                                                \r"
     ]
    }
   ],
   "source": [
    "#https://scikit-learn.org/stable/modules/naive_bayes.html\n",
    "nb = NaiveBayes(modelType=\"multinomial\",labelCol=\"categoryIndex\", featuresCol=\"features\")\n",
    "nbModel = nb.fit(trainingData)\n",
    "nb_predictions = nbModel.transform(testData)"
   ]
  },
  {
   "cell_type": "code",
   "execution_count": 19,
   "id": "d0e3dbfb",
   "metadata": {},
   "outputs": [
    {
     "name": "stderr",
     "output_type": "stream",
     "text": [
      "23/01/20 19:25:41 WARN DAGScheduler: Broadcasting large task binary with size 84.4 MiB\n",
      "[Stage 30:>                                                         (0 + 1) / 1]\r"
     ]
    },
    {
     "name": "stdout",
     "output_type": "stream",
     "text": [
      "+--------------------+----------------+--------------------+--------------------+--------------------+-------------+--------------------+--------------------+--------------------+----------+\n",
      "|               TITLE|        CATEGORY|            only_str|               words|            filtered|categoryIndex|            features|       rawPrediction|         probability|prediction|\n",
      "+--------------------+----------------+--------------------+--------------------+--------------------+-------------+--------------------+--------------------+--------------------+----------+\n",
      "|\"'Game of Thrones...|               e|\"'Game of Thrones...|[game, of, throne...|[game, thrones, l...|          0.0|(49043,[21,50,111...|[-29.329567466900...|[0.99997942600638...|       0.0|\n",
      "|\"'Game of Thrones...|               e|\"'Game of Thrones...|[game, of, throne...|[game, thrones, s...|          0.0|(49043,[20,21,22,...|[-47.186926823201...|[0.99999999863056...|       0.0|\n",
      "|\"'Mammy!\"\" Conser...|               e|\"'Mammy!\"\" Conser...|[mammy, conservat...|[mammy, conservat...|          0.0|(49043,[31,504,77...|[-86.902515684447...|[0.99296218248670...|       0.0|\n",
      "|\"'Mr. Peabody & S...|               e|\"'Mr. Peabody & S...|[mr, peabody, she...|[mr, peabody, she...|          0.0|(49043,[184,226,9...|[-63.139205317185...|[0.99399473832029...|       0.0|\n",
      "|\"'SNL' and Seth R...|               e|\"'SNL' and Seth R...|[snl, and, seth, ...|[snl, seth, rogen...|          0.0|(49043,[345,511,7...|[-69.440374574396...|[0.99999991105899...|       0.0|\n",
      "|\"'The Bachelor' F...|               e|\"'The Bachelor' F...|[the, bachelor, f...|[bachelor, fanati...|          0.0|(49043,[506,553,1...|[-72.433488532785...|[0.99999979925336...|       0.0|\n",
      "|\"'The Bachelor' s...|               e|\"'The Bachelor' s...|[the, bachelor, s...|[bachelor, star, ...|          0.0|(49043,[17,329,38...|[-83.503451212573...|[0.99999999983813...|       0.0|\n",
      "|\"'The Voice' coac...|Reality TV World|\"'The Voice' coac...|[the, voice, coac...|[voice, coaches, ...|         20.0|(49043,[153,325,5...|[-62.439469544232...|[0.99785411583628...|       0.0|\n",
      "|\"'X-Men: Days of ...|               e|\"'X-Men: Days of ...|[x, men, days, of...|[x, men, days, fu...|          0.0|(49043,[51,59,118...|[-61.625184652840...|[0.99991968623157...|       0.0|\n",
      "|\"10 Pharrell Song...|               e|\" Pharrell Songs ...|[pharrell, songs,...|[pharrell, songs,...|          0.0|(49043,[120,292,4...|[-56.456917896416...|[0.99996697228099...|       0.0|\n",
      "|\"3 Tips to Deal W...|               b|\" Tips to Deal Wi...|[tips, to, deal, ...|[tips, deal, mich...|          1.0|(49043,[29,206,13...|[-50.554057845179...|[0.72156423352532...|       0.0|\n",
      "|\"78 Dead After \"\"...|               m|\" Dead After \"\"Un...|[dead, after, unp...|[dead, unpreceden...|          3.0|(49043,[34,54,119...|[-70.742342973900...|[3.22914178444798...|       3.0|\n",
      "|\"A 'Black Widow' ...|Contactmusic.com|\"A 'Black Widow' ...|[a, black, widow,...|[black, widow, sp...|          5.0|(49043,[150,341,4...|[-40.823009943465...|[0.99855122014707...|       0.0|\n",
      "|\"A Night of Memor...|               e|\"A Night of Memor...|[a, night, of, me...|[night, memories,...|          0.0|(49043,[128,232,2...|[-30.694607155964...|[0.99968341789216...|       0.0|\n",
      "|\"A&E Books \"\"Bate...|               e|\"A&E Books \"\"Bate...|[a, e, books, bat...|[e, books, bates,...|          0.0|(49043,[20,77,201...|[-44.336860885494...|[0.99602134708139...|       0.0|\n",
      "|\"Almost all major...|               b|\"Almost all major...|[almost, all, maj...|[almost, major, u...|          1.0|(49043,[94,112,23...|[-115.16803468890...|[9.61965717547471...|       1.0|\n",
      "|\"Amazon Renews \"\"...|     Complex.com|\"Amazon Renews \"\"...|[amazon, renews, ...|[amazon, renews, ...|          8.0|(49043,[24,227,29...|[-34.983465643550...|[0.61788883641414...|       0.0|\n",
      "|\"American Eagle r...|               b|\"American Eagle r...|[american, eagle,...|[american, eagle,...|          1.0|(49043,[70,74,192...|[-59.231220075661...|[5.96385124824688...|       1.0|\n",
      "|\"American Idol RE...|               e|\"American Idol RE...|[american, idol, ...|[american, idol, ...|          0.0|(49043,[20,47,74,...|[-60.266684135749...|[0.99999999749482...|       0.0|\n",
      "|\"Andrew Garfield ...|               e|\"Andrew Garfield ...|[andrew, garfield...|[andrew, garfield...|          0.0|(49043,[5,491,103...|[-78.060321874712...|[0.99999978891221...|       0.0|\n",
      "+--------------------+----------------+--------------------+--------------------+--------------------+-------------+--------------------+--------------------+--------------------+----------+\n",
      "only showing top 20 rows\n",
      "\n"
     ]
    },
    {
     "name": "stderr",
     "output_type": "stream",
     "text": [
      "\r",
      "                                                                                \r"
     ]
    }
   ],
   "source": [
    "nb_predictions.show()"
   ]
  },
  {
   "cell_type": "code",
   "execution_count": 20,
   "id": "e0267532",
   "metadata": {
    "id": "e0267532",
    "outputId": "fb5ea116-8e47-4d5f-b73a-367b7aad872e"
   },
   "outputs": [],
   "source": [
    "nb_predictions1 = nb_predictions.select(\"prediction\", \"categoryIndex\", \"features\")"
   ]
  },
  {
   "cell_type": "code",
   "execution_count": 21,
   "id": "06720161",
   "metadata": {},
   "outputs": [
    {
     "data": {
      "text/plain": [
       "DataFrame[prediction: double, categoryIndex: double, features: vector]"
      ]
     },
     "execution_count": 21,
     "metadata": {},
     "output_type": "execute_result"
    }
   ],
   "source": [
    "nb_predictions1"
   ]
  },
  {
   "cell_type": "code",
   "execution_count": 22,
   "id": "38c9e88e",
   "metadata": {},
   "outputs": [
    {
     "name": "stderr",
     "output_type": "stream",
     "text": [
      "23/01/20 19:25:45 WARN DAGScheduler: Broadcasting large task binary with size 84.4 MiB\n",
      "23/01/20 19:26:22 WARN TaskMemoryManager: Failed to allocate a page (4194304 bytes), try again.\n",
      "23/01/20 19:26:23 WARN TaskMemoryManager: Failed to allocate a page (4194304 bytes), try again.\n",
      "[Stage 31:==============>                                           (1 + 3) / 4]\r"
     ]
    },
    {
     "name": "stdout",
     "output_type": "stream",
     "text": [
      "Accuracy of NB is = 0.925795\n"
     ]
    },
    {
     "name": "stderr",
     "output_type": "stream",
     "text": [
      "\r",
      "[Stage 31:===========================================>              (3 + 1) / 4]\r",
      "\r",
      "                                                                                \r"
     ]
    }
   ],
   "source": [
    "## Evaluating the model\n",
    "evaluator = MulticlassClassificationEvaluator(labelCol=\"categoryIndex\", predictionCol=\"prediction\", metricName=\"accuracy\")\n",
    "nb_accuracy = evaluator.evaluate(nb_predictions1)\n",
    "print(\"Accuracy of NB is = %g\"% (nb_accuracy))"
   ]
  },
  {
   "cell_type": "code",
   "execution_count": 23,
   "id": "b415fcb5",
   "metadata": {
    "id": "b415fcb5"
   },
   "outputs": [],
   "source": [
    "spark.stop()"
   ]
  },
  {
   "cell_type": "code",
   "execution_count": null,
   "id": "05ec4678",
   "metadata": {},
   "outputs": [],
   "source": []
  }
 ],
 "metadata": {
  "colab": {
   "collapsed_sections": [],
   "name": "Lab2_NLP_news_classification.ipynb",
   "provenance": []
  },
  "kernelspec": {
   "display_name": "Python 3 (ipykernel)",
   "language": "python",
   "name": "python3"
  },
  "language_info": {
   "codemirror_mode": {
    "name": "ipython",
    "version": 3
   },
   "file_extension": ".py",
   "mimetype": "text/x-python",
   "name": "python",
   "nbconvert_exporter": "python",
   "pygments_lexer": "ipython3",
   "version": "3.8.10"
  }
 },
 "nbformat": 4,
 "nbformat_minor": 5
}
