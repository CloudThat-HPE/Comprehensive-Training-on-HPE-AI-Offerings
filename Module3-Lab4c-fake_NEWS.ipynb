{
 "cells": [
  {
   "cell_type": "markdown",
   "metadata": {
    "id": "Gc2KKH9z0jLa"
   },
   "source": [
    "# **Word Embedding Techniques using Embedding Layer in Keras**"
   ]
  },
  {
   "cell_type": "code",
   "execution_count": 1,
   "metadata": {
    "id": "-ot0oIr-0UQA"
   },
   "outputs": [
    {
     "name": "stderr",
     "output_type": "stream",
     "text": [
      "2023-01-21 05:58:03.280651: I tensorflow/core/platform/cpu_feature_guard.cc:193] This TensorFlow binary is optimized with oneAPI Deep Neural Network Library (oneDNN) to use the following CPU instructions in performance-critical operations:  AVX2 FMA\n",
      "To enable them in other operations, rebuild TensorFlow with the appropriate compiler flags.\n",
      "2023-01-21 05:58:04.348702: W tensorflow/compiler/xla/stream_executor/platform/default/dso_loader.cc:64] Could not load dynamic library 'libcudart.so.11.0'; dlerror: libcudart.so.11.0: cannot open shared object file: No such file or directory\n",
      "2023-01-21 05:58:04.348750: I tensorflow/compiler/xla/stream_executor/cuda/cudart_stub.cc:29] Ignore above cudart dlerror if you do not have a GPU set up on your machine.\n",
      "2023-01-21 05:58:07.413081: W tensorflow/compiler/xla/stream_executor/platform/default/dso_loader.cc:64] Could not load dynamic library 'libnvinfer.so.7'; dlerror: libnvinfer.so.7: cannot open shared object file: No such file or directory\n",
      "2023-01-21 05:58:07.413310: W tensorflow/compiler/xla/stream_executor/platform/default/dso_loader.cc:64] Could not load dynamic library 'libnvinfer_plugin.so.7'; dlerror: libnvinfer_plugin.so.7: cannot open shared object file: No such file or directory\n",
      "2023-01-21 05:58:07.413324: W tensorflow/compiler/tf2tensorrt/utils/py_utils.cc:38] TF-TRT Warning: Cannot dlopen some TensorRT libraries. If you would like to use Nvidia GPU with TensorRT, please make sure the missing libraries mentioned above are installed properly.\n"
     ]
    },
    {
     "name": "stdout",
     "output_type": "stream",
     "text": [
      "2.11.0\n"
     ]
    }
   ],
   "source": [
    "import tensorflow as tf\n",
    "print(tf.__version__)"
   ]
  },
  {
   "cell_type": "code",
   "execution_count": 2,
   "metadata": {
    "id": "mpLsdzdc12qh"
   },
   "outputs": [],
   "source": [
    "sentences = ['Marvel series is my favourite movie',\n",
    "              'the cup of coffee',\n",
    "              'the cup of tea',\n",
    "              'I am working as subject matter expert',\n",
    "              'I am a good developer',\n",
    "              'the cat is eating the food',\n",
    "              'your lectures are good']"
   ]
  },
  {
   "cell_type": "code",
   "execution_count": 3,
   "metadata": {
    "id": "cHMsZk8i197Q"
   },
   "outputs": [
    {
     "data": {
      "text/plain": [
       "['Marvel series is my favourite movie',\n",
       " 'the cup of coffee',\n",
       " 'the cup of tea',\n",
       " 'I am working as subject matter expert',\n",
       " 'I am a good developer',\n",
       " 'the cat is eating the food',\n",
       " 'your lectures are good']"
      ]
     },
     "execution_count": 3,
     "metadata": {},
     "output_type": "execute_result"
    }
   ],
   "source": [
    "sentences"
   ]
  },
  {
   "cell_type": "code",
   "execution_count": 4,
   "metadata": {
    "id": "a3Os5-WT2DUY"
   },
   "outputs": [],
   "source": [
    "voc_size = 500"
   ]
  },
  {
   "cell_type": "code",
   "execution_count": 5,
   "metadata": {
    "id": "63-fogRy2IAA"
   },
   "outputs": [],
   "source": [
    "from tensorflow.keras.preprocessing.text import one_hot\n",
    "\n",
    "onehot_repr = [one_hot(words,voc_size) for words in sentences] "
   ]
  },
  {
   "cell_type": "code",
   "execution_count": 6,
   "metadata": {
    "id": "43YhYNxQ2OnQ"
   },
   "outputs": [
    {
     "data": {
      "text/plain": [
       "[[30, 215, 281, 141, 190, 406],\n",
       " [497, 477, 307, 198],\n",
       " [497, 477, 307, 137],\n",
       " [196, 59, 469, 302, 83, 189, 80],\n",
       " [196, 59, 248, 341, 385],\n",
       " [497, 436, 281, 380, 497, 487],\n",
       " [224, 60, 463, 341]]"
      ]
     },
     "execution_count": 6,
     "metadata": {},
     "output_type": "execute_result"
    }
   ],
   "source": [
    "onehot_repr"
   ]
  },
  {
   "cell_type": "code",
   "execution_count": 7,
   "metadata": {
    "id": "fW7naGpq2Upy"
   },
   "outputs": [],
   "source": [
    "from tensorflow.keras.layers import Embedding\n",
    "from tensorflow.keras.preprocessing.sequence import pad_sequences\n",
    "from tensorflow.keras.models import Sequential"
   ]
  },
  {
   "cell_type": "code",
   "execution_count": 8,
   "metadata": {
    "id": "K_rEOiN-2dLg"
   },
   "outputs": [],
   "source": [
    "sent_length = 8\n",
    "embedded_docs = pad_sequences(onehot_repr, padding='pre', maxlen=sent_length)"
   ]
  },
  {
   "cell_type": "code",
   "execution_count": 9,
   "metadata": {
    "id": "7Y5GEhNu2um7"
   },
   "outputs": [
    {
     "name": "stdout",
     "output_type": "stream",
     "text": [
      "[[  0   0  30 215 281 141 190 406]\n",
      " [  0   0   0   0 497 477 307 198]\n",
      " [  0   0   0   0 497 477 307 137]\n",
      " [  0 196  59 469 302  83 189  80]\n",
      " [  0   0   0 196  59 248 341 385]\n",
      " [  0   0 497 436 281 380 497 487]\n",
      " [  0   0   0   0 224  60 463 341]]\n"
     ]
    }
   ],
   "source": [
    "print(embedded_docs)"
   ]
  },
  {
   "cell_type": "code",
   "execution_count": 10,
   "metadata": {
    "id": "RCny2zoW2yqZ"
   },
   "outputs": [],
   "source": [
    "dim = 10"
   ]
  },
  {
   "cell_type": "code",
   "execution_count": 11,
   "metadata": {
    "id": "eZ_9Z_XU24P6"
   },
   "outputs": [
    {
     "name": "stderr",
     "output_type": "stream",
     "text": [
      "2023-01-21 05:58:11.339417: W tensorflow/compiler/xla/stream_executor/platform/default/dso_loader.cc:64] Could not load dynamic library 'libcuda.so.1'; dlerror: libcuda.so.1: cannot open shared object file: No such file or directory\n",
      "2023-01-21 05:58:11.340269: W tensorflow/compiler/xla/stream_executor/cuda/cuda_driver.cc:265] failed call to cuInit: UNKNOWN ERROR (303)\n",
      "2023-01-21 05:58:11.340324: I tensorflow/compiler/xla/stream_executor/cuda/cuda_diagnostics.cc:156] kernel driver does not appear to be running on this host (instance-5.us-east1-b.c.deloitte-team1.internal): /proc/driver/nvidia/version does not exist\n",
      "2023-01-21 05:58:11.342966: I tensorflow/core/platform/cpu_feature_guard.cc:193] This TensorFlow binary is optimized with oneAPI Deep Neural Network Library (oneDNN) to use the following CPU instructions in performance-critical operations:  AVX2 FMA\n",
      "To enable them in other operations, rebuild TensorFlow with the appropriate compiler flags.\n"
     ]
    }
   ],
   "source": [
    "model = Sequential()\n",
    "model.add(Embedding(voc_size, 10, input_length=sent_length))\n",
    "model.compile('adam','mse')"
   ]
  },
  {
   "cell_type": "code",
   "execution_count": 12,
   "metadata": {
    "id": "-R_yD57K2_o5"
   },
   "outputs": [
    {
     "name": "stdout",
     "output_type": "stream",
     "text": [
      "Model: \"sequential\"\n",
      "_________________________________________________________________\n",
      " Layer (type)                Output Shape              Param #   \n",
      "=================================================================\n",
      " embedding (Embedding)       (None, 8, 10)             5000      \n",
      "                                                                 \n",
      "=================================================================\n",
      "Total params: 5,000\n",
      "Trainable params: 5,000\n",
      "Non-trainable params: 0\n",
      "_________________________________________________________________\n"
     ]
    }
   ],
   "source": [
    "model.summary()"
   ]
  },
  {
   "cell_type": "code",
   "execution_count": 13,
   "metadata": {
    "id": "FBigk57HJmk-"
   },
   "outputs": [
    {
     "name": "stdout",
     "output_type": "stream",
     "text": [
      "1/1 [==============================] - 0s 245ms/step\n",
      "[[[-0.01292511  0.01650948  0.04098852 -0.00535557  0.01094609\n",
      "    0.00756294 -0.02065355  0.04931127 -0.03263747 -0.0018859 ]\n",
      "  [-0.01292511  0.01650948  0.04098852 -0.00535557  0.01094609\n",
      "    0.00756294 -0.02065355  0.04931127 -0.03263747 -0.0018859 ]\n",
      "  [ 0.01261166  0.04211699 -0.04540818 -0.01785394 -0.03458488\n",
      "   -0.03611199  0.04852379  0.00732354 -0.00081839  0.00038292]\n",
      "  [-0.0480465   0.02407986 -0.0460626   0.03671534 -0.00720156\n",
      "    0.0181661   0.0295879   0.03588152 -0.00221718  0.03004142]\n",
      "  [ 0.03366678  0.01976874 -0.04832819 -0.02825772  0.02014418\n",
      "   -0.01624667  0.03479642  0.03706584  0.03809022 -0.00018489]\n",
      "  [ 0.00932177 -0.0441368  -0.03424969 -0.03222843 -0.0224482\n",
      "    0.01235925  0.0215647   0.03407158 -0.04137231  0.01671628]\n",
      "  [-0.01479749  0.01231532  0.011304   -0.00766896 -0.03309841\n",
      "   -0.03482059  0.03719313  0.00128601  0.04087922 -0.00012951]\n",
      "  [ 0.01685368  0.03222669 -0.00933317 -0.00698788  0.04344222\n",
      "    0.01818917  0.04816239  0.02772066  0.00874809  0.03205753]]\n",
      "\n",
      " [[-0.01292511  0.01650948  0.04098852 -0.00535557  0.01094609\n",
      "    0.00756294 -0.02065355  0.04931127 -0.03263747 -0.0018859 ]\n",
      "  [-0.01292511  0.01650948  0.04098852 -0.00535557  0.01094609\n",
      "    0.00756294 -0.02065355  0.04931127 -0.03263747 -0.0018859 ]\n",
      "  [-0.01292511  0.01650948  0.04098852 -0.00535557  0.01094609\n",
      "    0.00756294 -0.02065355  0.04931127 -0.03263747 -0.0018859 ]\n",
      "  [-0.01292511  0.01650948  0.04098852 -0.00535557  0.01094609\n",
      "    0.00756294 -0.02065355  0.04931127 -0.03263747 -0.0018859 ]\n",
      "  [-0.03361598  0.04224962  0.02491453 -0.03783407  0.03732428\n",
      "    0.00371452 -0.03633473  0.04942893  0.0081009  -0.01662523]\n",
      "  [ 0.02065739 -0.02880459  0.04351655 -0.01547096  0.02518212\n",
      "    0.02670183 -0.01905506  0.03908883  0.00201011 -0.01201109]\n",
      "  [-0.01787633 -0.04976247  0.03258565 -0.02488304  0.00172829\n",
      "   -0.0217755  -0.00140148  0.03764829 -0.01123303  0.01627547]\n",
      "  [ 0.00245255  0.02493565  0.02501825  0.02053268  0.00154595\n",
      "   -0.04989169  0.02251817  0.02386618  0.00666406  0.00720938]]\n",
      "\n",
      " [[-0.01292511  0.01650948  0.04098852 -0.00535557  0.01094609\n",
      "    0.00756294 -0.02065355  0.04931127 -0.03263747 -0.0018859 ]\n",
      "  [-0.01292511  0.01650948  0.04098852 -0.00535557  0.01094609\n",
      "    0.00756294 -0.02065355  0.04931127 -0.03263747 -0.0018859 ]\n",
      "  [-0.01292511  0.01650948  0.04098852 -0.00535557  0.01094609\n",
      "    0.00756294 -0.02065355  0.04931127 -0.03263747 -0.0018859 ]\n",
      "  [-0.01292511  0.01650948  0.04098852 -0.00535557  0.01094609\n",
      "    0.00756294 -0.02065355  0.04931127 -0.03263747 -0.0018859 ]\n",
      "  [-0.03361598  0.04224962  0.02491453 -0.03783407  0.03732428\n",
      "    0.00371452 -0.03633473  0.04942893  0.0081009  -0.01662523]\n",
      "  [ 0.02065739 -0.02880459  0.04351655 -0.01547096  0.02518212\n",
      "    0.02670183 -0.01905506  0.03908883  0.00201011 -0.01201109]\n",
      "  [-0.01787633 -0.04976247  0.03258565 -0.02488304  0.00172829\n",
      "   -0.0217755  -0.00140148  0.03764829 -0.01123303  0.01627547]\n",
      "  [ 0.04460536  0.00050618 -0.00647888 -0.03025737 -0.01180799\n",
      "    0.03069154 -0.01211983  0.01087715  0.0090485  -0.01620487]]\n",
      "\n",
      " [[-0.01292511  0.01650948  0.04098852 -0.00535557  0.01094609\n",
      "    0.00756294 -0.02065355  0.04931127 -0.03263747 -0.0018859 ]\n",
      "  [ 0.03283863  0.03085368 -0.00989965 -0.01811036  0.00635675\n",
      "   -0.03892968  0.00415797 -0.03567456  0.02336444  0.03859105]\n",
      "  [ 0.0142357  -0.01823359  0.01300004  0.02157367  0.02181324\n",
      "   -0.02626766  0.01829592  0.0192205   0.0271933  -0.0482098 ]\n",
      "  [-0.01535694 -0.0190438  -0.02181592 -0.04947978  0.02751629\n",
      "   -0.04049816 -0.02183127  0.02927449 -0.04886749 -0.0195437 ]\n",
      "  [ 0.00071244  0.03718332  0.03326121  0.0085521  -0.04559156\n",
      "   -0.036162    0.03626292  0.02131865  0.01251784  0.02962711]\n",
      "  [-0.02473593 -0.03960375 -0.00301947 -0.04068257 -0.00935503\n",
      "   -0.01687636 -0.00769532  0.02810435  0.04719536  0.02111529]\n",
      "  [-0.04805082  0.00511408  0.04493752 -0.04249104 -0.00245664\n",
      "   -0.03544562  0.01286868  0.0266955   0.01313534  0.00210314]\n",
      "  [-0.01179266 -0.01766844  0.00149965 -0.03055543 -0.03328162\n",
      "    0.03623618  0.01237068 -0.04794246 -0.02500752 -0.01317848]]\n",
      "\n",
      " [[-0.01292511  0.01650948  0.04098852 -0.00535557  0.01094609\n",
      "    0.00756294 -0.02065355  0.04931127 -0.03263747 -0.0018859 ]\n",
      "  [-0.01292511  0.01650948  0.04098852 -0.00535557  0.01094609\n",
      "    0.00756294 -0.02065355  0.04931127 -0.03263747 -0.0018859 ]\n",
      "  [-0.01292511  0.01650948  0.04098852 -0.00535557  0.01094609\n",
      "    0.00756294 -0.02065355  0.04931127 -0.03263747 -0.0018859 ]\n",
      "  [ 0.03283863  0.03085368 -0.00989965 -0.01811036  0.00635675\n",
      "   -0.03892968  0.00415797 -0.03567456  0.02336444  0.03859105]\n",
      "  [ 0.0142357  -0.01823359  0.01300004  0.02157367  0.02181324\n",
      "   -0.02626766  0.01829592  0.0192205   0.0271933  -0.0482098 ]\n",
      "  [ 0.01925865 -0.02673444 -0.0259583  -0.002712   -0.0106786\n",
      "    0.01499137 -0.01869972 -0.02035829  0.03798879  0.00235564]\n",
      "  [-0.0426522   0.02444934  0.04786352 -0.02124566 -0.00364001\n",
      "   -0.04868373 -0.02431197 -0.02251536  0.00559743  0.02292145]\n",
      "  [-0.00062805  0.04675038  0.00906537 -0.02420558 -0.00494977\n",
      "    0.01559934  0.04881242  0.03192251  0.02413577 -0.01560985]]\n",
      "\n",
      " [[-0.01292511  0.01650948  0.04098852 -0.00535557  0.01094609\n",
      "    0.00756294 -0.02065355  0.04931127 -0.03263747 -0.0018859 ]\n",
      "  [-0.01292511  0.01650948  0.04098852 -0.00535557  0.01094609\n",
      "    0.00756294 -0.02065355  0.04931127 -0.03263747 -0.0018859 ]\n",
      "  [-0.03361598  0.04224962  0.02491453 -0.03783407  0.03732428\n",
      "    0.00371452 -0.03633473  0.04942893  0.0081009  -0.01662523]\n",
      "  [ 0.02379956  0.01758723  0.03761863  0.02137205 -0.01766948\n",
      "    0.0489658   0.03704783  0.00965482  0.00522561  0.04126057]\n",
      "  [ 0.03366678  0.01976874 -0.04832819 -0.02825772  0.02014418\n",
      "   -0.01624667  0.03479642  0.03706584  0.03809022 -0.00018489]\n",
      "  [-0.01499009 -0.00504961 -0.03493421 -0.01585983 -0.04687066\n",
      "    0.01809943  0.00394424  0.01403627 -0.01179823  0.00927307]\n",
      "  [-0.03361598  0.04224962  0.02491453 -0.03783407  0.03732428\n",
      "    0.00371452 -0.03633473  0.04942893  0.0081009  -0.01662523]\n",
      "  [-0.024774   -0.01083333  0.00167956  0.00148839 -0.00603608\n",
      "    0.00748835 -0.01225184 -0.04759184 -0.01146436 -0.01586274]]\n",
      "\n",
      " [[-0.01292511  0.01650948  0.04098852 -0.00535557  0.01094609\n",
      "    0.00756294 -0.02065355  0.04931127 -0.03263747 -0.0018859 ]\n",
      "  [-0.01292511  0.01650948  0.04098852 -0.00535557  0.01094609\n",
      "    0.00756294 -0.02065355  0.04931127 -0.03263747 -0.0018859 ]\n",
      "  [-0.01292511  0.01650948  0.04098852 -0.00535557  0.01094609\n",
      "    0.00756294 -0.02065355  0.04931127 -0.03263747 -0.0018859 ]\n",
      "  [-0.01292511  0.01650948  0.04098852 -0.00535557  0.01094609\n",
      "    0.00756294 -0.02065355  0.04931127 -0.03263747 -0.0018859 ]\n",
      "  [-0.04258186  0.03938664  0.03929383  0.04416105  0.00450947\n",
      "    0.02758751 -0.0251052  -0.02784437  0.03158612  0.04832875]\n",
      "  [-0.02837753 -0.04027347  0.03026787  0.03261603 -0.00402039\n",
      "   -0.03405394 -0.02704588 -0.04185493 -0.03464328  0.01089426]\n",
      "  [-0.01343711  0.03444899 -0.01925188  0.01423595 -0.02948285\n",
      "   -0.02699449 -0.03093159  0.00842626  0.03257683 -0.00621939]\n",
      "  [-0.0426522   0.02444934  0.04786352 -0.02124566 -0.00364001\n",
      "   -0.04868373 -0.02431197 -0.02251536  0.00559743  0.02292145]]]\n"
     ]
    }
   ],
   "source": [
    "print(model.predict(embedded_docs))"
   ]
  },
  {
   "cell_type": "code",
   "execution_count": 14,
   "metadata": {
    "id": "QqG64EQlKB9-"
   },
   "outputs": [
    {
     "name": "stdout",
     "output_type": "stream",
     "text": [
      "[  0   0  30 215 281 141 190 406]\n"
     ]
    }
   ],
   "source": [
    "print(embedded_docs[0])"
   ]
  },
  {
   "cell_type": "code",
   "execution_count": 15,
   "metadata": {
    "id": "ZN79TpwLAqh9"
   },
   "outputs": [
    {
     "name": "stdout",
     "output_type": "stream",
     "text": [
      "1/1 [==============================] - 0s 26ms/step\n",
      "[[-0.01292511  0.01650948  0.04098852 -0.00535557  0.01094609  0.00756294\n",
      "  -0.02065355  0.04931127 -0.03263747 -0.0018859 ]\n",
      " [-0.01292511  0.01650948  0.04098852 -0.00535557  0.01094609  0.00756294\n",
      "  -0.02065355  0.04931127 -0.03263747 -0.0018859 ]\n",
      " [ 0.01261166  0.04211699 -0.04540818 -0.01785394 -0.03458488 -0.03611199\n",
      "   0.04852379  0.00732354 -0.00081839  0.00038292]\n",
      " [-0.0480465   0.02407986 -0.0460626   0.03671534 -0.00720156  0.0181661\n",
      "   0.0295879   0.03588152 -0.00221718  0.03004142]\n",
      " [ 0.03366678  0.01976874 -0.04832819 -0.02825772  0.02014418 -0.01624667\n",
      "   0.03479642  0.03706584  0.03809022 -0.00018489]\n",
      " [ 0.00932177 -0.0441368  -0.03424969 -0.03222843 -0.0224482   0.01235925\n",
      "   0.0215647   0.03407158 -0.04137231  0.01671628]\n",
      " [-0.01479749  0.01231532  0.011304   -0.00766896 -0.03309841 -0.03482059\n",
      "   0.03719313  0.00128601  0.04087922 -0.00012951]\n",
      " [ 0.01685368  0.03222669 -0.00933317 -0.00698788  0.04344222  0.01818917\n",
      "   0.04816239  0.02772066  0.00874809  0.03205753]]\n"
     ]
    }
   ],
   "source": [
    "print(model.predict(embedded_docs)[0])"
   ]
  },
  {
   "cell_type": "code",
   "execution_count": null,
   "metadata": {},
   "outputs": [],
   "source": []
  }
 ],
 "metadata": {
  "colab": {
   "authorship_tag": "ABX9TyNsWfMTcLRy26F0Bubw2rPs",
   "collapsed_sections": [],
   "name": "Feature Extraction (Second Lab).ipynb",
   "provenance": []
  },
  "kernelspec": {
   "display_name": "Python 3 (ipykernel)",
   "language": "python",
   "name": "python3"
  },
  "language_info": {
   "codemirror_mode": {
    "name": "ipython",
    "version": 3
   },
   "file_extension": ".py",
   "mimetype": "text/x-python",
   "name": "python",
   "nbconvert_exporter": "python",
   "pygments_lexer": "ipython3",
   "version": "3.8.10"
  }
 },
 "nbformat": 4,
 "nbformat_minor": 1
}
