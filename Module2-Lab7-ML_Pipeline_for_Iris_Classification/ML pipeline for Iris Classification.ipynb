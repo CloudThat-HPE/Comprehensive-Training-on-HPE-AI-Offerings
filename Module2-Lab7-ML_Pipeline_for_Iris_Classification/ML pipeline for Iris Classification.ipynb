{
 "cells": [
  {
   "cell_type": "code",
   "execution_count": 1,
   "id": "6c75f45c",
   "metadata": {},
   "outputs": [
    {
     "name": "stdout",
     "output_type": "stream",
     "text": [
      "COMPONENT           VERSION             \n",
      "pachctl             2.3.9               \n",
      "pachd               2.4.3               \n"
     ]
    }
   ],
   "source": [
    "!pachctl version"
   ]
  },
  {
   "cell_type": "code",
   "execution_count": 2,
   "id": "169f1907",
   "metadata": {},
   "outputs": [],
   "source": [
    "!pachctl create repo training"
   ]
  },
  {
   "cell_type": "code",
   "execution_count": 3,
   "id": "05faa30b",
   "metadata": {},
   "outputs": [],
   "source": [
    "!pachctl create repo attributes"
   ]
  },
  {
   "cell_type": "code",
   "execution_count": 5,
   "id": "71d85d54",
   "metadata": {},
   "outputs": [
    {
     "name": "stdout",
     "output_type": "stream",
     "text": [
      "NAME       CREATED        SIZE (MASTER) DESCRIPTION \r\n",
      "attributes 25 seconds ago ≤ 0B                      \r\n",
      "training   27 seconds ago ≤ 0B                      \r\n"
     ]
    }
   ],
   "source": [
    "!pachctl list repo"
   ]
  },
  {
   "cell_type": "code",
   "execution_count": 8,
   "id": "1f715adf",
   "metadata": {},
   "outputs": [
    {
     "name": "stdout",
     "output_type": "stream",
     "text": [
      "data/iris.csv 4.55 KB / 4.55 KB [==================================] 0s 0.00 b/s\r\n",
      "\u001b[1A\u001b[Jdata/iris.csv 4.55 KB / 4.55 KB [==================================] 0s 0.00 b/s\r\n"
     ]
    }
   ],
   "source": [
    "!pachctl put file training@master -f data/iris.csv"
   ]
  },
  {
   "cell_type": "code",
   "execution_count": 9,
   "id": "9b8d1b71",
   "metadata": {},
   "outputs": [
    {
     "name": "stdout",
     "output_type": "stream",
     "text": [
      "NAME       CREATED            SIZE (MASTER) DESCRIPTION \r\n",
      "attributes About a minute ago ≤ 0B                      \r\n",
      "training   About a minute ago ≤ 4.444KiB                \r\n"
     ]
    }
   ],
   "source": [
    "!pachctl list repo"
   ]
  },
  {
   "cell_type": "code",
   "execution_count": 10,
   "id": "00747ae4",
   "metadata": {},
   "outputs": [
    {
     "name": "stdout",
     "output_type": "stream",
     "text": [
      "NAME      TYPE SIZE     \r\n",
      "/iris.csv file 4.444KiB \r\n"
     ]
    }
   ],
   "source": [
    "!pachctl list file training@master"
   ]
  },
  {
   "cell_type": "code",
   "execution_count": 11,
   "id": "d249c39e",
   "metadata": {},
   "outputs": [],
   "source": [
    "!pachctl create pipeline -f python_train.json"
   ]
  },
  {
   "cell_type": "code",
   "execution_count": 12,
   "id": "c39daa5a",
   "metadata": {},
   "outputs": [
    {
     "name": "stdout",
     "output_type": "stream",
     "text": [
      "ID                               SUBJOBS PROGRESS CREATED        MODIFIED\r\n",
      "9f528e27a6e0469c9981fb8e9a81809e 1       \u001b[32m▇\u001b[0m\u001b[32m▇\u001b[0m\u001b[32m▇\u001b[0m\u001b[32m▇\u001b[0m\u001b[32m▇\u001b[0m\u001b[32m▇\u001b[0m\u001b[32m▇\u001b[0m\u001b[32m▇\u001b[0m 24 seconds ago 24 seconds ago \r\n"
     ]
    }
   ],
   "source": [
    "!pachctl list job"
   ]
  },
  {
   "cell_type": "code",
   "execution_count": 13,
   "id": "44a70c00",
   "metadata": {},
   "outputs": [
    {
     "name": "stdout",
     "output_type": "stream",
     "text": [
      "NAME       TYPE SIZE     \r\n",
      "/model.pkl file 3.448KiB \r\n",
      "/model.txt file 226B     \r\n"
     ]
    }
   ],
   "source": [
    "!pachctl list file model@master"
   ]
  },
  {
   "cell_type": "code",
   "execution_count": 36,
   "id": "2322957c",
   "metadata": {},
   "outputs": [
    {
     "name": "stdout",
     "output_type": "stream",
     "text": [
      "data/test/1.csv 16.00 b / 16.00 b [================================] 0s 0.00 b/s\n",
      "data/test/2.csv 0.00 b / 96.00 b [---------------------------------] 0s 0.00 b/s\n",
      "\u001b[2A\u001b[Jdata/test/1.csv 16.00 b / 16.00 b [================================] 0s 0.00 b/s\n",
      "data/test/2.csv 0.00 b / 96.00 b [---------------------------------] 0s 0.00 b/s\n",
      "\u001b[2A\u001b[Jdata/test/1.csv 16.00 b / 16.00 b [================================] 0s 0.00 b/s\n",
      "data/test/2.csv 0.00 b / 96.00 b [---------------------------------] 0s 0.00 b/s\n",
      "\u001b[2A\u001b[Jdata/test/1.csv 16.00 b / 16.00 b [================================] 0s 0.00 b/s\n",
      "data/test/2.csv 96.00 b / 96.00 b [================================] 0s 0.00 b/s\n",
      "\u001b[2A\u001b[Jdata/test/1.csv 16.00 b / 16.00 b [================================] 0s 0.00 b/s\n",
      "data/test/2.csv 96.00 b / 96.00 b [================================] 0s 0.00 b/s\n",
      "\u001b[2A\u001b[Jdata/test/1.csv 16.00 b / 16.00 b [================================] 0s 0.00 b/s\n",
      "data/test/2.csv 96.00 b / 96.00 b [================================] 0s 0.00 b/s\n",
      "\u001b[2A\u001b[Jdata/test/1.csv 16.00 b / 16.00 b [================================] 0s 0.00 b/s\n",
      "data/test/2.csv 96.00 b / 96.00 b [================================] 0s 0.00 b/s\n"
     ]
    }
   ],
   "source": [
    "!pachctl put file -r attributes@master -f data/test"
   ]
  },
  {
   "cell_type": "code",
   "execution_count": 38,
   "id": "00620af0",
   "metadata": {},
   "outputs": [
    {
     "name": "stdout",
     "output_type": "stream",
     "text": [
      "NAME   TYPE SIZE \r\n",
      "/test/ dir  112B \r\n"
     ]
    }
   ],
   "source": [
    "!pachctl list file attributes@master"
   ]
  },
  {
   "cell_type": "code",
   "execution_count": 20,
   "id": "96611a0b",
   "metadata": {},
   "outputs": [],
   "source": [
    "!pachctl create pipeline -f python_infer.json"
   ]
  },
  {
   "cell_type": "code",
   "execution_count": 37,
   "id": "0c0d5213",
   "metadata": {},
   "outputs": [
    {
     "name": "stdout",
     "output_type": "stream",
     "text": [
      "ID                               SUBJOBS PROGRESS CREATED            MODIFIED\r\n",
      "4d6fa020c21649cfb176412697092430 1       \u001b[32m▇\u001b[0m\u001b[32m▇\u001b[0m\u001b[32m▇\u001b[0m\u001b[32m▇\u001b[0m\u001b[32m▇\u001b[0m\u001b[32m▇\u001b[0m\u001b[32m▇\u001b[0m\u001b[32m▇\u001b[0m 34 seconds ago     34 seconds ago     \r\n",
      "e9f313e611a144eb885f00f8556e8eed 1       \u001b[32m▇\u001b[0m\u001b[32m▇\u001b[0m\u001b[32m▇\u001b[0m\u001b[32m▇\u001b[0m\u001b[32m▇\u001b[0m\u001b[32m▇\u001b[0m\u001b[32m▇\u001b[0m\u001b[32m▇\u001b[0m About a minute ago About a minute ago \r\n",
      "2dd361ed43fe4aa78c0584948ed79988 1       \u001b[32m▇\u001b[0m\u001b[32m▇\u001b[0m\u001b[32m▇\u001b[0m\u001b[32m▇\u001b[0m\u001b[32m▇\u001b[0m\u001b[32m▇\u001b[0m\u001b[32m▇\u001b[0m\u001b[32m▇\u001b[0m About a minute ago About a minute ago \r\n",
      "0017b9a067c4496bb1f0bcb8f5cc9019 1       \u001b[32m▇\u001b[0m\u001b[32m▇\u001b[0m\u001b[32m▇\u001b[0m\u001b[32m▇\u001b[0m\u001b[32m▇\u001b[0m\u001b[32m▇\u001b[0m\u001b[32m▇\u001b[0m\u001b[32m▇\u001b[0m About a minute ago About a minute ago \r\n",
      "7f05e0236e6d4d7b8cac8d2144bfc0c4 1       \u001b[32m▇\u001b[0m\u001b[32m▇\u001b[0m\u001b[32m▇\u001b[0m\u001b[32m▇\u001b[0m\u001b[32m▇\u001b[0m\u001b[32m▇\u001b[0m\u001b[32m▇\u001b[0m\u001b[32m▇\u001b[0m 6 minutes ago      6 minutes ago      \r\n",
      "4e6d0da3b8c443df9eb53055e2c68b81 1       \u001b[31m▇\u001b[0m\u001b[31m▇\u001b[0m\u001b[31m▇\u001b[0m\u001b[31m▇\u001b[0m\u001b[31m▇\u001b[0m\u001b[31m▇\u001b[0m\u001b[31m▇\u001b[0m\u001b[31m▇\u001b[0m 6 minutes ago      6 minutes ago      \r\n",
      "e2268e10002345d9968ff972385c02e5 1       \u001b[31m▇\u001b[0m\u001b[31m▇\u001b[0m\u001b[31m▇\u001b[0m\u001b[31m▇\u001b[0m\u001b[31m▇\u001b[0m\u001b[31m▇\u001b[0m\u001b[31m▇\u001b[0m\u001b[31m▇\u001b[0m 11 minutes ago     11 minutes ago     \r\n",
      "9f528e27a6e0469c9981fb8e9a81809e 1       \u001b[32m▇\u001b[0m\u001b[32m▇\u001b[0m\u001b[32m▇\u001b[0m\u001b[32m▇\u001b[0m\u001b[32m▇\u001b[0m\u001b[32m▇\u001b[0m\u001b[32m▇\u001b[0m\u001b[32m▇\u001b[0m 15 minutes ago     15 minutes ago     \r\n"
     ]
    }
   ],
   "source": [
    "!pachctl list job"
   ]
  },
  {
   "cell_type": "code",
   "execution_count": 31,
   "id": "0cb8d447",
   "metadata": {},
   "outputs": [
    {
     "name": "stdout",
     "output_type": "stream",
     "text": [
      "NAME      VERSION INPUT                     CREATED       STATE / LAST JOB  DESCRIPTION                                                                                               \r\n",
      "inference 1       (attributes:/* ⨯ model:/) 5 minutes ago \u001b[32mrunning\u001b[0m / \u001b[32msuccess\u001b[0m An inference pipeline that makes a prediction based on the trained model by using a Python script.        \r\n",
      "model     1       training:/                9 minutes ago \u001b[32mrunning\u001b[0m / \u001b[32msuccess\u001b[0m A pipeline that trains the model based on the data in the `training` repository by using a Python script. \r\n"
     ]
    }
   ],
   "source": [
    "!pachctl list pipeline"
   ]
  },
  {
   "cell_type": "code",
   "execution_count": 32,
   "id": "c068cd9c",
   "metadata": {},
   "outputs": [
    {
     "name": "stdout",
     "output_type": "stream",
     "text": [
      "NAME       CREATED        SIZE (MASTER) DESCRIPTION                         \r\n",
      "inference  6 minutes ago  ≤ 100B        Output repo for pipeline inference. \r\n",
      "model      9 minutes ago  ≤ 3.669KiB    Output repo for pipeline model.     \r\n",
      "attributes 12 minutes ago ≤ 112B                                            \r\n",
      "training   12 minutes ago ≤ 4.444KiB                                        \r\n"
     ]
    }
   ],
   "source": [
    "!pachctl list repo"
   ]
  },
  {
   "cell_type": "code",
   "execution_count": 33,
   "id": "adaf55e0",
   "metadata": {},
   "outputs": [
    {
     "name": "stdout",
     "output_type": "stream",
     "text": [
      "NAME TYPE SIZE \r\n",
      "/1   file 15B  \r\n",
      "/2   file 85B  \r\n"
     ]
    }
   ],
   "source": [
    "!pachctl list file inference@master"
   ]
  },
  {
   "cell_type": "code",
   "execution_count": 39,
   "id": "9f508e63",
   "metadata": {},
   "outputs": [
    {
     "name": "stdout",
     "output_type": "stream",
     "text": [
      "Iris-virginica\r\n"
     ]
    }
   ],
   "source": [
    "!pachctl get file inference@master:1"
   ]
  },
  {
   "cell_type": "code",
   "execution_count": 40,
   "id": "96902a5f",
   "metadata": {},
   "outputs": [
    {
     "name": "stdout",
     "output_type": "stream",
     "text": [
      "Iris-versicolor\r\n",
      "Iris-virginica\r\n",
      "Iris-virginica\r\n",
      "Iris-virginica\r\n",
      "Iris-setosa\r\n",
      "Iris-setosa\r\n"
     ]
    }
   ],
   "source": [
    "!pachctl get file inference@master:2"
   ]
  },
  {
   "cell_type": "code",
   "execution_count": null,
   "id": "2f839431",
   "metadata": {},
   "outputs": [],
   "source": []
  }
 ],
 "metadata": {
  "kernelspec": {
   "display_name": "Python 3 (ipykernel)",
   "language": "python",
   "name": "python3"
  },
  "language_info": {
   "codemirror_mode": {
    "name": "ipython",
    "version": 3
   },
   "file_extension": ".py",
   "mimetype": "text/x-python",
   "name": "python",
   "nbconvert_exporter": "python",
   "pygments_lexer": "ipython3",
   "version": "3.8.10"
  }
 },
 "nbformat": 4,
 "nbformat_minor": 5
}
