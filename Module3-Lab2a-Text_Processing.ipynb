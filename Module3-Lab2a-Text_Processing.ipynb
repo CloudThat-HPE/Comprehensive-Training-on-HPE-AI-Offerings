{
 "cells": [
  {
   "cell_type": "markdown",
   "metadata": {
    "id": "YRBQfuZev7q3"
   },
   "source": [
    "# **Import Regex Library**"
   ]
  },
  {
   "cell_type": "code",
   "execution_count": null,
   "metadata": {
    "id": "7gE4zJ0Lqs-Q"
   },
   "outputs": [],
   "source": [
    "import re\n",
    "print(re.__version__)"
   ]
  },
  {
   "cell_type": "markdown",
   "metadata": {
    "id": "h7E-KVMcr7Dp"
   },
   "source": [
    "# **Detect and Remove HTML Tags**"
   ]
  },
  {
   "cell_type": "code",
   "execution_count": null,
   "metadata": {
    "id": "G7SvFjds7VfC"
   },
   "outputs": [],
   "source": [
    "text = \"<p>Follow this <b>website</b> for more details. </p>\"\n",
    "x = re.findall(\"<.*?>\", text)\n",
    "print(x)\n",
    "z = re.sub(\"<.*?>\", \"\", text)\n",
    "print(z)"
   ]
  },
  {
   "cell_type": "markdown",
   "metadata": {
    "id": "oe_lB55ssKMn"
   },
   "source": [
    "# **Removing special characters and keeping only alphabets and numbers**"
   ]
  },
  {
   "cell_type": "code",
   "execution_count": null,
   "metadata": {
    "id": "s57UIAbqlziY"
   },
   "outputs": [],
   "source": [
    "text = \"2022 #Partner of the Year Finalist Learning #Award%%\"\n",
    "x = re.sub(\"[^a-zA-Z0-9]+\", \" \", text)\n",
    "print(x)"
   ]
  },
  {
   "cell_type": "markdown",
   "metadata": {
    "id": "HsQqBhNusYLf"
   },
   "source": [
    "# **Keeping only alphabets**"
   ]
  },
  {
   "cell_type": "code",
   "execution_count": null,
   "metadata": {
    "id": "YBIqYM5K_Da7"
   },
   "outputs": [],
   "source": [
    "text = \"2022 #Partner of the Year Finalist Learning #Award%%\"\n",
    "x = re.sub(\"[^a-zA-Z]+\", \" \", text)\n",
    "print(x)"
   ]
  },
  {
   "cell_type": "markdown",
   "metadata": {
    "id": "Zr8t0cNisAzH"
   },
   "source": [
    "# **Detect and Remove URLs**"
   ]
  },
  {
   "cell_type": "code",
   "execution_count": null,
   "metadata": {
    "id": "VBbIVvKv8Lja"
   },
   "outputs": [],
   "source": [
    "text = \"Visit www.cloudthat.com and login to https://www.skillpipe.com/#/account/login\"\n",
    "x = re.findall(\"https?://\\S+|www\\.\\S+\", text)\n",
    "print(x)\n",
    "z = re.sub(\"https?://\\S+|www\\.\\S+\", \"\", text)\n",
    "print(z)"
   ]
  },
  {
   "cell_type": "markdown",
   "metadata": {
    "id": "8FRAk7Citb5M"
   },
   "source": [
    "# **Detect and Remove Email IDs**"
   ]
  },
  {
   "cell_type": "code",
   "execution_count": null,
   "metadata": {
    "id": "2rfP3Tp5tedX"
   },
   "outputs": [],
   "source": [
    "text = \"Please send your feedback to ctml@cloudthat.com or ctml123@gmail.com\"\n",
    "x = re.findall(\"[a-zA-Z0-9_\\-\\.]+@[a-zA-Z0-9_\\-\\.]+\\.[a-zA-Z]{2,5}\", text)\n",
    "print(x)\n",
    "z = re.sub(\"[a-zA-Z0-9_\\-\\.]+@[a-zA-Z0-9_\\-\\.]+\\.[a-zA-Z]{2,5}\", \"\", text)\n",
    "print(z)"
   ]
  },
  {
   "cell_type": "markdown",
   "metadata": {
    "id": "LB4Gsk2TsoOH"
   },
   "source": [
    "# **Replacing Multi-Spaces**"
   ]
  },
  {
   "cell_type": "code",
   "execution_count": null,
   "metadata": {
    "id": "XtfACKmx0BCn"
   },
   "outputs": [],
   "source": [
    "text = \"2022 Partner              of the Year          Finalist Learning Award\"\n",
    "x = re.sub(\"\\s+\", \" \", text)\n",
    "print(x)"
   ]
  },
  {
   "cell_type": "markdown",
   "metadata": {
    "id": "gS4QstuOVAX1"
   },
   "source": [
    "# **Import NLTK**"
   ]
  },
  {
   "cell_type": "code",
   "execution_count": null,
   "metadata": {
    "id": "j4KnArh5VJUX"
   },
   "outputs": [],
   "source": [
    "import nltk\n",
    "print(nltk.__version__)"
   ]
  },
  {
   "cell_type": "code",
   "execution_count": null,
   "metadata": {
    "id": "4bBUclgMVqWu"
   },
   "outputs": [],
   "source": [
    "nltk.download('punkt')\n",
    "\n",
    "paragraph = \"\"\"Diversity is an important issue for any modern business, but it’s not enough to simply hire people of different nationalities, races, genders and sexual orientations. \n",
    "                Everyone needs to feel welcome, safe and free to be themselves in the workplace. \n",
    "                If you focus on diversity, equity and inclusion (DEI) in your workplace, your business’s culture and bottom line will benefit. \n",
    "                Inclusive workplaces go the extra mile to consider the safety and comfortability of all employees, especially those in marginalized groups. \n",
    "                For example, gendered bathrooms have the potential to make transgender and gender-nonconforming employees uncomfortable, especially in light of controversial “bathroom bills” in multiple states that could or already do impact transgender people’s rights. \n",
    "                On a broader level, inclusive spaces can be created simply by spending time with one another. \n",
    "                Consider hosting team lunches and other informal events where employees can casually connect with each other. \n",
    "                If your company is bigger, creating an in-office support group or network for diverse employees can help them connect with others who share their experiences.\"\"\""
   ]
  },
  {
   "cell_type": "markdown",
   "metadata": {
    "id": "ZAv8pHH3WgO7"
   },
   "source": [
    "# **Tokenization**"
   ]
  },
  {
   "cell_type": "markdown",
   "metadata": {},
   "source": [
    "Tokenization may be defined as the Process of breaking the given text, into smaller units called tokens. Words, numbers or punctuation marks can be tokens. It may also be called word segmentation.<br>\n",
    "\n",
    "We have different packages for tokenization provided by NLTK. We can use these packages based on our requirements. The packages and the details of their installation are as follows −"
   ]
  },
  {
   "cell_type": "markdown",
   "metadata": {},
   "source": [
    "1. sent_tokenize package: This package can be used to divide the input text into sentences. We can import it by using the following command − <br>\n",
    "from nltk.tokenize import sent_tokenize"
   ]
  },
  {
   "cell_type": "code",
   "execution_count": null,
   "metadata": {},
   "outputs": [],
   "source": [
    "sentences = nltk.sent_tokenize(paragraph)\n",
    "print(sentences)\n",
    "print(len(sentences))"
   ]
  },
  {
   "cell_type": "markdown",
   "metadata": {},
   "source": [
    "2. word_tokenize package: This package can be used to divide the input text into words. We can import it by using the following command − <br>\n",
    "from nltk.tokenize import word_tokenize"
   ]
  },
  {
   "cell_type": "code",
   "execution_count": null,
   "metadata": {},
   "outputs": [],
   "source": [
    "words = nltk.word_tokenize(paragraph)\n",
    "print(words)\n",
    "print(len(words))"
   ]
  },
  {
   "cell_type": "markdown",
   "metadata": {},
   "source": [
    "3. WordPunctTokenizer package: This package can be used to divide the input text into words and punctuation marks. We can import it by using the following command −<br>\n",
    "from nltk.tokenize import WordPuncttokenizer"
   ]
  },
  {
   "cell_type": "code",
   "execution_count": null,
   "metadata": {},
   "outputs": [],
   "source": [
    "tk = nltk.WordPunctTokenizer()\n",
    "wordsp = tk.tokenize(paragraph)\n",
    "print(wordsp)\n",
    "print(len(wordsp))"
   ]
  },
  {
   "cell_type": "code",
   "execution_count": null,
   "metadata": {
    "id": "2hDiC-6wAyXR"
   },
   "outputs": [],
   "source": [
    "from nltk.util import ngrams\n",
    "n = 3\n",
    "sentence = 'You will face many defeats in life, but never let yourself be defeated.'\n",
    "bigrams = ngrams(sentence.split(), n)\n",
    "\n",
    "for item in bigrams:\n",
    "    print(item)"
   ]
  },
  {
   "cell_type": "markdown",
   "metadata": {
    "id": "YnzZAnbxVWZ0"
   },
   "source": [
    "# **Printing Stop Words in English**"
   ]
  },
  {
   "cell_type": "code",
   "execution_count": null,
   "metadata": {
    "id": "SZWKWyyrVNVO"
   },
   "outputs": [],
   "source": [
    "from nltk.corpus import stopwords\n",
    "nltk.download('stopwords')\n",
    "\n",
    "print(stopwords.words('english'))"
   ]
  },
  {
   "cell_type": "markdown",
   "metadata": {
    "id": "4wRZu81TY6MS"
   },
   "source": [
    "# **Stemming**"
   ]
  },
  {
   "cell_type": "markdown",
   "metadata": {},
   "source": [
    "Language includes lots of variations. Variations in the sense that the language have different forms of a word. For example, the words like democracy, democratic, and democratization.For machine learning projects, it is very important for machines to understand that these different words, like above, have the same base form. That is why it is very useful to extract the base forms of the words while analyzing the text.<br>\n",
    "Stemming is a heuristic process that helps in extracting the base forms of the words by chopping of their ends."
   ]
  },
  {
   "cell_type": "markdown",
   "metadata": {},
   "source": [
    "The different packages for stemming provided by NLTK module are as follows −"
   ]
  },
  {
   "cell_type": "markdown",
   "metadata": {},
   "source": [
    "PorterStemmer package: Porter’s algorithm is used by this stemming package to extract the base form of the words. "
   ]
  },
  {
   "cell_type": "code",
   "execution_count": null,
   "metadata": {},
   "outputs": [],
   "source": [
    "from nltk.stem import PorterStemmer\n",
    "ps = PorterStemmer()\n",
    "words = [\"python\",\"pythoner\",\"pythoning\",\"pythoned\",\"pythonly\"]\n",
    "for word in words:\n",
    "    print(word,\"--->\",ps.stem(word))"
   ]
  },
  {
   "cell_type": "markdown",
   "metadata": {},
   "source": [
    "2. LancasterStemmer package: Lancaster’s algorithm is used by this stemming package to extract the base form of the words. With the help of following command, we can import this package − <br>\n",
    "from nltk.stem.lancaster import LancasterStemmer<br>\n",
    "For example, ‘writ’ would be the output of the word ‘writing’ given as the input to this stemmer."
   ]
  },
  {
   "cell_type": "code",
   "execution_count": null,
   "metadata": {},
   "outputs": [],
   "source": [
    "from nltk.stem import LancasterStemmer\n",
    "lancaster = LancasterStemmer()\n",
    "words = ['eating','eats','eaten','puts','putting']\n",
    "for word in words:\n",
    "    print(word,\"--->\",lancaster.stem(word)) "
   ]
  },
  {
   "cell_type": "markdown",
   "metadata": {},
   "source": [
    "3. SnowballStemmer package: Snowball’s algorithm is used by this stemming package to extract the base form of the words. With the help of following command, we can import this package −<br>\n",
    "from nltk.stem.snowball import SnowballStemmer<br>\n",
    "For example, ‘write’ would be the output of the word ‘writing’ given as the input to this stemmer."
   ]
  },
  {
   "cell_type": "code",
   "execution_count": null,
   "metadata": {},
   "outputs": [],
   "source": [
    "from nltk.stem import SnowballStemmer\n",
    "snowball = SnowballStemmer(language='english')\n",
    "words = ['generous','generate','generously','generation']\n",
    "for word in words:\n",
    "    print(word,\"--->\",snowball.stem(word))"
   ]
  },
  {
   "cell_type": "markdown",
   "metadata": {},
   "source": [
    "4. Regexp Stemmer – RegexpStemmer(): Regex stemmer identifies morphological affixes using regular expressions. Substrings matching the regular expressions will be discarded."
   ]
  },
  {
   "cell_type": "code",
   "execution_count": null,
   "metadata": {},
   "outputs": [],
   "source": [
    "from nltk.stem import RegexpStemmer\n",
    "regexp = RegexpStemmer('ing$|s$|e$|able$', min=4)\n",
    "words = ['mass','was','bee','computer','advisable']\n",
    "for word in words:\n",
    "    print(word,\"--->\",regexp.stem(word))"
   ]
  },
  {
   "cell_type": "markdown",
   "metadata": {},
   "source": [
    "Porter vs Snowball vs Lancaster vs Regex Stemming in NLTK"
   ]
  },
  {
   "cell_type": "code",
   "execution_count": null,
   "metadata": {},
   "outputs": [],
   "source": [
    "from nltk.stem import PorterStemmer, SnowballStemmer, LancasterStemmer, RegexpStemmer\n",
    "porter = PorterStemmer()\n",
    "lancaster = LancasterStemmer()\n",
    "snowball = SnowballStemmer(language='english')\n",
    "regexp = RegexpStemmer('ing$|s$|e$|able$', min=4)\n",
    "word_list = [\"friend\", \"friendship\", \"friends\", \"friendships\"]\n",
    "print(\"{0:20}{1:20}{2:20}{3:30}{4:40}\".format(\"Word\",\"Porter Stemmer\",\"Snowball Stemmer\",\"Lancaster Stemmer\",'Regexp Stemmer'))\n",
    "for word in word_list:\n",
    "    print(\"{0:20}{1:20}{2:20}{3:30}{4:40}\".format(word,porter.stem(word),snowball.stem(word),lancaster.stem(word),regexp.stem(word)))"
   ]
  },
  {
   "cell_type": "markdown",
   "metadata": {},
   "source": [
    "Stemming a Text File with NLTK"
   ]
  },
  {
   "cell_type": "code",
   "execution_count": null,
   "metadata": {},
   "outputs": [],
   "source": [
    "from nltk.stem import PorterStemmer\n",
    "from nltk.corpus import stopwords\n",
    "\n",
    "paragraph = \"\"\"Diversity is an important issue for any modern business, but it’s not enough to simply hire people of different nationalities, races, genders and sexual orientations. \n",
    "                Everyone needs to feel welcome, safe and free to be themselves in the workplace. \n",
    "                If you focus on diversity, equity and inclusion (DEI) in your workplace, your business’s culture and bottom line will benefit. \n",
    "                Inclusive workplaces go the extra mile to consider the safety and comfortability of all employees, especially those in marginalized groups. \n",
    "                For example, gendered bathrooms have the potential to make transgender and gender-nonconforming employees uncomfortable, especially in light of controversial “bathroom bills” in multiple states that could or already do impact transgender people’s rights. \n",
    "                On a broader level, inclusive spaces can be created simply by spending time with one another. \n",
    "                Consider hosting team lunches and other informal events where employees can casually connect with each other. \n",
    "                If your company is bigger, creating an in-office support group or network for diverse employees can help them connect with others who share their experiences.\"\"\"              \n",
    "\n",
    "sentences = nltk.sent_tokenize(paragraph)\n",
    "stemmer = PorterStemmer()\n",
    "corpus = []\n",
    "\n",
    "for i in range(len(sentences)):\n",
    "    sentence = re.sub(\"[^a-zA-Z]\", \" \", sentences[i])\n",
    "    sentence = sentence.lower()\n",
    "    words = nltk.word_tokenize(sentence)\n",
    "    words = [stemmer.stem(word) for word in words if word not in set(stopwords.words('english'))]\n",
    "    sentence = ' '.join(words)\n",
    "    corpus.append(sentence)  \n",
    "\n",
    "print(corpus)    "
   ]
  },
  {
   "cell_type": "markdown",
   "metadata": {},
   "source": [
    "Tagging Parts of Speech: Part of speech is a grammatical term that deals with the roles words play when you use them together in sentences. Tagging parts of speech, or POS tagging, is the task of labeling the words in your text according to their part of speech.<br>(Requires - nltk.download('averaged_perceptron_tagger'))<br>\n",
    "\n",
    "In English, there are eight parts of speech:\n",
    "\n",
    "Part of speech<br>\t\n",
    "Noun<br>\n",
    "Pronoun<br>\n",
    "Adjective<br>\n",
    "Verb<br>\n",
    "Adverb<br>\n",
    "Preposition<br>\n",
    "Conjunction<br>\n",
    "Interjection"
   ]
  },
  {
   "cell_type": "code",
   "execution_count": null,
   "metadata": {},
   "outputs": [],
   "source": [
    "from nltk.tokenize import word_tokenize\n",
    "\n",
    "quote = \"\"\"If you wish to make an apple pie from scratch,you must first invent the universe.\"\"\"\n",
    "words_in_quote = word_tokenize(quote)\n",
    "\n",
    "nltk.pos_tag(words_in_quote)"
   ]
  },
  {
   "cell_type": "markdown",
   "metadata": {
    "id": "1FFaWHR_Zx9X"
   },
   "source": [
    "# **Lemmatization**"
   ]
  },
  {
   "cell_type": "markdown",
   "metadata": {},
   "source": [
    "It is another way to extract the base form of words, normally aiming to remove inflectional endings by using vocabulary and morphological analysis. After lemmatization, the base form of any word is called lemma.<br> Lemmatization is similar to stemming but it brings context to the words. So it links words with similar meanings to one word. "
   ]
  },
  {
   "cell_type": "markdown",
   "metadata": {},
   "source": [
    "1. WordNetLemmatizer package: This package will extract the base form of the word depending upon whether it is used as a noun or as a verb. "
   ]
  },
  {
   "cell_type": "code",
   "execution_count": null,
   "metadata": {},
   "outputs": [],
   "source": [
    "from nltk.stem import WordNetLemmatizer\n",
    "lemmatizer = WordNetLemmatizer()\n",
    "  \n",
    "print(\"rocks :\", lemmatizer.lemmatize(\"rocks\"))\n",
    "print(\"corpora :\", lemmatizer.lemmatize(\"corpora\"))\n",
    "print(\"better :\", lemmatizer.lemmatize(\"better\", pos =\"a\"))\n",
    "# a denotes adjective in \"pos\""
   ]
  },
  {
   "cell_type": "code",
   "execution_count": null,
   "metadata": {
    "id": "ZB0j0k1FZ3Br"
   },
   "outputs": [],
   "source": [
    "from nltk.stem import WordNetLemmatizer\n",
    "from nltk.corpus import stopwords\n",
    "nltk.download('wordnet')\n",
    "nltk.download('omw-1.4')\n",
    "\n",
    "paragraph = \"\"\"Thank you all so very much. Thank you to the Academy. \n",
    "               Thank you to all of you in this room. I have to congratulate \n",
    "               the other incredible nominees this year. The Revenant was \n",
    "               the product of the tireless efforts of an unbelievable cast\n",
    "               and crew. First off, to my brother in this endeavor, Mr. Tom \n",
    "               Hardy. Tom, your talent on screen can only be surpassed by \n",
    "               your friendship off screen … thank you for creating a t\n",
    "               ranscendent cinematic experience. Thank you to everybody at \n",
    "               Fox and New Regency … my entire team. I have to thank \n",
    "               everyone from the very onset of my career … To my parents; \n",
    "               none of this would be possible without you. And to my \n",
    "               friends, I love you dearly; you know who you are. And lastly,\n",
    "               I just want to say this: Making The Revenant was about\n",
    "               man's relationship to the natural world. A world that we\n",
    "               collectively felt in 2015 as the hottest year in recorded\n",
    "               history. Our production needed to move to the southern\n",
    "               tip of this planet just to be able to find snow. Climate\n",
    "               change is real, it is happening right now. It is the most\n",
    "               urgent threat facing our entire species, and we need to work\n",
    "               collectively together and stop procrastinating. We need to\n",
    "               support leaders around the world who do not speak for the \n",
    "               big polluters, but who speak for all of humanity, for the\n",
    "               indigenous people of the world, for the billions and \n",
    "               billions of underprivileged people out there who would be\n",
    "               most affected by this. For our children’s children, and \n",
    "               for those people out there whose voices have been drowned\n",
    "               out by the politics of greed. I thank you all for this \n",
    "               amazing award tonight. Let us not take this planet for \n",
    "               granted. I do not take tonight for granted. Thank you so very much.\"\"\"\n",
    "\n",
    "sentences = nltk.sent_tokenize(paragraph)\n",
    "lemmatizer = WordNetLemmatizer()\n",
    "corpus = []\n",
    "\n",
    "for i in range(len(sentences)):\n",
    "    sentence = re.sub(\"[^a-zA-Z]\", \" \", sentences[i])\n",
    "    sentence = sentence.lower()\n",
    "    words = nltk.word_tokenize(sentence)\n",
    "    words = [lemmatizer.lemmatize(word) for word in words if word not in set(stopwords.words('english'))]\n",
    "    sentence = ' '.join(words)\n",
    "    corpus.append(sentence)  \n",
    "\n",
    "print(corpus)  "
   ]
  },
  {
   "cell_type": "markdown",
   "metadata": {},
   "source": [
    "Stemming algorithm works by cutting the suffix from the word. In a broader sense cuts either the beginning or end of the word.\n",
    "\n",
    "On the contrary, Lemmatization is a more powerful operation, and it takes into consideration morphological analysis of the words. It returns the lemma which is the base form of all its inflectional forms. In-depth linguistic knowledge is required to create dictionaries and look for the proper form of the word. Stemming is a general operation while lemmatization is an intelligent operation where the proper form will be looked in the dictionary. Hence, lemmatization helps in forming better machine learning features."
   ]
  },
  {
   "cell_type": "markdown",
   "metadata": {},
   "source": [
    "Chunking: While tokenizing allows you to identify words and sentences, chunking allows you to identify phrases.\n",
    "<br>\n",
    "Note: A phrase is a word or group of words that works as a single unit to perform a grammatical function. Noun phrases are built around a noun.\n",
    "<br>\n",
    "Here are some examples:\n",
    "<br>\n",
    "“A planet”<br>\n",
    "“A tilting planet”<br>\n",
    "“A swiftly tilting planet”<br>"
   ]
  },
  {
   "cell_type": "markdown",
   "metadata": {},
   "source": [
    "Chunking makes use of POS tags to group words and apply chunk tags to those groups. Chunks don’t overlap, so one instance of a word can be in only one chunk at a time."
   ]
  },
  {
   "cell_type": "code",
   "execution_count": null,
   "metadata": {},
   "outputs": [],
   "source": [
    "lotr_quote = \"It's a dangerous business, Frodo, going out your door.\"\n",
    "words_in_lotr_quote = nltk.word_tokenize(lotr_quote)\n",
    "words_in_lotr_quote"
   ]
  },
  {
   "cell_type": "code",
   "execution_count": null,
   "metadata": {},
   "outputs": [],
   "source": [
    "lotr_pos_tags = nltk.pos_tag(words_in_lotr_quote)\n",
    "lotr_pos_tags"
   ]
  },
  {
   "cell_type": "markdown",
   "metadata": {},
   "source": [
    "DT is the determinant\n",
    "VBP is the verb\n",
    "JJ is the adjective\n",
    "IN is the preposition\n",
    "NN is the noun"
   ]
  },
  {
   "cell_type": "markdown",
   "metadata": {},
   "source": [
    "list of tuples of all the words in the quote, along with their POS tag.<br>In order to chunk, you first need to define a chunk grammar."
   ]
  },
  {
   "cell_type": "markdown",
   "metadata": {},
   "source": [
    "Create a chunk grammar with one regular expression rule:"
   ]
  },
  {
   "cell_type": "code",
   "execution_count": null,
   "metadata": {},
   "outputs": [],
   "source": [
    "grammar = \"NP: {<DT>?<JJ>*<NN>}\""
   ]
  },
  {
   "cell_type": "markdown",
   "metadata": {},
   "source": [
    "According to the rule that we created, chunks are:\n",
    "1. Start with an optional (?) determiner ('DT')\n",
    "2. Can have any number (*) of adjectives (JJ)\n",
    "3. End with a noun (<NN>) <br>\n",
    "Create a chunk parser with this grammar:"
   ]
  },
  {
   "cell_type": "code",
   "execution_count": null,
   "metadata": {},
   "outputs": [],
   "source": [
    "chunk_parser = nltk.RegexpParser(grammar)"
   ]
  },
  {
   "cell_type": "code",
   "execution_count": null,
   "metadata": {},
   "outputs": [],
   "source": [
    "tree = chunk_parser.parse(lotr_pos_tags)"
   ]
  },
  {
   "attachments": {
    "image-2.png": {
     "image/png": "[encoded data removed]"
    }
   },
   "cell_type": "markdown",
   "metadata": {},
   "source": [
    "![image-2.png](attachment:image-2.png)"
   ]
  },
  {
   "cell_type": "code",
   "execution_count": null,
   "metadata": {},
   "outputs": [],
   "source": [
    "tree"
   ]
  },
  {
   "cell_type": "markdown",
   "metadata": {},
   "source": [
    "We got two noun phrases:\n",
    "1. 'a dangerous business' has a determiner, an adjective, and a noun.\n",
    "2. 'door' has just a noun."
   ]
  },
  {
   "cell_type": "markdown",
   "metadata": {},
   "source": [
    "Chinking\n",
    "Chinking is used together with chunking, but while chunking is used to include a pattern, chinking is used to exclude a pattern."
   ]
  },
  {
   "cell_type": "code",
   "execution_count": null,
   "metadata": {},
   "outputs": [],
   "source": [
    "lotr_pos_tags"
   ]
  },
  {
   "cell_type": "markdown",
   "metadata": {},
   "source": [
    "The next step is to create a grammar to determine what you want to include and exclude in your chunks."
   ]
  },
  {
   "cell_type": "code",
   "execution_count": null,
   "metadata": {},
   "outputs": [],
   "source": [
    "grammar = \"\"\"\n",
    "... Chunk: {<.*>+}\n",
    "...        }<JJ>{\"\"\""
   ]
  },
  {
   "cell_type": "markdown",
   "metadata": {},
   "source": [
    "1. The first rule of your grammar is {<.*>+}. This rule has curly braces that face inward ({}) because it’s used to determine what patterns you want to include in you chunks. In this case, you want to include everything: <.*>+.\n",
    "\n",
    "2. The second rule of your grammar is }<JJ>{. This rule has curly braces that face outward (}{) because it’s used to determine what patterns you want to exclude in your chunks. In this case, you want to exclude adjectives: <JJ>."
   ]
  },
  {
   "cell_type": "markdown",
   "metadata": {},
   "source": [
    "Create a chunk parser with this grammar:"
   ]
  },
  {
   "cell_type": "code",
   "execution_count": null,
   "metadata": {},
   "outputs": [],
   "source": [
    "chunk_parser = nltk.RegexpParser(grammar)"
   ]
  },
  {
   "cell_type": "markdown",
   "metadata": {},
   "source": [
    "Now chunk sentence with the chink you specified:"
   ]
  },
  {
   "cell_type": "code",
   "execution_count": null,
   "metadata": {},
   "outputs": [],
   "source": [
    "tree = chunk_parser.parse(lotr_pos_tags)"
   ]
  },
  {
   "cell_type": "code",
   "execution_count": null,
   "metadata": {},
   "outputs": [],
   "source": [
    "tree"
   ]
  },
  {
   "cell_type": "markdown",
   "metadata": {},
   "source": [
    "In this case, ('dangerous', 'JJ') was excluded from the chunks because it’s an adjective (JJ). "
   ]
  },
  {
   "cell_type": "markdown",
   "metadata": {},
   "source": [
    "<b>Named Entity Recognition (NER)<b>"
   ]
  },
  {
   "cell_type": "markdown",
   "metadata": {},
   "source": [
    "Named entities are noun phrases that refer to specific locations, people, organizations, and so on. With named entity recognition, we will able to find the named entities in texts and also determine what kind of named entity they are."
   ]
  },
  {
   "cell_type": "code",
   "execution_count": null,
   "metadata": {},
   "outputs": [],
   "source": [
    "tree = nltk.ne_chunk(lotr_pos_tags)"
   ]
  },
  {
   "cell_type": "code",
   "execution_count": null,
   "metadata": {},
   "outputs": [],
   "source": [
    "tree"
   ]
  },
  {
   "cell_type": "markdown",
   "metadata": {},
   "source": [
    " Create a string from which to extract named entities. We are using this quote from The War of the Worlds:"
   ]
  },
  {
   "cell_type": "code",
   "execution_count": null,
   "metadata": {},
   "outputs": [],
   "source": [
    "quote = \"\"\"Men like Schiaparelli watched the red planet—it is odd, by-the-bye, that for countless centuries Mars has been the star of war—but failed to\n",
    "interpret the fluctuating appearances of the markings they mapped so well. All that time the Martians must have been getting ready.\n",
    "During the opposition of 1894 a great light was seen on the illuminated part of the disk, first at the Lick Observatory, then by Perrotin of Nice,\n",
    "and then by other observers. English readers heard of it first in the issue of Nature dated August 2.\"\"\""
   ]
  },
  {
   "cell_type": "code",
   "execution_count": null,
   "metadata": {},
   "outputs": [],
   "source": [
    "def extract_ne(quote):\n",
    "    words = word_tokenize(quote, language=\"english\")\n",
    "    tags = nltk.pos_tag(words)\n",
    "    tree = nltk.ne_chunk(tags, binary=True)\n",
    "    return set(\n",
    "        \" \".join(i[0] for i in t)\n",
    "        for t in tree\n",
    "        if hasattr(t, \"label\") and t.label() == \"NE\")"
   ]
  },
  {
   "cell_type": "markdown",
   "metadata": {},
   "source": [
    "With this function, we gather all named entities, with no repeats. in order to get this done,<br> We tokenize by word, apply part of speech tags to those words, and then extract named entities based on those tags."
   ]
  },
  {
   "cell_type": "code",
   "execution_count": null,
   "metadata": {},
   "outputs": [],
   "source": [
    "extract_ne(quote)"
   ]
  },
  {
   "cell_type": "markdown",
   "metadata": {},
   "source": [
    "We got the following:\n",
    "1. An institution: 'Lick Observatory'\n",
    "2. A planet: 'Mars'\n",
    "3. A publication: 'Nature'\n",
    "4. People: 'Perrotin', 'Schiaparelli'"
   ]
  }
 ],
 "metadata": {
  "colab": {
   "authorship_tag": "ABX9TyNqJcFRy5zkkWuKKD4hpKbX",
   "collapsed_sections": [],
   "name": "Text Preprocessing.ipynb",
   "provenance": []
  },
  "kernelspec": {
   "display_name": "Python 3 (ipykernel)",
   "language": "python",
   "name": "python3"
  },
  "language_info": {
   "codemirror_mode": {
    "name": "ipython",
    "version": 3
   },
   "file_extension": ".py",
   "mimetype": "text/x-python",
   "name": "python",
   "nbconvert_exporter": "python",
   "pygments_lexer": "ipython3",
   "version": "3.8.10"
  }
 },
 "nbformat": 4,
 "nbformat_minor": 1
}
