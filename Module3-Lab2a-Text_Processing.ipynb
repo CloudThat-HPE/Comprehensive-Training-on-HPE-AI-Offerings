{
 "cells": [
  {
   "cell_type": "markdown",
   "metadata": {
    "id": "YRBQfuZev7q3"
   },
   "source": [
    "# **Import Regex Library**"
   ]
  },
  {
   "cell_type": "code",
   "execution_count": 1,
   "metadata": {
    "id": "7gE4zJ0Lqs-Q"
   },
   "outputs": [
    {
     "name": "stdout",
     "output_type": "stream",
     "text": [
      "2.2.1\n"
     ]
    }
   ],
   "source": [
    "import re\n",
    "print(re.__version__)"
   ]
  },
  {
   "cell_type": "markdown",
   "metadata": {
    "id": "h7E-KVMcr7Dp"
   },
   "source": [
    "# **Detect and Remove HTML Tags**"
   ]
  },
  {
   "cell_type": "code",
   "execution_count": 2,
   "metadata": {
    "id": "G7SvFjds7VfC"
   },
   "outputs": [
    {
     "name": "stdout",
     "output_type": "stream",
     "text": [
      "['<p>', '<b>', '</b>', '</p>']\n",
      "Follow this website for more details. \n"
     ]
    }
   ],
   "source": [
    "text = \"<p>Follow this <b>website</b> for more details. </p>\"\n",
    "x = re.findall(\"<.*?>\", text)\n",
    "print(x)\n",
    "z = re.sub(\"<.*?>\", \"\", text)\n",
    "print(z)"
   ]
  },
  {
   "cell_type": "markdown",
   "metadata": {
    "id": "oe_lB55ssKMn"
   },
   "source": [
    "# **Removing special characters and keeping only alphabets and numbers**"
   ]
  },
  {
   "cell_type": "code",
   "execution_count": 3,
   "metadata": {
    "id": "s57UIAbqlziY"
   },
   "outputs": [
    {
     "name": "stdout",
     "output_type": "stream",
     "text": [
      "2022 Partner of the Year Finalist Learning Award \n"
     ]
    }
   ],
   "source": [
    "text = \"2022 #Partner of the Year Finalist Learning #Award%%\"\n",
    "x = re.sub(\"[^a-zA-Z0-9]+\", \" \", text)\n",
    "print(x)"
   ]
  },
  {
   "cell_type": "markdown",
   "metadata": {
    "id": "HsQqBhNusYLf"
   },
   "source": [
    "# **Keeping only alphabets**"
   ]
  },
  {
   "cell_type": "code",
   "execution_count": 4,
   "metadata": {
    "id": "YBIqYM5K_Da7"
   },
   "outputs": [
    {
     "name": "stdout",
     "output_type": "stream",
     "text": [
      " Partner of the Year Finalist Learning Award \n"
     ]
    }
   ],
   "source": [
    "text = \"2022 #Partner of the Year Finalist Learning #Award%%\"\n",
    "x = re.sub(\"[^a-zA-Z]+\", \" \", text)\n",
    "print(x)"
   ]
  },
  {
   "cell_type": "markdown",
   "metadata": {
    "id": "Zr8t0cNisAzH"
   },
   "source": [
    "# **Detect and Remove URLs**"
   ]
  },
  {
   "cell_type": "code",
   "execution_count": 5,
   "metadata": {
    "id": "VBbIVvKv8Lja"
   },
   "outputs": [
    {
     "name": "stdout",
     "output_type": "stream",
     "text": [
      "['www.cloudthat.com', 'https://www.skillpipe.com/#/account/login']\n",
      "Visit  and login to \n"
     ]
    }
   ],
   "source": [
    "text = \"Visit www.cloudthat.com and login to https://www.skillpipe.com/#/account/login\"\n",
    "x = re.findall(\"https?://\\S+|www\\.\\S+\", text)\n",
    "print(x)\n",
    "z = re.sub(\"https?://\\S+|www\\.\\S+\", \"\", text)\n",
    "print(z)"
   ]
  },
  {
   "cell_type": "markdown",
   "metadata": {
    "id": "8FRAk7Citb5M"
   },
   "source": [
    "# **Detect and Remove Email IDs**"
   ]
  },
  {
   "cell_type": "code",
   "execution_count": 6,
   "metadata": {
    "id": "2rfP3Tp5tedX"
   },
   "outputs": [
    {
     "name": "stdout",
     "output_type": "stream",
     "text": [
      "['ctml@cloudthat.com', 'ctml123@gmail.com']\n",
      "Please send your feedback to  or \n"
     ]
    }
   ],
   "source": [
    "text = \"Please send your feedback to ctml@cloudthat.com or ctml123@gmail.com\"\n",
    "x = re.findall(\"[a-zA-Z0-9_\\-\\.]+@[a-zA-Z0-9_\\-\\.]+\\.[a-zA-Z]{2,5}\", text)\n",
    "print(x)\n",
    "z = re.sub(\"[a-zA-Z0-9_\\-\\.]+@[a-zA-Z0-9_\\-\\.]+\\.[a-zA-Z]{2,5}\", \"\", text)\n",
    "print(z)"
   ]
  },
  {
   "cell_type": "markdown",
   "metadata": {
    "id": "LB4Gsk2TsoOH"
   },
   "source": [
    "# **Replacing Multi-Spaces**"
   ]
  },
  {
   "cell_type": "code",
   "execution_count": 7,
   "metadata": {
    "id": "XtfACKmx0BCn"
   },
   "outputs": [
    {
     "name": "stdout",
     "output_type": "stream",
     "text": [
      "2022 Partner of the Year Finalist Learning Award\n"
     ]
    }
   ],
   "source": [
    "text = \"2022 Partner              of the Year          Finalist Learning Award\"\n",
    "x = re.sub(\"\\s+\", \" \", text)\n",
    "print(x)"
   ]
  },
  {
   "cell_type": "markdown",
   "metadata": {
    "id": "gS4QstuOVAX1"
   },
   "source": [
    "# **Import NLTK**"
   ]
  },
  {
   "cell_type": "code",
   "execution_count": 8,
   "metadata": {
    "id": "j4KnArh5VJUX"
   },
   "outputs": [
    {
     "name": "stdout",
     "output_type": "stream",
     "text": [
      "3.8.1\n"
     ]
    }
   ],
   "source": [
    "import nltk\n",
    "print(nltk.__version__)"
   ]
  },
  {
   "cell_type": "markdown",
   "metadata": {
    "id": "ZAv8pHH3WgO7"
   },
   "source": [
    "# **Tokenization**"
   ]
  },
  {
   "cell_type": "code",
   "execution_count": 9,
   "metadata": {
    "id": "4bBUclgMVqWu"
   },
   "outputs": [
    {
     "name": "stderr",
     "output_type": "stream",
     "text": [
      "[nltk_data] Downloading package punkt to /home/amits/nltk_data...\n",
      "[nltk_data]   Unzipping tokenizers/punkt.zip.\n"
     ]
    },
    {
     "name": "stdout",
     "output_type": "stream",
     "text": [
      "['Diversity is an important issue for any modern business, but it’s not enough to simply hire people of different nationalities, races, genders and sexual orientations.', 'Everyone needs to feel welcome, safe and free to be themselves in the workplace.', 'If you focus on diversity, equity and inclusion (DEI) in your workplace, your business’s culture and bottom line will benefit.', 'Inclusive workplaces go the extra mile to consider the safety and comfortability of all employees, especially those in marginalized groups.', 'For example, gendered bathrooms have the potential to make transgender and gender-nonconforming employees uncomfortable, especially in light of controversial “bathroom bills” in multiple states that could or already do impact transgender people’s rights.', 'On a broader level, inclusive spaces can be created simply by spending time with one another.', 'Consider hosting team lunches and other informal events where employees can casually connect with each other.', 'If your company is bigger, creating an in-office support group or network for diverse employees can help them connect with others who share their experiences.']\n",
      "8\n",
      "['Diversity', 'is', 'an', 'important', 'issue', 'for', 'any', 'modern', 'business', ',', 'but', 'it', '’', 's', 'not', 'enough', 'to', 'simply', 'hire', 'people', 'of', 'different', 'nationalities', ',', 'races', ',', 'genders', 'and', 'sexual', 'orientations', '.', 'Everyone', 'needs', 'to', 'feel', 'welcome', ',', 'safe', 'and', 'free', 'to', 'be', 'themselves', 'in', 'the', 'workplace', '.', 'If', 'you', 'focus', 'on', 'diversity', ',', 'equity', 'and', 'inclusion', '(', 'DEI', ')', 'in', 'your', 'workplace', ',', 'your', 'business', '’', 's', 'culture', 'and', 'bottom', 'line', 'will', 'benefit', '.', 'Inclusive', 'workplaces', 'go', 'the', 'extra', 'mile', 'to', 'consider', 'the', 'safety', 'and', 'comfortability', 'of', 'all', 'employees', ',', 'especially', 'those', 'in', 'marginalized', 'groups', '.', 'For', 'example', ',', 'gendered', 'bathrooms', 'have', 'the', 'potential', 'to', 'make', 'transgender', 'and', 'gender-nonconforming', 'employees', 'uncomfortable', ',', 'especially', 'in', 'light', 'of', 'controversial', '“', 'bathroom', 'bills', '”', 'in', 'multiple', 'states', 'that', 'could', 'or', 'already', 'do', 'impact', 'transgender', 'people', '’', 's', 'rights', '.', 'On', 'a', 'broader', 'level', ',', 'inclusive', 'spaces', 'can', 'be', 'created', 'simply', 'by', 'spending', 'time', 'with', 'one', 'another', '.', 'Consider', 'hosting', 'team', 'lunches', 'and', 'other', 'informal', 'events', 'where', 'employees', 'can', 'casually', 'connect', 'with', 'each', 'other', '.', 'If', 'your', 'company', 'is', 'bigger', ',', 'creating', 'an', 'in-office', 'support', 'group', 'or', 'network', 'for', 'diverse', 'employees', 'can', 'help', 'them', 'connect', 'with', 'others', 'who', 'share', 'their', 'experiences', '.']\n",
      "198\n"
     ]
    }
   ],
   "source": [
    "nltk.download('punkt')\n",
    "\n",
    "paragraph = \"\"\"Diversity is an important issue for any modern business, but it’s not enough to simply hire people of different nationalities, races, genders and sexual orientations. \n",
    "                Everyone needs to feel welcome, safe and free to be themselves in the workplace. \n",
    "                If you focus on diversity, equity and inclusion (DEI) in your workplace, your business’s culture and bottom line will benefit. \n",
    "                Inclusive workplaces go the extra mile to consider the safety and comfortability of all employees, especially those in marginalized groups. \n",
    "                For example, gendered bathrooms have the potential to make transgender and gender-nonconforming employees uncomfortable, especially in light of controversial “bathroom bills” in multiple states that could or already do impact transgender people’s rights. \n",
    "                On a broader level, inclusive spaces can be created simply by spending time with one another. \n",
    "                Consider hosting team lunches and other informal events where employees can casually connect with each other. \n",
    "                If your company is bigger, creating an in-office support group or network for diverse employees can help them connect with others who share their experiences.\"\"\"\n",
    "               \n",
    "sentences = nltk.sent_tokenize(paragraph)\n",
    "print(sentences)\n",
    "print(len(sentences))\n",
    "\n",
    "words = nltk.word_tokenize(paragraph)\n",
    "print(words)\n",
    "print(len(words))"
   ]
  },
  {
   "cell_type": "code",
   "execution_count": 10,
   "metadata": {
    "id": "2hDiC-6wAyXR"
   },
   "outputs": [
    {
     "name": "stdout",
     "output_type": "stream",
     "text": [
      "('You', 'will', 'face')\n",
      "('will', 'face', 'many')\n",
      "('face', 'many', 'defeats')\n",
      "('many', 'defeats', 'in')\n",
      "('defeats', 'in', 'life,')\n",
      "('in', 'life,', 'but')\n",
      "('life,', 'but', 'never')\n",
      "('but', 'never', 'let')\n",
      "('never', 'let', 'yourself')\n",
      "('let', 'yourself', 'be')\n",
      "('yourself', 'be', 'defeated.')\n"
     ]
    }
   ],
   "source": [
    "from nltk.util import ngrams\n",
    "\n",
    "n = 3\n",
    "sentence = 'You will face many defeats in life, but never let yourself be defeated.'\n",
    "bigrams = ngrams(sentence.split(), n)\n",
    "\n",
    "for item in bigrams:\n",
    "    print(item)"
   ]
  },
  {
   "cell_type": "markdown",
   "metadata": {
    "id": "YnzZAnbxVWZ0"
   },
   "source": [
    "# **Printing Stop Words in English**"
   ]
  },
  {
   "cell_type": "code",
   "execution_count": 11,
   "metadata": {
    "id": "SZWKWyyrVNVO"
   },
   "outputs": [
    {
     "name": "stdout",
     "output_type": "stream",
     "text": [
      "['i', 'me', 'my', 'myself', 'we', 'our', 'ours', 'ourselves', 'you', \"you're\", \"you've\", \"you'll\", \"you'd\", 'your', 'yours', 'yourself', 'yourselves', 'he', 'him', 'his', 'himself', 'she', \"she's\", 'her', 'hers', 'herself', 'it', \"it's\", 'its', 'itself', 'they', 'them', 'their', 'theirs', 'themselves', 'what', 'which', 'who', 'whom', 'this', 'that', \"that'll\", 'these', 'those', 'am', 'is', 'are', 'was', 'were', 'be', 'been', 'being', 'have', 'has', 'had', 'having', 'do', 'does', 'did', 'doing', 'a', 'an', 'the', 'and', 'but', 'if', 'or', 'because', 'as', 'until', 'while', 'of', 'at', 'by', 'for', 'with', 'about', 'against', 'between', 'into', 'through', 'during', 'before', 'after', 'above', 'below', 'to', 'from', 'up', 'down', 'in', 'out', 'on', 'off', 'over', 'under', 'again', 'further', 'then', 'once', 'here', 'there', 'when', 'where', 'why', 'how', 'all', 'any', 'both', 'each', 'few', 'more', 'most', 'other', 'some', 'such', 'no', 'nor', 'not', 'only', 'own', 'same', 'so', 'than', 'too', 'very', 's', 't', 'can', 'will', 'just', 'don', \"don't\", 'should', \"should've\", 'now', 'd', 'll', 'm', 'o', 're', 've', 'y', 'ain', 'aren', \"aren't\", 'couldn', \"couldn't\", 'didn', \"didn't\", 'doesn', \"doesn't\", 'hadn', \"hadn't\", 'hasn', \"hasn't\", 'haven', \"haven't\", 'isn', \"isn't\", 'ma', 'mightn', \"mightn't\", 'mustn', \"mustn't\", 'needn', \"needn't\", 'shan', \"shan't\", 'shouldn', \"shouldn't\", 'wasn', \"wasn't\", 'weren', \"weren't\", 'won', \"won't\", 'wouldn', \"wouldn't\"]\n"
     ]
    },
    {
     "name": "stderr",
     "output_type": "stream",
     "text": [
      "[nltk_data] Downloading package stopwords to /home/amits/nltk_data...\n",
      "[nltk_data]   Unzipping corpora/stopwords.zip.\n"
     ]
    }
   ],
   "source": [
    "from nltk.corpus import stopwords\n",
    "nltk.download('stopwords')\n",
    "\n",
    "print(stopwords.words('english'))"
   ]
  },
  {
   "cell_type": "markdown",
   "metadata": {
    "id": "4wRZu81TY6MS"
   },
   "source": [
    "# **Stemming**"
   ]
  },
  {
   "cell_type": "code",
   "execution_count": 12,
   "metadata": {
    "id": "8vjnUZCbYTgg"
   },
   "outputs": [
    {
     "name": "stdout",
     "output_type": "stream",
     "text": [
      "['divers import issu modern busi enough simpli hire peopl differ nation race gender sexual orient', 'everyon need feel welcom safe free workplac', 'focu divers equiti inclus dei workplac busi cultur bottom line benefit', 'inclus workplac go extra mile consid safeti comfort employe especi margin group', 'exampl gender bathroom potenti make transgend gender nonconform employe uncomfort especi light controversi bathroom bill multipl state could alreadi impact transgend peopl right', 'broader level inclus space creat simpli spend time one anoth', 'consid host team lunch inform event employe casual connect', 'compani bigger creat offic support group network divers employe help connect other share experi']\n"
     ]
    }
   ],
   "source": [
    "from nltk.stem import PorterStemmer\n",
    "from nltk.corpus import stopwords\n",
    "\n",
    "paragraph = \"\"\"Diversity is an important issue for any modern business, but it’s not enough to simply hire people of different nationalities, races, genders and sexual orientations. \n",
    "                Everyone needs to feel welcome, safe and free to be themselves in the workplace. \n",
    "                If you focus on diversity, equity and inclusion (DEI) in your workplace, your business’s culture and bottom line will benefit. \n",
    "                Inclusive workplaces go the extra mile to consider the safety and comfortability of all employees, especially those in marginalized groups. \n",
    "                For example, gendered bathrooms have the potential to make transgender and gender-nonconforming employees uncomfortable, especially in light of controversial “bathroom bills” in multiple states that could or already do impact transgender people’s rights. \n",
    "                On a broader level, inclusive spaces can be created simply by spending time with one another. \n",
    "                Consider hosting team lunches and other informal events where employees can casually connect with each other. \n",
    "                If your company is bigger, creating an in-office support group or network for diverse employees can help them connect with others who share their experiences.\"\"\"              \n",
    "\n",
    "sentences = nltk.sent_tokenize(paragraph)\n",
    "stemmer = PorterStemmer()\n",
    "corpus = []\n",
    "\n",
    "for i in range(len(sentences)):\n",
    "    sentence = re.sub(\"[^a-zA-Z]\", \" \", sentences[i])\n",
    "    sentence = sentence.lower()\n",
    "    words = nltk.word_tokenize(sentence)\n",
    "    words = [stemmer.stem(word) for word in words if word not in set(stopwords.words('english'))]\n",
    "    sentence = ' '.join(words)\n",
    "    corpus.append(sentence)  \n",
    "\n",
    "print(corpus)    "
   ]
  },
  {
   "cell_type": "markdown",
   "metadata": {
    "id": "1FFaWHR_Zx9X"
   },
   "source": [
    "# **Lemmatization**"
   ]
  },
  {
   "cell_type": "code",
   "execution_count": 13,
   "metadata": {
    "id": "ZB0j0k1FZ3Br"
   },
   "outputs": [
    {
     "name": "stderr",
     "output_type": "stream",
     "text": [
      "[nltk_data] Downloading package wordnet to /home/amits/nltk_data...\n",
      "[nltk_data] Downloading package omw-1.4 to /home/amits/nltk_data...\n"
     ]
    },
    {
     "name": "stdout",
     "output_type": "stream",
     "text": [
      "['thank much', 'thank academy', 'thank room', 'congratulate incredible nominee year', 'revenant product tireless effort unbelievable cast crew', 'first brother endeavor mr tom hardy', 'tom talent screen surpassed friendship screen thank creating ranscendent cinematic experience', 'thank everybody fox new regency entire team', 'thank everyone onset career parent none would possible without', 'friend love dearly know', 'lastly want say making revenant man relationship natural world', 'world collectively felt hottest year recorded history', 'production needed move southern tip planet able find snow', 'climate change real happening right', 'urgent threat facing entire specie need work collectively together stop procrastinating', 'need support leader around world speak big polluter speak humanity indigenous people world billion billion underprivileged people would affected', 'child child people whose voice drowned politics greed', 'thank amazing award tonight', 'let u take planet granted', 'take tonight granted', 'thank much']\n"
     ]
    }
   ],
   "source": [
    "from nltk.stem import WordNetLemmatizer\n",
    "from nltk.corpus import stopwords\n",
    "nltk.download('wordnet')\n",
    "nltk.download('omw-1.4')\n",
    "\n",
    "paragraph = \"\"\"Thank you all so very much. Thank you to the Academy. \n",
    "               Thank you to all of you in this room. I have to congratulate \n",
    "               the other incredible nominees this year. The Revenant was \n",
    "               the product of the tireless efforts of an unbelievable cast\n",
    "               and crew. First off, to my brother in this endeavor, Mr. Tom \n",
    "               Hardy. Tom, your talent on screen can only be surpassed by \n",
    "               your friendship off screen … thank you for creating a t\n",
    "               ranscendent cinematic experience. Thank you to everybody at \n",
    "               Fox and New Regency … my entire team. I have to thank \n",
    "               everyone from the very onset of my career … To my parents; \n",
    "               none of this would be possible without you. And to my \n",
    "               friends, I love you dearly; you know who you are. And lastly,\n",
    "               I just want to say this: Making The Revenant was about\n",
    "               man's relationship to the natural world. A world that we\n",
    "               collectively felt in 2015 as the hottest year in recorded\n",
    "               history. Our production needed to move to the southern\n",
    "               tip of this planet just to be able to find snow. Climate\n",
    "               change is real, it is happening right now. It is the most\n",
    "               urgent threat facing our entire species, and we need to work\n",
    "               collectively together and stop procrastinating. We need to\n",
    "               support leaders around the world who do not speak for the \n",
    "               big polluters, but who speak for all of humanity, for the\n",
    "               indigenous people of the world, for the billions and \n",
    "               billions of underprivileged people out there who would be\n",
    "               most affected by this. For our children’s children, and \n",
    "               for those people out there whose voices have been drowned\n",
    "               out by the politics of greed. I thank you all for this \n",
    "               amazing award tonight. Let us not take this planet for \n",
    "               granted. I do not take tonight for granted. Thank you so very much.\"\"\"\n",
    "\n",
    "sentences = nltk.sent_tokenize(paragraph)\n",
    "lemmatizer = WordNetLemmatizer()\n",
    "corpus = []\n",
    "\n",
    "for i in range(len(sentences)):\n",
    "    sentence = re.sub(\"[^a-zA-Z]\", \" \", sentences[i])\n",
    "    sentence = sentence.lower()\n",
    "    words = nltk.word_tokenize(sentence)\n",
    "    words = [lemmatizer.lemmatize(word) for word in words if word not in set(stopwords.words('english'))]\n",
    "    sentence = ' '.join(words)\n",
    "    corpus.append(sentence)  \n",
    "\n",
    "print(corpus)  "
   ]
  },
  {
   "cell_type": "code",
   "execution_count": null,
   "metadata": {},
   "outputs": [],
   "source": []
  }
 ],
 "metadata": {
  "colab": {
   "authorship_tag": "ABX9TyNqJcFRy5zkkWuKKD4hpKbX",
   "collapsed_sections": [],
   "name": "Text Preprocessing.ipynb",
   "provenance": []
  },
  "kernelspec": {
   "display_name": "Python 3 (ipykernel)",
   "language": "python",
   "name": "python3"
  },
  "language_info": {
   "codemirror_mode": {
    "name": "ipython",
    "version": 3
   },
   "file_extension": ".py",
   "mimetype": "text/x-python",
   "name": "python",
   "nbconvert_exporter": "python",
   "pygments_lexer": "ipython3",
   "version": "3.8.10"
  }
 },
 "nbformat": 4,
 "nbformat_minor": 1
}
