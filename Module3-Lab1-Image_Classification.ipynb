{
 "cells": [
  {
   "cell_type": "markdown",
   "id": "0d92e55e",
   "metadata": {},
   "source": [
    "#### Problem Statement: Train the CNN Model for Classifying images from CIFAR-10 dataset."
   ]
  },
  {
   "cell_type": "code",
   "execution_count": null,
   "id": "acc4410f",
   "metadata": {},
   "outputs": [],
   "source": [
    "import findspark\n",
    "findspark.init()"
   ]
  },
  {
   "cell_type": "code",
   "execution_count": null,
   "id": "a25483ee",
   "metadata": {},
   "outputs": [],
   "source": [
    "import pyspark\n",
    "from pyspark import SparkConf\n",
    "from pyspark.sql import SparkSession\n",
    "#Create new spark session\n",
    "conf = SparkConf()\n",
    "spark = SparkSession.builder \\\n",
    "    .master('local[5]') \\\n",
    "    .config('spark.driver.memory','16g') \\\n",
    "    .appName('CIFAR10 image classification') \\\n",
    "    .getOrCreate()"
   ]
  },
  {
   "cell_type": "code",
   "execution_count": null,
   "id": "89b1ec23",
   "metadata": {},
   "outputs": [],
   "source": [
    "sc = spark.sparkContext\n",
    "sc"
   ]
  },
  {
   "cell_type": "code",
   "execution_count": null,
   "id": "c4652865",
   "metadata": {},
   "outputs": [],
   "source": [
    "import matplotlib.pyplot as plt"
   ]
  },
  {
   "cell_type": "markdown",
   "id": "f5e58934",
   "metadata": {},
   "source": [
    "CIFAR-10 is an image dataset. \n",
    "It contains 60000 tiny color images with the size of 32 by 32 pixels.\n",
    "The dataset consists of 10 different classes (i.e. airplane, automobile, bird, cat, deer, dog, frog, horse, ship and truck), in which each of those classes consists of 6000 images."
   ]
  },
  {
   "cell_type": "code",
   "execution_count": null,
   "id": "91bbf37b",
   "metadata": {},
   "outputs": [],
   "source": [
    "#Import CIFAR10 dataset\n",
    "from keras.datasets import cifar10\n",
    "#  Split data set into training and test dataset\n",
    "(x_train, y_train), (x_test, y_test) = cifar10.load_data()"
   ]
  },
  {
   "cell_type": "markdown",
   "id": "8d479546",
   "metadata": {},
   "source": [
    "The dataset size itself is around 160 MB.<br>\n",
    "After the code finishes running, the dataset is going to be stored automatically to X_train, y_train, X_test and y_test variables, where the training and testing data itself consist of 50000 and 10000 samples respectively."
   ]
  },
  {
   "cell_type": "markdown",
   "id": "779b4a43",
   "metadata": {},
   "source": [
    "Now if we try to print out the shape of training data (X_train.shape), we will get the following output.<br>\n",
    "(50000, 32, 32, 3)<br>\n",
    "(number of samples, height, width, color channels)"
   ]
  },
  {
   "cell_type": "code",
   "execution_count": null,
   "id": "9be5f503",
   "metadata": {},
   "outputs": [],
   "source": [
    "#Display the dimension and the sample images\n",
    "print('x_train shape:', x_train.shape)"
   ]
  },
  {
   "cell_type": "code",
   "execution_count": null,
   "id": "821d9b46",
   "metadata": {},
   "outputs": [],
   "source": [
    "#Display the dimension and the sample images\n",
    "print('y_train shape:', y_train.shape)"
   ]
  },
  {
   "cell_type": "markdown",
   "id": "08094c27",
   "metadata": {},
   "source": [
    "if we try to print out the value of y_train, it will output labels which are all already encoded into numbers"
   ]
  },
  {
   "cell_type": "code",
   "execution_count": null,
   "id": "e9f375c3",
   "metadata": {},
   "outputs": [],
   "source": [
    "y_train"
   ]
  },
  {
   "cell_type": "markdown",
   "id": "8104143b",
   "metadata": {},
   "source": [
    "Its difficult to interpret those encoded labels, so Lets create a list of actual label names."
   ]
  },
  {
   "cell_type": "code",
   "execution_count": null,
   "id": "bc1df79a",
   "metadata": {},
   "outputs": [],
   "source": [
    "# select features into variable 'class_name'\n",
    "class_names = ['airplane', 'automobile', 'bird', 'cat', 'deer',\n",
    "               'dog', 'frog', 'horse', 'ship', 'truck']"
   ]
  },
  {
   "cell_type": "markdown",
   "id": "0d36354d",
   "metadata": {},
   "source": [
    "The code Below tells the computer that we are about to display the first 21 images in the dataset which are divided into 7 columns and 3 rows. <br> The figsize argument is used just to define the size of our figure.<br> set_title() method is used to set the title and display the images using imshow() method."
   ]
  },
  {
   "cell_type": "code",
   "execution_count": null,
   "id": "5476e094",
   "metadata": {},
   "outputs": [],
   "source": [
    "fig, axes = plt.subplots(ncols=7, nrows=3, figsize=(17, 8))\n",
    "index = 0\n",
    "for i in range(3):\n",
    "    for j in range(7):\n",
    "        axes[i,j].set_title(class_names[y_train[index][0]])\n",
    "        axes[i,j].imshow(x_train[index])\n",
    "        axes[i,j].get_xaxis().set_visible(False)\n",
    "        axes[i,j].get_yaxis().set_visible(False)\n",
    "        index += 1\n",
    "plt.show()"
   ]
  },
  {
   "cell_type": "markdown",
   "id": "169fa223",
   "metadata": {},
   "source": [
    "y_train and y_test labels are still in form of a single number ranging from 0 to 9 stored in array.<br>In fact, such labels are not the one that a neural network expect.<br>Instead, all those labels should be in form of one-hot representation."
   ]
  },
  {
   "cell_type": "code",
   "execution_count": null,
   "id": "1f47e1a0",
   "metadata": {},
   "outputs": [],
   "source": [
    "#Convert images using one hot encoding\n",
    "from keras.utils import np_utils\n",
    "import keras\n",
    "y_train_one_hot = np_utils.to_categorical(y_train, 10)\n",
    "y_test_one_hot = np_utils.to_categorical(y_test, 10)\n",
    "print('The one hot label is:', y_train_one_hot[1])"
   ]
  },
  {
   "cell_type": "code",
   "execution_count": null,
   "id": "62f9647c",
   "metadata": {},
   "outputs": [],
   "source": [
    "#Convert the images and display as an array\n",
    "x_train = x_train.astype('float32')\n",
    "x_test = x_test.astype('float32')\n",
    "x_train = x_train / 255\n",
    "x_test = x_test / 255\n",
    "x_train[0]"
   ]
  },
  {
   "cell_type": "code",
   "execution_count": null,
   "id": "3dacde3a",
   "metadata": {},
   "outputs": [],
   "source": [
    "#Create the convolutional neural network model and display the model\n",
    "from keras.models import Sequential\n",
    "from keras.layers import Dense, Dropout, Flatten, Conv2D, MaxPooling2D\n",
    "model = Sequential()\n",
    "model.add(Conv2D(32, (3, 3), activation='relu', padding='same', input_shape=(32,32,3)))\n",
    "model.add(Conv2D(32, (3, 3), activation='relu', padding='same'))\n",
    "model.add(MaxPooling2D(pool_size=(2, 2)))\n",
    "model.add(Dropout(0.25))\n",
    "model.add(Conv2D(64, (3, 3), activation='relu', padding='same'))\n",
    "model.add(Conv2D(64, (3, 3), activation='relu', padding='same'))\n",
    "model.add(MaxPooling2D(pool_size=(2, 2)))\n",
    "model.add(Dropout(0.25))\n",
    "model.add(Flatten())\n",
    "model.add(Dense(512, activation='relu'))\n",
    "model.add(Dropout(0.5))\n",
    "model.add(Dense(10, activation='softmax'))"
   ]
  },
  {
   "cell_type": "code",
   "execution_count": null,
   "id": "8a72b1e8",
   "metadata": {},
   "outputs": [],
   "source": [
    "model.summary()"
   ]
  },
  {
   "cell_type": "code",
   "execution_count": null,
   "id": "d8d18835",
   "metadata": {},
   "outputs": [],
   "source": [
    "model.compile(loss='categorical_crossentropy',optimizer='adam',metrics=['accuracy'])"
   ]
  },
  {
   "cell_type": "code",
   "execution_count": null,
   "id": "0222fc87",
   "metadata": {},
   "outputs": [],
   "source": [
    "hist = model.fit(x_train, y_train_one_hot, \n",
    "           batch_size=32, epochs=2, \n",
    "           validation_split=0.2)"
   ]
  },
  {
   "cell_type": "code",
   "execution_count": null,
   "id": "a5d472a4",
   "metadata": {},
   "outputs": [],
   "source": [
    "#Plot the model loss \n",
    "plt.plot(hist.history['loss'])\n",
    "plt.plot(hist.history['val_loss'])\n",
    "plt.title('Model loss')\n",
    "plt.ylabel('Loss')\n",
    "plt.xlabel('Epoch')\n",
    "plt.legend(['Train', 'Val'], loc='upper right')\n",
    "plt.show()"
   ]
  },
  {
   "cell_type": "code",
   "execution_count": null,
   "id": "8754c5c7",
   "metadata": {},
   "outputs": [],
   "source": [
    "#Plot Model accuracy \n",
    "plt.plot(hist.history['accuracy'])\n",
    "plt.plot(hist.history['val_accuracy'])\n",
    "plt.title('Model accuracy')\n",
    "plt.ylabel('Accuracy')\n",
    "plt.xlabel('Epoch')\n",
    "plt.legend(['Train', 'Val'], loc='lower right')\n",
    "plt.show()"
   ]
  },
  {
   "cell_type": "code",
   "execution_count": null,
   "id": "fe9f3add",
   "metadata": {},
   "outputs": [],
   "source": [
    "#Evaluate the accuracy of the model\n",
    "model.evaluate(x_test, y_test_one_hot)[1]"
   ]
  },
  {
   "cell_type": "code",
   "execution_count": null,
   "id": "d5119441",
   "metadata": {},
   "outputs": [],
   "source": [
    "import numpy as np\n",
    "# select the image from our test dataset\n",
    "image_number = 0\n",
    " \n",
    "# display the image\n",
    "plt.imshow(x_test[image_number])\n",
    "\n",
    "# load the image in an array\n",
    "n = np.array(x_test[image_number])\n",
    " \n",
    "# reshape it\n",
    "p = n.reshape(1, 32, 32, 3)\n",
    "\n",
    "# pass in the network for prediction and\n",
    "# save the predicted label\n",
    "predicted_label = class_names[model.predict(p).argmax()]\n",
    " \n",
    "# load the original label\n",
    "original_label = class_names[y_test[image_number][0]]\n",
    " \n",
    "# display the result\n",
    "print(\"Original label is {} and predicted label is {}\".format(\n",
    "    original_label, predicted_label))"
   ]
  },
  {
   "cell_type": "code",
   "execution_count": null,
   "id": "8921063d",
   "metadata": {},
   "outputs": [],
   "source": [
    "fig, axes = plt.subplots(ncols=7, nrows=3, sharex=False,\n",
    "    sharey=True, figsize=(17, 8))\n",
    "index = 0\n",
    "for i in range(3):\n",
    "    for j in range(7):\n",
    "        n = np.array(x_test[index])\n",
    "        p = n.reshape(1, 32, 32, 3)\n",
    "        axes[i,j].set_title('actual:' + class_names[y_test[index][0]] + '\\n' \n",
    "                            + 'predicted:' + class_names[model.predict(p).argmax()])\n",
    "        axes[i,j].imshow(x_test[index], cmap='gray')\n",
    "        axes[i,j].get_xaxis().set_visible(False)\n",
    "        axes[i,j].get_yaxis().set_visible(False)\n",
    "        index += 1\n",
    "plt.show()"
   ]
  },
  {
   "cell_type": "code",
   "execution_count": null,
   "id": "de9c8ea7",
   "metadata": {},
   "outputs": [],
   "source": [
    "sc.stop"
   ]
  },
  {
   "cell_type": "code",
   "execution_count": null,
   "id": "9e357626",
   "metadata": {},
   "outputs": [],
   "source": [
    "spark.stop()"
   ]
  }
 ],
 "metadata": {
  "kernelspec": {
   "display_name": "Python 3 (ipykernel)",
   "language": "python",
   "name": "python3"
  },
  "language_info": {
   "codemirror_mode": {
    "name": "ipython",
    "version": 3
   },
   "file_extension": ".py",
   "mimetype": "text/x-python",
   "name": "python",
   "nbconvert_exporter": "python",
   "pygments_lexer": "ipython3",
   "version": "3.8.10"
  }
 },
 "nbformat": 4,
 "nbformat_minor": 5
}
